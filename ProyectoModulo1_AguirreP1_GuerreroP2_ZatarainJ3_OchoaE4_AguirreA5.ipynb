{
 "cells": [
  {
   "cell_type": "markdown",
   "metadata": {},
   "source": [
    "# Data Science Project - Lending Club\n",
    "\n",
    "<img style=\"float: right; margin: -30px 60px 0px 0px;\" src=\"https://upload.wikimedia.org/wikipedia/de/thumb/e/e0/Logo_ITESO_Universidad_Guadalajara.svg/1200px-Logo_ITESO_Universidad_Guadalajara.svg.png\" width=\"100px\" height=\"300px\" />\n",
    "\n",
    "<img style=\"float: right; margin: -60px 120px 0px 0px;\" src=\"https://todoprestamos.com.mx/wp-content/uploads/2017/03/kueski4.png\" width=\"350px\" height=\"200px\" />\n",
    "\n",
    "* **Professor:** Oscar David Jaramillo Zuluaga\n",
    "* **Integrant 1:** Pablo Ángel Mendoza Aguirre\n",
    "* **Integrant 2:** Paulina Rodríguez Guerrero\n",
    "* **Integrant 3:** José Antonio Tirado Zatarain\n",
    "* **Integrant 4:** Esteban Limón Ochoa\n",
    "* **Integrant 5:** Alfonso Aguilar Aguirre"
   ]
  },
  {
   "cell_type": "markdown",
   "metadata": {},
   "source": [
    "## Table of Contents\n",
    "1 Introduction <br/>\n",
    "1.1 Objectives <br/>\n",
    "1.2 Problem's Definition <br/>\n",
    "1.3 Variables and Nodes to Simulate <br/>\n",
    "1.4 Assumptions and Hypothesis <br/>\n",
    "2 Development <br/>\n",
    "2.1 Databases <br/>\n",
    "2.1.1 Databases <br/>\n",
    "2.1.2 Databases Analisis <br/>\n",
    "2.1.3 Data Sampling <br/>\n",
    "2.2 Logistic Regression <br/>\n",
    "2.2.1 Loans Application Model <br/>\n",
    "2.2.2 Interpretation of Coefficients <br/>\n",
    "2.2.3 Statistical Significance and Performance of the Model <br/>\n",
    "2.3 Accepted Loans Model <br/>\n",
    "2.3.1 Accepted Loans Clustering <br/>\n",
    "2.3.2 Cluster-LoanGrade Relationship Analisis <br/>\n",
    "2.4 Profit Model <br/>\n",
    "2.4.1 Profit Relationship with other Variables <br/>\n",
    "2.4.2 Profit Prediction Model <br/>\n",
    "2.4.3 Performance and Variability of the Model <br/>\n",
    "2.4.4 Profit Maximization with the Model <br/>\n",
    "2.4.5 Comparison <br/>\n",
    "3 Discusion <br/>\n",
    "3.1 Results <br/>\n",
    "3.1.1 Logistic Regression Results <br/>\n",
    "3.1.2 Accepted Loans Model Results <br/>\n",
    "3.1.3 Profit Models Results <br/>\n",
    "4 Conclusions <br/>\n",
    "5 References <br/>"
   ]
  },
  {
   "cell_type": "markdown",
   "metadata": {},
   "source": [
    "# 1 Introduction"
   ]
  },
  {
   "cell_type": "markdown",
   "metadata": {},
   "source": [
    "## 1.1 Objectives\n",
    "**General Objective:**\n",
    "* Obtain business-driven conclusions from applying machine learning modeling to real world data.\n",
    "\n",
    "**Specific Objectives:**\n",
    "* Use logistic regression to build a model which predicts whether an application will be accepted or not, using only variables which are present both in the declined and accepted data sets.\n",
    "* Interpret the coefficients obtained from the logistic regression model giving a description of their statistical significance.\n",
    "* Evaluate the performance of the logistic regression model.\n",
    "* Perform clustering to the accepted loans data set using only features known at the time of the application, not including the credit grade.\n",
    "* Make an exploratory analysis to describe each cluster from the accepted loans data set with emphasis on the way different loan grades are distributed among clusters\n",
    "* Describe the relationships between interest rates, profit, default rate and grade, and calculate the profitability of the portfolio for the accepted loans data set.\n",
    "* Create a model for the accepted loans data set that predicts profit based on variables known at the time of application, including grade and interest rate.\n",
    "* Evaluate the performance of the Profit Model, reporting its expected value and variability when changing training sets.\n",
    "* Use the profit prediction model to maximize the profit by assigning the interest rate to each loan.\n",
    "* Determine if the profit model created is redituable."
   ]
  },
  {
   "cell_type": "markdown",
   "metadata": {},
   "source": [
    "## 1.2 Problem's Definition\n",
    "The company * Kueski * is an online platform that facilitates the obtenition of short-term loans. The company has to grant loans to people, however these people must fulfill certain requirements to be given the loan. The platform works as follows:\n",
    "1. The amount and term of the required loan must be indicated, with which the online application will show the amount to be paid at maturity.\n",
    "2. Personal information and bank accounts are requested.\n",
    "3. The characteristics of the candidate are analyzed and the loan application is accepted or rejected.\n",
    "4. If accepted, the creditor must pay the loan as well as its interest.\n",
    "\n",
    "It is appreciated that compared to a traditional loan, this platform makes it easier for the user to obtain them, since they are instantaneous and via Internet. This advantage to the user aims at a much greater risk for the institution that grants the loan, since the user profile is not observed in a meticulous way, and therefore there is a greater risk that the debtor will default on its payments.\n",
    "\n",
    "To solve the problem of credit risk it is important to distinguish the characteristics of the users that will pay in loan in the given term, and those of the users who will not comply with the payment. For this, it is important to generate a model that classifies users under these characteristics, determining whether or not they will comply with the loan payment. Also, is important to generate a model that classifies the users which application was accepted to determine if some characteristics of the user know at the time of the application are related with the loan grades. The results od these models could give * Kueski * a more efficient way to evaluate loan applications and reduce the credit risk.\n",
    "\n",
    "Moreover, in order to improve the profits of the company and give them a more statistical risk-reward strategy, a model could assign a *fair* insterest rate to the loan grade profile of the user that maximices the profit.\n",
    "\n",
    "\n",
    "Below is a diagram that indicates the important scenarios of the project and what each of them leads."
   ]
  },
  {
   "cell_type": "code",
   "execution_count": null,
   "metadata": {},
   "outputs": [],
   "source": []
  },
  {
   "cell_type": "markdown",
   "metadata": {},
   "source": [
    "## 1.3 Variables and Nodes\n",
    "**Variables:**\n",
    "* For the Regression Logistic Model\n",
    " * __Amount Requested__: Amount of money in dollars requested at the application.\n",
    " * __Employement Lenght__: Amount of time in months that the user has on its current job.\n",
    " * __ZIP Code__: First 4 digits of the user's Postal Code from the USPS.\n",
    " * __Debt-to-Income Ratio (DTI)__: ratio of recurring monthly debt by gross monthly income.\n",
    " * __Loan Status__: Tells if the loan application is accepted or rejected.\n",
    "* For the Accepted Loans Model\n",
    " * __Amount Requested__: Amount of money in dollars requested at the application.\n",
    " * __Term__: Duration in years of the loan.\n",
    " * __Employement Lenght__: Amount of time in months that the user has on its current job.\n",
    " * __Home-Owner__: Tells is the user rent, own or have a mortage on its home.\n",
    " * __Annual Income__: Annual gross income in dollars.\n",
    " * __Zip Code__: First 4 digits of the user's Postal Code from the USPS.\n",
    " * __Loan Grade__: Quality score to a loan based on credit history.\n",
    " * __Policy Acceptance__: The user fulfills the credit policy of the company.\n",
    "* For the Profit Model\n",
    " * __Profit__: Total amount paid minus the total amount disbursed of a closed loan.\n",
    " * __Defaut__: The status of a closed loan with negative profit.\n",
    " * __Interest Rates__: Percentage of annual interest as a proportion of the amount lent.\n",
    " * __Default Rate__: Percentage of the default loans from the total of accepted loans.\n",
    " * __Loan Grade__: Quality score to a loan based on credit history.\n",
    " * __Amount Disbursed__: Amount of money in dollars disbursed to the user.\n",
    " * __Term__: Duration in years of the loan.\n",
    " * __Employement Lenght__: Amount of time in months that the user has on its current job.\n",
    " * __Home-Owner__: Tells is the user rent, own or have a mortage on its home.\n",
    " * __Annual Income__: Annual gross income in dollars.\n",
    " * __Policy Acceptance__: The user fulfills the credit policy of the company.\n",
    " * __Total Recovered__: Total amount in dollars recovered at payment\n",
    " * __Total of Interest Recovered__: Total Recovered minus total disbursed.\n",
    " \n",
    "**Nodes:**\n",
    "* Regression Logistic Model:\n",
    " * Simulate the logistic regression to determine the optimum polynomial degree fot the model.\n",
    "* Accepted Loans Model:\n",
    " * Simulate clustering to determine the optimun number of clusters.\n",
    " * Simulate with the optimin number of clusters to determine the distribuition of loan grade among clusters.\n",
    "* Profit Model:\n",
    " * Simulate the model and determine the ratio of defult and non default loans.\n",
    " * Simulate the model and determine the ratio of unpayment"
   ]
  },
  {
   "cell_type": "markdown",
   "metadata": {},
   "source": [
    "## 1.4 Assumptions and Hypothesis\n",
    "**Assumptions:**\n",
    "* Using only variables which are present both in the declined and accepted data sets are enough to predict the application veredict.\n",
    "* Using only features known at the time of application, the grade and interest rate are enough to predict the profit of a loan.\n",
    "* A random sample from the databases is representative for the models.\n",
    "* A logistic regression is a well suited model to do prediction via supervised learning.\n",
    "* The clustering method of K-means with init * K-means++ * is a well suited method to make clustering to several varaibles reducing bias.\n",
    "\n",
    "**Hypothesis:**\n",
    "* There is a direct relationship between the distribution of credit grade and the cluster of each sample.\n",
    "* There is a direct relationship between Interest Rate and Profit\n",
    "* There is a direct relationship between Interest Rate and Default Rate\n",
    "* There is a direct relationship between Interest Rate and Grade\n",
    "* The profit model will keep its expected value and variability when changing training sets\n",
    "* Assigning the interest to each loan according to its characteristic can maximize de profit."
   ]
  },
  {
   "cell_type": "markdown",
   "metadata": {},
   "source": [
    "# 2 Development"
   ]
  },
  {
   "cell_type": "markdown",
   "metadata": {},
   "source": [
    "## 2.1 Databases"
   ]
  },
  {
   "cell_type": "markdown",
   "metadata": {},
   "source": [
    "### 2.1.1 Databases\n",
    "The data sets of accepted and rejected can be found at https://www.lendingclub.com/info/download-data.action . These data sets are from years 2007 to 2011."
   ]
  },
  {
   "cell_type": "markdown",
   "metadata": {},
   "source": [
    "### 2.1.2 Databases Analisis\n",
    "From the databases, the only variables that appear on both data sets that are significant logistic regression model are the amount requested, employement lenght, ZIP code and DTI. All the other variables are insignificant to the regression model due to the amount of unique values or the type of variable. The data sets has no empty spaces for significant varaibles.\n",
    "\n",
    "The rejected loans data set has 755,491 data. <br/>\n",
    "The accepted loans data set has 45,237 data."
   ]
  },
  {
   "cell_type": "markdown",
   "metadata": {},
   "source": [
    "### 2.1.3 Data Sampling\n",
    "For the logistic regression model a 70% sample is going to be taken in order to reduce the computational load. For the other models no sampling is needed."
   ]
  },
  {
   "cell_type": "markdown",
   "metadata": {},
   "source": [
    "### 2.2.1 Loans Application Model"
   ]
  },
  {
   "cell_type": "markdown",
   "metadata": {},
   "source": [
    "### 2.2.2 Interpretation of Coefficients"
   ]
  },
  {
   "cell_type": "markdown",
   "metadata": {},
   "source": [
    "### 2.2.3 Statistical Significance and Performance of the Model"
   ]
  },
  {
   "cell_type": "markdown",
   "metadata": {},
   "source": [
    "## 2.3 Accepted Loans Model"
   ]
  },
  {
   "cell_type": "markdown",
   "metadata": {},
   "source": [
    "### 2.3.1 Accepted Loans Clustering"
   ]
  },
  {
   "cell_type": "markdown",
   "metadata": {},
   "source": [
    "### 2.3.2 Cluster-LoanGrade Relationship Analisis"
   ]
  },
  {
   "cell_type": "markdown",
   "metadata": {},
   "source": [
    "## 2.4 Profit Model"
   ]
  },
  {
   "cell_type": "markdown",
   "metadata": {},
   "source": [
    "### 2.4.1 Profit Relationship with other Variables"
   ]
  },
  {
   "cell_type": "markdown",
   "metadata": {},
   "source": [
    "### 2.4.2 Profit Prediction Model"
   ]
  },
  {
   "cell_type": "markdown",
   "metadata": {},
   "source": [
    "### 2.4.3 Performance and Variability of the Model"
   ]
  },
  {
   "cell_type": "markdown",
   "metadata": {},
   "source": [
    "### 2.4.4 Profit Maximization with the Model"
   ]
  },
  {
   "cell_type": "markdown",
   "metadata": {},
   "source": [
    "### 2.4.5 Comparison"
   ]
  },
  {
   "cell_type": "markdown",
   "metadata": {},
   "source": [
    "# 3 Discusion"
   ]
  },
  {
   "cell_type": "markdown",
   "metadata": {},
   "source": [
    "### 3.1.1 Logistic Regression Results"
   ]
  },
  {
   "cell_type": "markdown",
   "metadata": {},
   "source": [
    "### 3.1.2 Accepted Loans Model Results"
   ]
  },
  {
   "cell_type": "markdown",
   "metadata": {},
   "source": [
    "### 3.1.3 Profit Models Results"
   ]
  },
  {
   "cell_type": "markdown",
   "metadata": {},
   "source": [
    "# 4 Conclusions"
   ]
  },
  {
   "cell_type": "markdown",
   "metadata": {},
   "source": [
    "# 5 References"
   ]
  },
  {
   "cell_type": "code",
   "execution_count": null,
   "metadata": {},
   "outputs": [],
   "source": []
  }
 ],
 "metadata": {
  "kernelspec": {
   "display_name": "Python 3",
   "language": "python",
   "name": "python3"
  },
  "language_info": {
   "codemirror_mode": {
    "name": "ipython",
    "version": 3
   },
   "file_extension": ".py",
   "mimetype": "text/x-python",
   "name": "python",
   "nbconvert_exporter": "python",
   "pygments_lexer": "ipython3",
   "version": "3.6.5"
  }
 },
 "nbformat": 4,
 "nbformat_minor": 2
}
