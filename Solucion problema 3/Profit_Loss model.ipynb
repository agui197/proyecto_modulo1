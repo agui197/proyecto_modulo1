{
 "cells": [
  {
   "cell_type": "markdown",
   "metadata": {},
   "source": [
    "# Problema 3\n",
    "## Model that predicts profit\n",
    "### El objetivo es saber si se presentaran perdidas"
   ]
  },
  {
   "cell_type": "code",
   "execution_count": 1,
   "metadata": {},
   "outputs": [],
   "source": [
    "import pandas as pd\n",
    "#import pandas_datareader.data as web\n",
    "import numpy as np\n",
    "import datetime\n",
    "import matplotlib.pyplot as plt\n",
    "import scipy.stats as st\n",
    "%matplotlib inline\n",
    "#pd.set_option('display.notebook_repr_html', True)\n",
    "#pd.set_option('display.max_columns', 11)\n",
    "#pd.set_option('display.max_rows', 10)\n",
    "#pd.set_option('display.width', 78)\n",
    "pd.set_option('precision', 3)"
   ]
  },
  {
   "cell_type": "code",
   "execution_count": 2,
   "metadata": {},
   "outputs": [],
   "source": [
    "data=pd.read_excel('bases de datos/dbp3.xlsx')"
   ]
  },
  {
   "cell_type": "code",
   "execution_count": 3,
   "metadata": {},
   "outputs": [],
   "source": [
    "clasified=list(map(lambda n:data.loc[data['int_rate']==n,:],np.unique(data['int_rate'])))"
   ]
  },
  {
   "cell_type": "code",
   "execution_count": 4,
   "metadata": {},
   "outputs": [],
   "source": [
    "amounts=list(map(lambda n: np.sum(n.iloc[:,4]),clasified))"
   ]
  },
  {
   "cell_type": "code",
   "execution_count": 5,
   "metadata": {},
   "outputs": [
    {
     "data": {
      "image/png": "[encoded data removed]",
      "text/plain": [
       "<matplotlib.figure.Figure at 0xb116330>"
      ]
     },
     "metadata": {},
     "output_type": "display_data"
    }
   ],
   "source": [
    "plt.bar(range(len(amounts)),amounts)\n",
    "plt.title('Montos de prestamo segun la tasa de interes')\n",
    "plt.show()"
   ]
  },
  {
   "cell_type": "markdown",
   "metadata": {},
   "source": [
    "### Probabilidad de default dependiento la tasa de interes"
   ]
  },
  {
   "cell_type": "code",
   "execution_count": 6,
   "metadata": {},
   "outputs": [],
   "source": [
    "default_probability=list(map(lambda n:np.count_nonzero(n.iloc[:,0]<0)/len(n.iloc[:,0]),clasified))"
   ]
  },
  {
   "cell_type": "code",
   "execution_count": 7,
   "metadata": {},
   "outputs": [
    {
     "data": {
      "text/plain": [
       "[0.019197207678883072,\n",
       " 0.04390243902439024,\n",
       " 0.002881844380403458,\n",
       " 0.2631578947368421,\n",
       " 0.006711409395973154,\n",
       " 0.11904761904761904,\n",
       " 0.1206896551724138,\n",
       " 0.24429967426710097,\n",
       " 0.005050505050505051,\n",
       " 0.08333333333333333,\n",
       " 0.1967741935483871,\n",
       " 0.00980392156862745,\n",
       " 0.020833333333333332,\n",
       " 0.0,\n",
       " 1.0,\n",
       " 0.14327485380116958,\n",
       " 0.010075566750629723,\n",
       " 0.34375,\n",
       " 0.027777777777777776,\n",
       " 0.14285714285714285,\n",
       " 1.0,\n",
       " 0.022865853658536585,\n",
       " 0.05844980940279543,\n",
       " 0.023972602739726026,\n",
       " 0.30851063829787234,\n",
       " 0.032467532467532464,\n",
       " 0.8148148148148148,\n",
       " 0.07008086253369272,\n",
       " 0.024054982817869417,\n",
       " 0.0,\n",
       " 0.35353535353535354,\n",
       " 0.9230769230769231,\n",
       " 0.8163265306122449,\n",
       " 0.9230769230769231,\n",
       " 0.011235955056179775,\n",
       " 0.03208556149732621,\n",
       " 0.8863636363636364,\n",
       " 0.9411764705882353,\n",
       " 0.041666666666666664,\n",
       " 0.004975124378109453,\n",
       " 0.020066889632107024,\n",
       " 1.0,\n",
       " 0.7333333333333333,\n",
       " 0.9333333333333333,\n",
       " 0.0851063829787234,\n",
       " 0.1925133689839572,\n",
       " 0.9583333333333334,\n",
       " 0.8695652173913043,\n",
       " 0.8936170212765957,\n",
       " 1.0,\n",
       " 0.035897435897435895,\n",
       " 0.1015625,\n",
       " 1.0,\n",
       " 0.0,\n",
       " 1.0,\n",
       " 0.8311688311688312,\n",
       " 1.0,\n",
       " 0.15053763440860216,\n",
       " 0.005305039787798408,\n",
       " 0.9333333333333333,\n",
       " 0.03130148270181219,\n",
       " 0.00398406374501992,\n",
       " 1.0,\n",
       " 0.7818181818181819,\n",
       " 0.8181818181818182,\n",
       " 0.8333333333333334,\n",
       " 0.07894736842105263,\n",
       " 1.0,\n",
       " 1.0,\n",
       " 0.03515625,\n",
       " 0.00851063829787234,\n",
       " 0.039647577092511016,\n",
       " 0.9298245614035088,\n",
       " 0.75,\n",
       " 0.9090909090909091,\n",
       " 0.11,\n",
       " 0.07053941908713693,\n",
       " 1.0,\n",
       " 0.004597701149425287,\n",
       " 0.8103448275862069,\n",
       " 0.009615384615384616,\n",
       " 0.019230769230769232,\n",
       " 0.9130434782608695,\n",
       " 0.9032258064516129,\n",
       " 0.9354838709677419,\n",
       " 0.2804878048780488,\n",
       " 1.0,\n",
       " 0.031958762886597936,\n",
       " 0.84375,\n",
       " 1.0,\n",
       " 0.006024096385542169,\n",
       " 0.01838235294117647,\n",
       " 0.10697674418604651,\n",
       " 1.0,\n",
       " 0.45263157894736844,\n",
       " 1.0,\n",
       " 0.875,\n",
       " 0.03875968992248062,\n",
       " 0.9411764705882353,\n",
       " 0.9259259259259259,\n",
       " 0.015544041450777202,\n",
       " 0.016726403823178016,\n",
       " 1.0,\n",
       " 0.5887850467289719,\n",
       " 1.0,\n",
       " 0.0,\n",
       " 0.86,\n",
       " 0.014778325123152709,\n",
       " 1.0,\n",
       " 0.9642857142857143,\n",
       " 0.037037037037037035,\n",
       " 0.05263157894736842,\n",
       " 0.41818181818181815,\n",
       " 1.0,\n",
       " 0.8431372549019608,\n",
       " 0.007476635514018692,\n",
       " 0.9090909090909091,\n",
       " 0.95,\n",
       " 0.0,\n",
       " 1.0,\n",
       " 0.009259259259259259,\n",
       " 0.47540983606557374,\n",
       " 1.0,\n",
       " 0.027972027972027972,\n",
       " 0.7924528301886793,\n",
       " 1.0,\n",
       " 0.9545454545454546,\n",
       " 0.004514672686230248,\n",
       " 0.9090909090909091,\n",
       " 0.21067415730337077,\n",
       " 1.0,\n",
       " 0.21428571428571427,\n",
       " 0.0,\n",
       " 0.8,\n",
       " 0.01593625498007968,\n",
       " 0.0,\n",
       " 1.0,\n",
       " 0.024390243902439025,\n",
       " 1.0,\n",
       " 0.4473684210526316,\n",
       " 1.0,\n",
       " 0.009708737864077669,\n",
       " 0.8409090909090909,\n",
       " 0.01652892561983471,\n",
       " 0.02850877192982456,\n",
       " 0.9130434782608695,\n",
       " 0.00909090909090909,\n",
       " 0.014778325123152709,\n",
       " 1.0,\n",
       " 0.5244755244755245,\n",
       " 1.0,\n",
       " 0.031446540880503145,\n",
       " 0.021660649819494584,\n",
       " 0.8214285714285714,\n",
       " 0.8823529411764706,\n",
       " 0.0,\n",
       " 1.0,\n",
       " 0.08917197452229299,\n",
       " 0.4794520547945205,\n",
       " 0.005714285714285714,\n",
       " 0.010817307692307692,\n",
       " 0.84,\n",
       " 0.006535947712418301,\n",
       " 0.006389776357827476,\n",
       " 1.0,\n",
       " 0.8,\n",
       " 0.0,\n",
       " 1.0,\n",
       " 0.504,\n",
       " 0.07971014492753623,\n",
       " 0.0,\n",
       " 0.006578947368421052,\n",
       " 0.75,\n",
       " 0.035211267605633804,\n",
       " 0.8,\n",
       " 0.022435897435897436,\n",
       " 0.04669260700389105,\n",
       " 1.0,\n",
       " 0.0,\n",
       " 0.4336283185840708,\n",
       " 1.0,\n",
       " 0.03278688524590164,\n",
       " 0.6153846153846154,\n",
       " 0.0,\n",
       " 0.9,\n",
       " 0.036231884057971016,\n",
       " 0.0,\n",
       " 0.875,\n",
       " 0.0,\n",
       " 1.0,\n",
       " 0.3867924528301887,\n",
       " 1.0,\n",
       " 0.00847457627118644,\n",
       " 0.7804878048780488,\n",
       " 0.013333333333333334,\n",
       " 1.0,\n",
       " 0.015151515151515152,\n",
       " 0.017543859649122806,\n",
       " 0.75,\n",
       " 0.0,\n",
       " 1.0,\n",
       " 1.0,\n",
       " 0.008,\n",
       " 0.4880952380952381,\n",
       " 1.0,\n",
       " 0.005154639175257732,\n",
       " 0.6744186046511628,\n",
       " 0.0,\n",
       " 0.007633587786259542,\n",
       " 1.0,\n",
       " 0.0,\n",
       " 1.0,\n",
       " 0.024096385542168676,\n",
       " 0.9411764705882353,\n",
       " 0.35526315789473684,\n",
       " 1.0,\n",
       " 0.8181818181818182,\n",
       " 0.08139534883720931,\n",
       " 0.004545454545454545,\n",
       " 0.013888888888888888,\n",
       " 1.0,\n",
       " 0.01,\n",
       " 0.006802721088435374,\n",
       " 0.008849557522123894,\n",
       " 0.0962962962962963,\n",
       " 0.3269230769230769,\n",
       " 1.0,\n",
       " 0.75,\n",
       " 1.0,\n",
       " 0.06521739130434782,\n",
       " 0.009950248756218905,\n",
       " 0.005847953216374269,\n",
       " 0.034482758620689655,\n",
       " 0.5,\n",
       " 0.0707070707070707,\n",
       " 0.75,\n",
       " 1.0,\n",
       " 1.0,\n",
       " 0.0125,\n",
       " 0.05699481865284974,\n",
       " 0.006968641114982578,\n",
       " 0.15748031496062992,\n",
       " 1.0,\n",
       " 0.02,\n",
       " 0.0,\n",
       " 0.8,\n",
       " 0.0,\n",
       " 1.0,\n",
       " 1.0,\n",
       " 0.8,\n",
       " 0.0,\n",
       " 0.060085836909871244,\n",
       " 1.0,\n",
       " 0.04081632653061224,\n",
       " 0.06493506493506493,\n",
       " 0.0051813471502590676,\n",
       " 1.0,\n",
       " 0.012244897959183673,\n",
       " 0.3333333333333333,\n",
       " 0.21739130434782608,\n",
       " 1.0,\n",
       " 0.015384615384615385,\n",
       " 0.046511627906976744,\n",
       " 0.5714285714285714,\n",
       " 0.00911854103343465,\n",
       " 0.018518518518518517,\n",
       " 1.0,\n",
       " 0.004694835680751174,\n",
       " 0.8,\n",
       " 0.2916666666666667,\n",
       " 1.0,\n",
       " 0.75,\n",
       " 0.0,\n",
       " 0.05555555555555555,\n",
       " 0.5,\n",
       " 0.05555555555555555,\n",
       " 0.5,\n",
       " 0.022900763358778626,\n",
       " 1.0,\n",
       " 0.4117647058823529,\n",
       " 0.004901960784313725,\n",
       " 1.0,\n",
       " 0.6923076923076923,\n",
       " 0.045454545454545456,\n",
       " 1.0,\n",
       " 0.03125,\n",
       " 0.0,\n",
       " 1.0,\n",
       " 0.015789473684210527,\n",
       " 0.0,\n",
       " 0.9090909090909091,\n",
       " 0.04,\n",
       " 0.02617801047120419,\n",
       " 1.0,\n",
       " 0.25,\n",
       " 1.0,\n",
       " 0.04,\n",
       " 1.0,\n",
       " 0.07692307692307693,\n",
       " 0.8888888888888888,\n",
       " 0.045454545454545456,\n",
       " 0.16666666666666666,\n",
       " 1.0,\n",
       " 0.03125,\n",
       " 0.3333333333333333,\n",
       " 0.03333333333333333,\n",
       " 0.6666666666666666,\n",
       " 0.0,\n",
       " 0.0,\n",
       " 0.06666666666666667,\n",
       " 0.1111111111111111,\n",
       " 0.004291845493562232,\n",
       " 0.7692307692307693,\n",
       " 0.04411764705882353,\n",
       " 1.0,\n",
       " 0.01935483870967742,\n",
       " 0.047619047619047616,\n",
       " 0.0,\n",
       " 0.5714285714285714,\n",
       " 0.08333333333333333,\n",
       " 0.5,\n",
       " 0.0,\n",
       " 0.0,\n",
       " 0.0196078431372549,\n",
       " 1.0,\n",
       " 0.0,\n",
       " 0.018867924528301886,\n",
       " 0.3333333333333333,\n",
       " 1.0,\n",
       " 0.0,\n",
       " 0.03333333333333333,\n",
       " 0.007936507936507936,\n",
       " 0.023255813953488372,\n",
       " 0.0,\n",
       " 0.0,\n",
       " 0.008333333333333333,\n",
       " 0.058823529411764705,\n",
       " 0.0,\n",
       " 0.03125,\n",
       " 0.0,\n",
       " 0.0,\n",
       " 0.0,\n",
       " 0.018518518518518517,\n",
       " 0.06666666666666667,\n",
       " 0.08,\n",
       " 0.0,\n",
       " 0.0,\n",
       " 0.0,\n",
       " 0.09090909090909091,\n",
       " 0.0,\n",
       " 0.0,\n",
       " 0.0,\n",
       " 0.025974025974025976,\n",
       " 0.011235955056179775,\n",
       " 0.25,\n",
       " 0.09090909090909091,\n",
       " 0.0,\n",
       " 0.0,\n",
       " 0.0,\n",
       " 0.0,\n",
       " 0.08333333333333333,\n",
       " 0.0,\n",
       " 0.0,\n",
       " 0.0,\n",
       " 0.0,\n",
       " 0.05454545454545454,\n",
       " 0.0,\n",
       " 0.0,\n",
       " 0.14285714285714285,\n",
       " 0.0,\n",
       " 0.0,\n",
       " 0.022222222222222223,\n",
       " 0.0,\n",
       " 0.0,\n",
       " 0.0,\n",
       " 0.0,\n",
       " 0.0,\n",
       " 0.0,\n",
       " 0.0,\n",
       " 0.03225806451612903,\n",
       " 0.0,\n",
       " 0.0,\n",
       " 0.0,\n",
       " 0.0,\n",
       " 0.0,\n",
       " 0.0,\n",
       " 0.0,\n",
       " 0.0,\n",
       " 0.0,\n",
       " 0.0,\n",
       " 0.0,\n",
       " 0.0,\n",
       " 0.0,\n",
       " 0.0]"
      ]
     },
     "execution_count": 7,
     "metadata": {},
     "output_type": "execute_result"
    }
   ],
   "source": [
    "default_probability"
   ]
  },
  {
   "cell_type": "markdown",
   "metadata": {},
   "source": [
    "### Tasas de interes con 100% de probabilidad de default"
   ]
  },
  {
   "cell_type": "code",
   "execution_count": 8,
   "metadata": {},
   "outputs": [
    {
     "data": {
      "text/plain": [
       "array([0.0712, 0.0743, 0.0901, 0.0951, 0.0964, 0.097 , 0.0983, 0.1001,\n",
       "       0.1028, 0.1033, 0.1064, 0.1096, 0.1109, 0.1122, 0.1128, 0.1154,\n",
       "       0.1159, 0.1172, 0.1191, 0.1217, 0.1222, 0.1236, 0.1254, 0.1272,\n",
       "       0.128 , 0.1286, 0.1312, 0.1317, 0.1336, 0.1362, 0.1375, 0.1407,\n",
       "       0.1412, 0.1438, 0.1443, 0.1457, 0.1467, 0.147 , 0.1475, 0.1488,\n",
       "       0.1493, 0.1507, 0.1525, 0.1538, 0.1551, 0.1583, 0.1588, 0.1601,\n",
       "       0.1615, 0.162 , 0.1633, 0.1646, 0.1665, 0.1683, 0.1696, 0.1722,\n",
       "       0.1728, 0.1741, 0.1746, 0.1759, 0.1772, 0.1778, 0.1791, 0.1836,\n",
       "       0.1872, 0.1886])"
      ]
     },
     "execution_count": 8,
     "metadata": {},
     "output_type": "execute_result"
    }
   ],
   "source": [
    "np.unique(data['int_rate'])[np.array(default_probability)==1]"
   ]
  },
  {
   "cell_type": "code",
   "execution_count": 9,
   "metadata": {},
   "outputs": [
    {
     "data": {
      "text/plain": [
       "array([ 14,  20,  41,  49,  52,  54,  56,  62,  67,  68,  77,  86,  89,\n",
       "        93,  95, 102, 104, 108, 113, 119, 122, 125, 130, 136, 138, 140,\n",
       "       148, 150, 156, 164, 167, 177, 180, 189, 191, 195, 200, 201, 204,\n",
       "       209, 211, 215, 220, 226, 228, 236, 237, 242, 247, 248, 252, 256,\n",
       "       260, 266, 270, 278, 281, 284, 287, 293, 295, 297, 302, 314, 324,\n",
       "       328])"
      ]
     },
     "execution_count": 9,
     "metadata": {},
     "output_type": "execute_result"
    }
   ],
   "source": [
    "np.arange(len(amounts))[np.array(default_probability)==1]"
   ]
  },
  {
   "cell_type": "markdown",
   "metadata": {},
   "source": [
    "### Grado del prestamo que tuvo, en una tasa de interes, el 100% de default"
   ]
  },
  {
   "cell_type": "code",
   "execution_count": 10,
   "metadata": {},
   "outputs": [],
   "source": [
    "loangrades=list(map(lambda n:np.mean(clasified[n].iloc[:,3]),np.arange(len(amounts))[np.array(default_probability)==1]))"
   ]
  },
  {
   "cell_type": "code",
   "execution_count": 11,
   "metadata": {
    "scrolled": true
   },
   "outputs": [
    {
     "data": {
      "text/plain": [
       "[1.0,\n",
       " 2.0,\n",
       " 7.0,\n",
       " 7.0,\n",
       " 9.0,\n",
       " 6.0,\n",
       " 8.0,\n",
       " 7.0,\n",
       " 11.0,\n",
       " 8.0,\n",
       " 9.0,\n",
       " 10.0,\n",
       " 12.0,\n",
       " 14.0,\n",
       " 11.0,\n",
       " 15.0,\n",
       " 12.0,\n",
       " 14.0,\n",
       " 13.0,\n",
       " 17.0,\n",
       " 14.0,\n",
       " 16.0,\n",
       " 15.0,\n",
       " 14.0,\n",
       " 19.0,\n",
       " 16.0,\n",
       " 20.0,\n",
       " 17.0,\n",
       " 16.0,\n",
       " 20.0,\n",
       " 22.0,\n",
       " 23.0,\n",
       " 20.0,\n",
       " 24.0,\n",
       " 21.0,\n",
       " 23.0,\n",
       " 25.0,\n",
       " 25.0,\n",
       " 22.0,\n",
       " 24.0,\n",
       " 21.0,\n",
       " 23.0,\n",
       " 22.0,\n",
       " 24.0,\n",
       " 26.0,\n",
       " 27.0,\n",
       " 24.0,\n",
       " 26.0,\n",
       " 28.0,\n",
       " 25.0,\n",
       " 27.0,\n",
       " 29.0,\n",
       " 28.0,\n",
       " 27.0,\n",
       " 29.0,\n",
       " 33.0,\n",
       " 30.0,\n",
       " 32.0,\n",
       " 29.0,\n",
       " 31.0,\n",
       " 33.0,\n",
       " 30.0,\n",
       " 32.0,\n",
       " 35.0,\n",
       " 33.0,\n",
       " 35.0]"
      ]
     },
     "execution_count": 11,
     "metadata": {},
     "output_type": "execute_result"
    }
   ],
   "source": [
    "loangrades"
   ]
  },
  {
   "cell_type": "markdown",
   "metadata": {},
   "source": [
    "### Probabilidad de default segun el grado del prestamo"
   ]
  },
  {
   "cell_type": "code",
   "execution_count": 12,
   "metadata": {},
   "outputs": [],
   "source": [
    "clasified_by_loangrade=list(map(lambda n:data.loc[data['loangrade']==n,:],np.unique(data['loangrade'])))"
   ]
  },
  {
   "cell_type": "code",
   "execution_count": 13,
   "metadata": {},
   "outputs": [],
   "source": [
    "default_probability_by_loangrade=list(map(lambda n:np.count_nonzero(n.iloc[:,0]<0)/len(n.iloc[:,0]),clasified_by_loangrade))"
   ]
  },
  {
   "cell_type": "code",
   "execution_count": 14,
   "metadata": {
    "scrolled": true
   },
   "outputs": [
    {
     "data": {
      "text/plain": [
       "[0.03590192644483362,\n",
       " 0.06513157894736842,\n",
       " 0.10367526055951728,\n",
       " 0.09225473321858864,\n",
       " 0.09094163981382027,\n",
       " 0.09298618490967056,\n",
       " 0.10175106483672504,\n",
       " 0.08174841508174842,\n",
       " 0.09034749034749034,\n",
       " 0.0883505521909512,\n",
       " 0.11042402826855123,\n",
       " 0.09689383402874363,\n",
       " 0.13027744270205066,\n",
       " 0.14744525547445256,\n",
       " 0.139426800929512,\n",
       " 0.14150047483380818,\n",
       " 0.09158249158249158,\n",
       " 0.10287443267776097,\n",
       " 0.11491228070175438,\n",
       " 0.0984251968503937,\n",
       " 0.10520361990950226,\n",
       " 0.14538558786346398,\n",
       " 0.1317365269461078,\n",
       " 0.15579710144927536,\n",
       " 0.1342685370741483,\n",
       " 0.1377551020408163,\n",
       " 0.1396103896103896,\n",
       " 0.13135593220338984,\n",
       " 0.12322274881516587,\n",
       " 0.14935064935064934,\n",
       " 0.1347517730496454,\n",
       " 0.102803738317757,\n",
       " 0.16455696202531644,\n",
       " 0.31313131313131315,\n",
       " 0.32558139534883723]"
      ]
     },
     "execution_count": 14,
     "metadata": {},
     "output_type": "execute_result"
    }
   ],
   "source": [
    "default_probability_by_loangrade"
   ]
  },
  {
   "cell_type": "markdown",
   "metadata": {},
   "source": [
    "## Estadisticos"
   ]
  },
  {
   "cell_type": "code",
   "execution_count": 15,
   "metadata": {},
   "outputs": [
    {
     "data": {
      "text/plain": [
       "0.15128026625901467"
      ]
     },
     "execution_count": 15,
     "metadata": {},
     "output_type": "execute_result"
    }
   ],
   "source": [
    "# porcentaje de ganancia\n",
    "sum(data['profit'])/sum(data['funded_amnt'])\n"
   ]
  },
  {
   "cell_type": "code",
   "execution_count": 16,
   "metadata": {},
   "outputs": [
    {
     "data": {
      "text/plain": [
       "-17097840.30999998"
      ]
     },
     "execution_count": 16,
     "metadata": {},
     "output_type": "execute_result"
    }
   ],
   "source": [
    "#perdida en los creditos default\n",
    "sum(data.loc[data['profit']<0,:]['profit'])"
   ]
  },
  {
   "cell_type": "code",
   "execution_count": 17,
   "metadata": {},
   "outputs": [
    {
     "data": {
      "text/plain": [
       "0.10356177265781122"
      ]
     },
     "execution_count": 17,
     "metadata": {},
     "output_type": "execute_result"
    }
   ],
   "source": [
    "#porcentaje de default\n",
    "sum(data['default'])/len(data['default'])"
   ]
  },
  {
   "cell_type": "code",
   "execution_count": 18,
   "metadata": {
    "scrolled": true
   },
   "outputs": [
    {
     "data": {
      "text/plain": [
       "44998625"
      ]
     },
     "execution_count": 18,
     "metadata": {},
     "output_type": "execute_result"
    }
   ],
   "source": [
    "#monto de prestamo en los default\n",
    "sum(data.loc[data['profit']<0,:]['funded_amnt'])"
   ]
  },
  {
   "cell_type": "code",
   "execution_count": 19,
   "metadata": {},
   "outputs": [
    {
     "data": {
      "text/plain": [
       "0.039954597048808174"
      ]
     },
     "execution_count": 19,
     "metadata": {},
     "output_type": "execute_result"
    }
   ],
   "source": [
    "np.count_nonzero(-data.loc[data['profit']<0,:]['profit']==data.loc[data['profit']<0,:]['funded_amnt'])/sum(data['default'])"
   ]
  },
  {
   "cell_type": "markdown",
   "metadata": {},
   "source": [
    "# Modelo"
   ]
  },
  {
   "cell_type": "markdown",
   "metadata": {},
   "source": [
    "## Encontrar con que distribucion estan los creditos otorgados"
   ]
  },
  {
   "cell_type": "code",
   "execution_count": 75,
   "metadata": {},
   "outputs": [
    {
     "data": {
      "image/png": "[encoded data removed]",
      "text/plain": [
       "<matplotlib.figure.Figure at 0x12dc7d10>"
      ]
     },
     "metadata": {},
     "output_type": "display_data"
    }
   ],
   "source": [
    "plt.hist(data['loangrade'],50)\n",
    "plt.title('Distribution of the funded amounts by loangrades')\n",
    "plt.xlabel('loangrade')\n",
    "plt.ylabel('frequency')\n",
    "plt.show()"
   ]
  },
  {
   "cell_type": "code",
   "execution_count": 82,
   "metadata": {},
   "outputs": [
    {
     "name": "stdout",
     "output_type": "stream",
     "text": [
      "erlang parameters for the distribution\n"
     ]
    },
    {
     "name": "stderr",
     "output_type": "stream",
     "text": [
      "C:\\ProgramData\\Anaconda3\\lib\\site-packages\\scipy\\stats\\_continuous_distns.py:2455: RuntimeWarning: The shape parameter of the erlang distribution has been given a non-integer value 6.300000000000001.\n",
      "  RuntimeWarning)\n",
      "C:\\ProgramData\\Anaconda3\\lib\\site-packages\\scipy\\stats\\_continuous_distns.py:2455: RuntimeWarning: The shape parameter of the erlang distribution has been given a non-integer value 6.200000000000001.\n",
      "  RuntimeWarning)\n",
      "C:\\ProgramData\\Anaconda3\\lib\\site-packages\\scipy\\stats\\_continuous_distns.py:2455: RuntimeWarning: The shape parameter of the erlang distribution has been given a non-integer value 5.833333333333334.\n",
      "  RuntimeWarning)\n",
      "C:\\ProgramData\\Anaconda3\\lib\\site-packages\\scipy\\stats\\_continuous_distns.py:2455: RuntimeWarning: The shape parameter of the erlang distribution has been given a non-integer value 6.183333333333334.\n",
      "  RuntimeWarning)\n",
      "C:\\ProgramData\\Anaconda3\\lib\\site-packages\\scipy\\stats\\_continuous_distns.py:2455: RuntimeWarning: The shape parameter of the erlang distribution has been given a non-integer value 5.922222222222221.\n",
      "  RuntimeWarning)\n",
      "C:\\ProgramData\\Anaconda3\\lib\\site-packages\\scipy\\stats\\_continuous_distns.py:2455: RuntimeWarning: The shape parameter of the erlang distribution has been given a non-integer value 6.0703703703703695.\n",
      "  RuntimeWarning)\n",
      "C:\\ProgramData\\Anaconda3\\lib\\site-packages\\scipy\\stats\\_continuous_distns.py:2455: RuntimeWarning: The shape parameter of the erlang distribution has been given a non-integer value 6.017592592592592.\n",
      "  RuntimeWarning)\n",
      "C:\\ProgramData\\Anaconda3\\lib\\site-packages\\scipy\\stats\\_continuous_distns.py:2455: RuntimeWarning: The shape parameter of the erlang distribution has been given a non-integer value 6.21172839506173.\n",
      "  RuntimeWarning)\n",
      "C:\\ProgramData\\Anaconda3\\lib\\site-packages\\scipy\\stats\\_continuous_distns.py:2455: RuntimeWarning: The shape parameter of the erlang distribution has been given a non-integer value 6.139351851851853.\n",
      "  RuntimeWarning)\n",
      "C:\\ProgramData\\Anaconda3\\lib\\site-packages\\scipy\\stats\\_continuous_distns.py:2455: RuntimeWarning: The shape parameter of the erlang distribution has been given a non-integer value 6.197530864197532.\n",
      "  RuntimeWarning)\n",
      "C:\\ProgramData\\Anaconda3\\lib\\site-packages\\scipy\\stats\\_continuous_distns.py:2455: RuntimeWarning: The shape parameter of the erlang distribution has been given a non-integer value 6.287500000000001.\n",
      "  RuntimeWarning)\n",
      "C:\\ProgramData\\Anaconda3\\lib\\site-packages\\scipy\\stats\\_continuous_distns.py:2455: RuntimeWarning: The shape parameter of the erlang distribution has been given a non-integer value 6.101234567901235.\n",
      "  RuntimeWarning)\n",
      "C:\\ProgramData\\Anaconda3\\lib\\site-packages\\scipy\\stats\\_continuous_distns.py:2455: RuntimeWarning: The shape parameter of the erlang distribution has been given a non-integer value 6.119804526748974.\n",
      "  RuntimeWarning)\n",
      "C:\\ProgramData\\Anaconda3\\lib\\site-packages\\scipy\\stats\\_continuous_distns.py:2455: RuntimeWarning: The shape parameter of the erlang distribution has been given a non-integer value 6.110030864197533.\n",
      "  RuntimeWarning)\n",
      "C:\\ProgramData\\Anaconda3\\lib\\site-packages\\scipy\\stats\\_continuous_distns.py:2455: RuntimeWarning: The shape parameter of the erlang distribution has been given a non-integer value 6.332510288065848.\n",
      "  RuntimeWarning)\n",
      "C:\\ProgramData\\Anaconda3\\lib\\site-packages\\scipy\\stats\\_continuous_distns.py:2455: RuntimeWarning: The shape parameter of the erlang distribution has been given a non-integer value 6.385459533607687.\n",
      "  RuntimeWarning)\n",
      "C:\\ProgramData\\Anaconda3\\lib\\site-packages\\scipy\\stats\\_continuous_distns.py:2455: RuntimeWarning: The shape parameter of the erlang distribution has been given a non-integer value 6.172290809327848.\n",
      "  RuntimeWarning)\n",
      "C:\\ProgramData\\Anaconda3\\lib\\site-packages\\scipy\\stats\\_continuous_distns.py:2455: RuntimeWarning: The shape parameter of the erlang distribution has been given a non-integer value 6.122387974394151.\n",
      "  RuntimeWarning)\n",
      "C:\\ProgramData\\Anaconda3\\lib\\site-packages\\scipy\\stats\\_continuous_distns.py:2455: RuntimeWarning: The shape parameter of the erlang distribution has been given a non-integer value 6.039831961591226.\n",
      "  RuntimeWarning)\n",
      "C:\\ProgramData\\Anaconda3\\lib\\site-packages\\scipy\\stats\\_continuous_distns.py:2455: RuntimeWarning: The shape parameter of the erlang distribution has been given a non-integer value 5.88225880201189.\n",
      "  RuntimeWarning)\n",
      "C:\\ProgramData\\Anaconda3\\lib\\site-packages\\scipy\\stats\\_continuous_distns.py:2455: RuntimeWarning: The shape parameter of the erlang distribution has been given a non-integer value 5.657133058984911.\n",
      "  RuntimeWarning)\n",
      "C:\\ProgramData\\Anaconda3\\lib\\site-packages\\scipy\\stats\\_continuous_distns.py:2455: RuntimeWarning: The shape parameter of the erlang distribution has been given a non-integer value 5.849123609205918.\n",
      "  RuntimeWarning)\n",
      "C:\\ProgramData\\Anaconda3\\lib\\site-packages\\scipy\\stats\\_continuous_distns.py:2455: RuntimeWarning: The shape parameter of the erlang distribution has been given a non-integer value 5.6875400091449535.\n",
      "  RuntimeWarning)\n",
      "C:\\ProgramData\\Anaconda3\\lib\\site-packages\\scipy\\stats\\_continuous_distns.py:2455: RuntimeWarning: The shape parameter of the erlang distribution has been given a non-integer value 5.62972298430118.\n",
      "  RuntimeWarning)\n",
      "C:\\ProgramData\\Anaconda3\\lib\\site-packages\\scipy\\stats\\_continuous_distns.py:2455: RuntimeWarning: The shape parameter of the erlang distribution has been given a non-integer value 5.426515902047457.\n",
      "  RuntimeWarning)\n",
      "C:\\ProgramData\\Anaconda3\\lib\\site-packages\\scipy\\stats\\_continuous_distns.py:2455: RuntimeWarning: The shape parameter of the erlang distribution has been given a non-integer value 5.119857872275574.\n",
      "  RuntimeWarning)\n",
      "C:\\ProgramData\\Anaconda3\\lib\\site-packages\\scipy\\stats\\_continuous_distns.py:2455: RuntimeWarning: The shape parameter of the erlang distribution has been given a non-integer value 5.075821775135916.\n",
      "  RuntimeWarning)\n",
      "C:\\ProgramData\\Anaconda3\\lib\\site-packages\\scipy\\stats\\_continuous_distns.py:2455: RuntimeWarning: The shape parameter of the erlang distribution has been given a non-integer value 4.9590901200697814.\n",
      "  RuntimeWarning)\n",
      "C:\\ProgramData\\Anaconda3\\lib\\site-packages\\scipy\\stats\\_continuous_distns.py:2455: RuntimeWarning: The shape parameter of the erlang distribution has been given a non-integer value 4.623773687954081.\n",
      "  RuntimeWarning)\n",
      "C:\\ProgramData\\Anaconda3\\lib\\site-packages\\scipy\\stats\\_continuous_distns.py:2455: RuntimeWarning: The shape parameter of the erlang distribution has been given a non-integer value 4.192095547765428.\n",
      "  RuntimeWarning)\n",
      "C:\\ProgramData\\Anaconda3\\lib\\site-packages\\scipy\\stats\\_continuous_distns.py:2455: RuntimeWarning: The shape parameter of the erlang distribution has been given a non-integer value 4.2146629635274735.\n",
      "  RuntimeWarning)\n",
      "C:\\ProgramData\\Anaconda3\\lib\\site-packages\\scipy\\stats\\_continuous_distns.py:2455: RuntimeWarning: The shape parameter of the erlang distribution has been given a non-integer value 3.567163593889081.\n",
      "  RuntimeWarning)\n",
      "C:\\ProgramData\\Anaconda3\\lib\\site-packages\\scipy\\stats\\_continuous_distns.py:2455: RuntimeWarning: The shape parameter of the erlang distribution has been given a non-integer value 4.040692256211587.\n",
      "  RuntimeWarning)\n",
      "C:\\ProgramData\\Anaconda3\\lib\\site-packages\\scipy\\stats\\_continuous_distns.py:2455: RuntimeWarning: The shape parameter of the erlang distribution has been given a non-integer value 4.084184933040559.\n",
      "  RuntimeWarning)\n",
      "C:\\ProgramData\\Anaconda3\\lib\\site-packages\\scipy\\stats\\_continuous_distns.py:2455: RuntimeWarning: The shape parameter of the erlang distribution has been given a non-integer value 5.032872518617632.\n",
      "  RuntimeWarning)\n",
      "C:\\ProgramData\\Anaconda3\\lib\\site-packages\\scipy\\stats\\_continuous_distns.py:2455: RuntimeWarning: The shape parameter of the erlang distribution has been given a non-integer value 3.9335908250712186.\n",
      "  RuntimeWarning)\n",
      "C:\\ProgramData\\Anaconda3\\lib\\site-packages\\scipy\\stats\\_continuous_distns.py:2455: RuntimeWarning: The shape parameter of the erlang distribution has been given a non-integer value 4.2356040829451445.\n",
      "  RuntimeWarning)\n",
      "C:\\ProgramData\\Anaconda3\\lib\\site-packages\\scipy\\stats\\_continuous_distns.py:2455: RuntimeWarning: The shape parameter of the erlang distribution has been given a non-integer value 3.545146206083867.\n",
      "  RuntimeWarning)\n",
      "C:\\ProgramData\\Anaconda3\\lib\\site-packages\\scipy\\stats\\_continuous_distns.py:2455: RuntimeWarning: The shape parameter of the erlang distribution has been given a non-integer value 3.8148030765514207.\n",
      "  RuntimeWarning)\n",
      "C:\\ProgramData\\Anaconda3\\lib\\site-packages\\scipy\\stats\\_continuous_distns.py:2455: RuntimeWarning: The shape parameter of the erlang distribution has been given a non-integer value 3.9051470566712974.\n",
      "  RuntimeWarning)\n",
      "C:\\ProgramData\\Anaconda3\\lib\\site-packages\\scipy\\stats\\_continuous_distns.py:2455: RuntimeWarning: The shape parameter of the erlang distribution has been given a non-integer value 3.815628118486666.\n",
      "  RuntimeWarning)\n",
      "C:\\ProgramData\\Anaconda3\\lib\\site-packages\\scipy\\stats\\_continuous_distns.py:2455: RuntimeWarning: The shape parameter of the erlang distribution has been given a non-integer value 3.473743930461059.\n",
      "  RuntimeWarning)\n",
      "C:\\ProgramData\\Anaconda3\\lib\\site-packages\\scipy\\stats\\_continuous_distns.py:2455: RuntimeWarning: The shape parameter of the erlang distribution has been given a non-integer value 4.045139044824123.\n",
      "  RuntimeWarning)\n",
      "C:\\ProgramData\\Anaconda3\\lib\\site-packages\\scipy\\stats\\_continuous_distns.py:2455: RuntimeWarning: The shape parameter of the erlang distribution has been given a non-integer value 3.8501226681702554.\n",
      "  RuntimeWarning)\n",
      "C:\\ProgramData\\Anaconda3\\lib\\site-packages\\scipy\\stats\\_continuous_distns.py:2455: RuntimeWarning: The shape parameter of the erlang distribution has been given a non-integer value 3.992456811102609.\n",
      "  RuntimeWarning)\n",
      "C:\\ProgramData\\Anaconda3\\lib\\site-packages\\scipy\\stats\\_continuous_distns.py:2455: RuntimeWarning: The shape parameter of the erlang distribution has been given a non-integer value 3.7269993536822312.\n",
      "  RuntimeWarning)\n",
      "C:\\ProgramData\\Anaconda3\\lib\\site-packages\\scipy\\stats\\_continuous_distns.py:2455: RuntimeWarning: The shape parameter of the erlang distribution has been given a non-integer value 3.567929508111286.\n",
      "  RuntimeWarning)\n",
      "C:\\ProgramData\\Anaconda3\\lib\\site-packages\\scipy\\stats\\_continuous_distns.py:2455: RuntimeWarning: The shape parameter of the erlang distribution has been given a non-integer value 3.49666338540953.\n",
      "  RuntimeWarning)\n",
      "C:\\ProgramData\\Anaconda3\\lib\\site-packages\\scipy\\stats\\_continuous_distns.py:2455: RuntimeWarning: The shape parameter of the erlang distribution has been given a non-integer value 3.403358006501399.\n",
      "  RuntimeWarning)\n",
      "C:\\ProgramData\\Anaconda3\\lib\\site-packages\\scipy\\stats\\_continuous_distns.py:2455: RuntimeWarning: The shape parameter of the erlang distribution has been given a non-integer value 3.163005814861477.\n",
      "  RuntimeWarning)\n",
      "C:\\ProgramData\\Anaconda3\\lib\\site-packages\\scipy\\stats\\_continuous_distns.py:2455: RuntimeWarning: The shape parameter of the erlang distribution has been given a non-integer value 2.836694663048883.\n",
      "  RuntimeWarning)\n",
      "C:\\ProgramData\\Anaconda3\\lib\\site-packages\\scipy\\stats\\_continuous_distns.py:2455: RuntimeWarning: The shape parameter of the erlang distribution has been given a non-integer value 3.415041132420129.\n",
      "  RuntimeWarning)\n",
      "C:\\ProgramData\\Anaconda3\\lib\\site-packages\\scipy\\stats\\_continuous_distns.py:2455: RuntimeWarning: The shape parameter of the erlang distribution has been given a non-integer value 3.420882695379494.\n",
      "  RuntimeWarning)\n",
      "C:\\ProgramData\\Anaconda3\\lib\\site-packages\\scipy\\stats\\_continuous_distns.py:2455: RuntimeWarning: The shape parameter of the erlang distribution has been given a non-integer value 3.2673209181857317.\n",
      "  RuntimeWarning)\n",
      "C:\\ProgramData\\Anaconda3\\lib\\site-packages\\scipy\\stats\\_continuous_distns.py:2455: RuntimeWarning: The shape parameter of the erlang distribution has been given a non-integer value 3.1526496845738325.\n",
      "  RuntimeWarning)\n",
      "C:\\ProgramData\\Anaconda3\\lib\\site-packages\\scipy\\stats\\_continuous_distns.py:2455: RuntimeWarning: The shape parameter of the erlang distribution has been given a non-integer value 2.99564906886694.\n",
      "  RuntimeWarning)\n",
      "C:\\ProgramData\\Anaconda3\\lib\\site-packages\\scipy\\stats\\_continuous_distns.py:2455: RuntimeWarning: The shape parameter of the erlang distribution has been given a non-integer value 2.7095088492447665.\n",
      "  RuntimeWarning)\n",
      "C:\\ProgramData\\Anaconda3\\lib\\site-packages\\scipy\\stats\\_continuous_distns.py:2455: RuntimeWarning: The shape parameter of the erlang distribution has been given a non-integer value 3.2890015981203904.\n",
      "  RuntimeWarning)\n",
      "C:\\ProgramData\\Anaconda3\\lib\\site-packages\\scipy\\stats\\_continuous_distns.py:2455: RuntimeWarning: The shape parameter of the erlang distribution has been given a non-integer value 2.9529399243619125.\n",
      "  RuntimeWarning)\n",
      "C:\\ProgramData\\Anaconda3\\lib\\site-packages\\scipy\\stats\\_continuous_distns.py:2455: RuntimeWarning: The shape parameter of the erlang distribution has been given a non-integer value 2.721889320332804.\n",
      "  RuntimeWarning)\n",
      "C:\\ProgramData\\Anaconda3\\lib\\site-packages\\scipy\\stats\\_continuous_distns.py:2455: RuntimeWarning: The shape parameter of the erlang distribution has been given a non-integer value 2.8910728093804297.\n",
      "  RuntimeWarning)\n",
      "C:\\ProgramData\\Anaconda3\\lib\\site-packages\\scipy\\stats\\_continuous_distns.py:2455: RuntimeWarning: The shape parameter of the erlang distribution has been given a non-integer value 2.702948754977779.\n",
      "  RuntimeWarning)\n",
      "C:\\ProgramData\\Anaconda3\\lib\\site-packages\\scipy\\stats\\_continuous_distns.py:2455: RuntimeWarning: The shape parameter of the erlang distribution has been given a non-integer value 2.604106270285797.\n",
      "  RuntimeWarning)\n",
      "C:\\ProgramData\\Anaconda3\\lib\\site-packages\\scipy\\stats\\_continuous_distns.py:2455: RuntimeWarning: The shape parameter of the erlang distribution has been given a non-integer value 3.1177777661617423.\n",
      "  RuntimeWarning)\n",
      "C:\\ProgramData\\Anaconda3\\lib\\site-packages\\scipy\\stats\\_continuous_distns.py:2455: RuntimeWarning: The shape parameter of the erlang distribution has been given a non-integer value 2.9788779310691167.\n",
      "  RuntimeWarning)\n",
      "C:\\ProgramData\\Anaconda3\\lib\\site-packages\\scipy\\stats\\_continuous_distns.py:2455: RuntimeWarning: The shape parameter of the erlang distribution has been given a non-integer value 3.038879080045613.\n",
      "  RuntimeWarning)\n",
      "C:\\ProgramData\\Anaconda3\\lib\\site-packages\\scipy\\stats\\_continuous_distns.py:2455: RuntimeWarning: The shape parameter of the erlang distribution has been given a non-integer value 3.0173942911246883.\n",
      "  RuntimeWarning)\n",
      "C:\\ProgramData\\Anaconda3\\lib\\site-packages\\scipy\\stats\\_continuous_distns.py:2455: RuntimeWarning: The shape parameter of the erlang distribution has been given a non-integer value 2.807118921554414.\n",
      "  RuntimeWarning)\n",
      "C:\\ProgramData\\Anaconda3\\lib\\site-packages\\scipy\\stats\\_continuous_distns.py:2455: RuntimeWarning: The shape parameter of the erlang distribution has been given a non-integer value 2.65178949925075.\n",
      "  RuntimeWarning)\n",
      "C:\\ProgramData\\Anaconda3\\lib\\site-packages\\scipy\\stats\\_continuous_distns.py:2455: RuntimeWarning: The shape parameter of the erlang distribution has been given a non-integer value 2.727959802101461.\n",
      "  RuntimeWarning)\n",
      "C:\\ProgramData\\Anaconda3\\lib\\site-packages\\scipy\\stats\\_continuous_distns.py:2455: RuntimeWarning: The shape parameter of the erlang distribution has been given a non-integer value 2.496487116030406.\n",
      "  RuntimeWarning)\n",
      "C:\\ProgramData\\Anaconda3\\lib\\site-packages\\scipy\\stats\\_continuous_distns.py:2455: RuntimeWarning: The shape parameter of the erlang distribution has been given a non-integer value 2.8871674973511174.\n",
      "  RuntimeWarning)\n",
      "C:\\ProgramData\\Anaconda3\\lib\\site-packages\\scipy\\stats\\_continuous_distns.py:2455: RuntimeWarning: The shape parameter of the erlang distribution has been given a non-integer value 2.8920600685534037.\n",
      "  RuntimeWarning)\n",
      "C:\\ProgramData\\Anaconda3\\lib\\site-packages\\scipy\\stats\\_continuous_distns.py:2455: RuntimeWarning: The shape parameter of the erlang distribution has been given a non-integer value 2.851035001940418.\n",
      "  RuntimeWarning)\n",
      "C:\\ProgramData\\Anaconda3\\lib\\site-packages\\scipy\\stats\\_continuous_distns.py:2455: RuntimeWarning: The shape parameter of the erlang distribution has been given a non-integer value 2.7022551896477607.\n",
      "  RuntimeWarning)\n"
     ]
    },
    {
     "name": "stderr",
     "output_type": "stream",
     "text": [
      "C:\\ProgramData\\Anaconda3\\lib\\site-packages\\scipy\\stats\\_continuous_distns.py:2455: RuntimeWarning: The shape parameter of the erlang distribution has been given a non-integer value 2.582885629874835.\n",
      "  RuntimeWarning)\n",
      "C:\\ProgramData\\Anaconda3\\lib\\site-packages\\scipy\\stats\\_continuous_distns.py:2455: RuntimeWarning: The shape parameter of the erlang distribution has been given a non-integer value 2.430744696136694.\n",
      "  RuntimeWarning)\n",
      "C:\\ProgramData\\Anaconda3\\lib\\site-packages\\scipy\\stats\\_continuous_distns.py:2455: RuntimeWarning: The shape parameter of the erlang distribution has been given a non-integer value 2.3388245880830514.\n",
      "  RuntimeWarning)\n",
      "C:\\ProgramData\\Anaconda3\\lib\\site-packages\\scipy\\stats\\_continuous_distns.py:2455: RuntimeWarning: The shape parameter of the erlang distribution has been given a non-integer value 2.245317332665903.\n",
      "  RuntimeWarning)\n",
      "C:\\ProgramData\\Anaconda3\\lib\\site-packages\\scipy\\stats\\_continuous_distns.py:2455: RuntimeWarning: The shape parameter of the erlang distribution has been given a non-integer value 2.588020725402296.\n",
      "  RuntimeWarning)\n",
      "C:\\ProgramData\\Anaconda3\\lib\\site-packages\\scipy\\stats\\_continuous_distns.py:2455: RuntimeWarning: The shape parameter of the erlang distribution has been given a non-integer value 2.2532705071639443.\n",
      "  RuntimeWarning)\n",
      "C:\\ProgramData\\Anaconda3\\lib\\site-packages\\scipy\\stats\\_continuous_distns.py:2455: RuntimeWarning: The shape parameter of the erlang distribution has been given a non-integer value 2.054011011120542.\n",
      "  RuntimeWarning)\n",
      "C:\\ProgramData\\Anaconda3\\lib\\site-packages\\scipy\\stats\\_continuous_distns.py:2455: RuntimeWarning: The shape parameter of the erlang distribution has been given a non-integer value 2.093872468853497.\n",
      "  RuntimeWarning)\n",
      "C:\\ProgramData\\Anaconda3\\lib\\site-packages\\scipy\\stats\\_continuous_distns.py:2455: RuntimeWarning: The shape parameter of the erlang distribution has been given a non-integer value 2.4644836612650964.\n",
      "  RuntimeWarning)\n",
      "C:\\ProgramData\\Anaconda3\\lib\\site-packages\\scipy\\stats\\_continuous_distns.py:2455: RuntimeWarning: The shape parameter of the erlang distribution has been given a non-integer value 2.426841321627438.\n",
      "  RuntimeWarning)\n",
      "C:\\ProgramData\\Anaconda3\\lib\\site-packages\\scipy\\stats\\_continuous_distns.py:2455: RuntimeWarning: The shape parameter of the erlang distribution has been given a non-integer value 2.360828771469148.\n",
      "  RuntimeWarning)\n",
      "C:\\ProgramData\\Anaconda3\\lib\\site-packages\\scipy\\stats\\_continuous_distns.py:2455: RuntimeWarning: The shape parameter of the erlang distribution has been given a non-integer value 2.288310597128765.\n",
      "  RuntimeWarning)\n",
      "C:\\ProgramData\\Anaconda3\\lib\\site-packages\\scipy\\stats\\_continuous_distns.py:2455: RuntimeWarning: The shape parameter of the erlang distribution has been given a non-integer value 2.3951361713847117.\n",
      "  RuntimeWarning)\n",
      "C:\\ProgramData\\Anaconda3\\lib\\site-packages\\scipy\\stats\\_continuous_distns.py:2455: RuntimeWarning: The shape parameter of the erlang distribution has been given a non-integer value 2.5603618955820266.\n",
      "  RuntimeWarning)\n",
      "C:\\ProgramData\\Anaconda3\\lib\\site-packages\\scipy\\stats\\_continuous_distns.py:2455: RuntimeWarning: The shape parameter of the erlang distribution has been given a non-integer value 2.330043354268465.\n",
      "  RuntimeWarning)\n",
      "C:\\ProgramData\\Anaconda3\\lib\\site-packages\\scipy\\stats\\_continuous_distns.py:2455: RuntimeWarning: The shape parameter of the erlang distribution has been given a non-integer value 2.432280019809701.\n",
      "  RuntimeWarning)\n",
      "C:\\ProgramData\\Anaconda3\\lib\\site-packages\\scipy\\stats\\_continuous_distns.py:2455: RuntimeWarning: The shape parameter of the erlang distribution has been given a non-integer value 2.3071560357101557.\n",
      "  RuntimeWarning)\n",
      "C:\\ProgramData\\Anaconda3\\lib\\site-packages\\scipy\\stats\\_continuous_distns.py:2455: RuntimeWarning: The shape parameter of the erlang distribution has been given a non-integer value 2.425151754876361.\n",
      "  RuntimeWarning)\n",
      "C:\\ProgramData\\Anaconda3\\lib\\site-packages\\scipy\\stats\\_continuous_distns.py:2455: RuntimeWarning: The shape parameter of the erlang distribution has been given a non-integer value 2.3965139145849728.\n",
      "  RuntimeWarning)\n",
      "C:\\ProgramData\\Anaconda3\\lib\\site-packages\\scipy\\stats\\_continuous_distns.py:2455: RuntimeWarning: The shape parameter of the erlang distribution has been given a non-integer value 2.397202786185103.\n",
      "  RuntimeWarning)\n",
      "C:\\ProgramData\\Anaconda3\\lib\\site-packages\\scipy\\stats\\_continuous_distns.py:2455: RuntimeWarning: The shape parameter of the erlang distribution has been given a non-integer value 2.3359852437435853.\n",
      "  RuntimeWarning)\n",
      "C:\\ProgramData\\Anaconda3\\lib\\site-packages\\scipy\\stats\\_continuous_distns.py:2455: RuntimeWarning: The shape parameter of the erlang distribution has been given a non-integer value 2.4421831689349007.\n",
      "  RuntimeWarning)\n",
      "C:\\ProgramData\\Anaconda3\\lib\\site-packages\\scipy\\stats\\_continuous_distns.py:2455: RuntimeWarning: The shape parameter of the erlang distribution has been given a non-integer value 2.358429044366032.\n",
      "  RuntimeWarning)\n",
      "C:\\ProgramData\\Anaconda3\\lib\\site-packages\\scipy\\stats\\_continuous_distns.py:2455: RuntimeWarning: The shape parameter of the erlang distribution has been given a non-integer value 2.4625580892471053.\n",
      "  RuntimeWarning)\n",
      "C:\\ProgramData\\Anaconda3\\lib\\site-packages\\scipy\\stats\\_continuous_distns.py:2455: RuntimeWarning: The shape parameter of the erlang distribution has been given a non-integer value 2.3676284551194655.\n",
      "  RuntimeWarning)\n",
      "C:\\ProgramData\\Anaconda3\\lib\\site-packages\\scipy\\stats\\_continuous_distns.py:2455: RuntimeWarning: The shape parameter of the erlang distribution has been given a non-integer value 2.306657021512166.\n",
      "  RuntimeWarning)\n",
      "C:\\ProgramData\\Anaconda3\\lib\\site-packages\\scipy\\stats\\_continuous_distns.py:2455: RuntimeWarning: The shape parameter of the erlang distribution has been given a non-integer value 2.355896464178458.\n",
      "  RuntimeWarning)\n",
      "C:\\ProgramData\\Anaconda3\\lib\\site-packages\\scipy\\stats\\_continuous_distns.py:2455: RuntimeWarning: The shape parameter of the erlang distribution has been given a non-integer value 2.440494782143185.\n",
      "  RuntimeWarning)\n",
      "C:\\ProgramData\\Anaconda3\\lib\\site-packages\\scipy\\stats\\_continuous_distns.py:2455: RuntimeWarning: The shape parameter of the erlang distribution has been given a non-integer value 2.3401164616699206.\n",
      "  RuntimeWarning)\n",
      "C:\\ProgramData\\Anaconda3\\lib\\site-packages\\scipy\\stats\\_continuous_distns.py:2455: RuntimeWarning: The shape parameter of the erlang distribution has been given a non-integer value 2.3611820195695215.\n",
      "  RuntimeWarning)\n",
      "C:\\ProgramData\\Anaconda3\\lib\\site-packages\\scipy\\stats\\_continuous_distns.py:2455: RuntimeWarning: The shape parameter of the erlang distribution has been given a non-integer value 2.357958801794549.\n",
      "  RuntimeWarning)\n",
      "C:\\ProgramData\\Anaconda3\\lib\\site-packages\\scipy\\stats\\_continuous_distns.py:2455: RuntimeWarning: The shape parameter of the erlang distribution has been given a non-integer value 2.376437714104572.\n",
      "  RuntimeWarning)\n",
      "C:\\ProgramData\\Anaconda3\\lib\\site-packages\\scipy\\stats\\_continuous_distns.py:2455: RuntimeWarning: The shape parameter of the erlang distribution has been given a non-integer value 2.3867083390676296.\n",
      "  RuntimeWarning)\n",
      "C:\\ProgramData\\Anaconda3\\lib\\site-packages\\scipy\\stats\\_continuous_distns.py:2455: RuntimeWarning: The shape parameter of the erlang distribution has been given a non-integer value 2.321288010710907.\n",
      "  RuntimeWarning)\n",
      "C:\\ProgramData\\Anaconda3\\lib\\site-packages\\scipy\\stats\\_continuous_distns.py:2455: RuntimeWarning: The shape parameter of the erlang distribution has been given a non-integer value 2.365822034586746.\n",
      "  RuntimeWarning)\n",
      "C:\\ProgramData\\Anaconda3\\lib\\site-packages\\scipy\\stats\\_continuous_distns.py:2455: RuntimeWarning: The shape parameter of the erlang distribution has been given a non-integer value 2.3478498200319615.\n",
      "  RuntimeWarning)\n",
      "C:\\ProgramData\\Anaconda3\\lib\\site-packages\\scipy\\stats\\_continuous_distns.py:2455: RuntimeWarning: The shape parameter of the erlang distribution has been given a non-integer value 2.3411837202631816.\n",
      "  RuntimeWarning)\n",
      "C:\\ProgramData\\Anaconda3\\lib\\site-packages\\scipy\\stats\\_continuous_distns.py:2455: RuntimeWarning: The shape parameter of the erlang distribution has been given a non-integer value 2.4054517017712795.\n",
      "  RuntimeWarning)\n",
      "C:\\ProgramData\\Anaconda3\\lib\\site-packages\\scipy\\stats\\_continuous_distns.py:2455: RuntimeWarning: The shape parameter of the erlang distribution has been given a non-integer value 2.342328933476.\n",
      "  RuntimeWarning)\n",
      "C:\\ProgramData\\Anaconda3\\lib\\site-packages\\scipy\\stats\\_continuous_distns.py:2455: RuntimeWarning: The shape parameter of the erlang distribution has been given a non-integer value 2.3452556104882762.\n",
      "  RuntimeWarning)\n",
      "C:\\ProgramData\\Anaconda3\\lib\\site-packages\\scipy\\stats\\_continuous_distns.py:2455: RuntimeWarning: The shape parameter of the erlang distribution has been given a non-integer value 2.3606804285621283.\n",
      "  RuntimeWarning)\n",
      "C:\\ProgramData\\Anaconda3\\lib\\site-packages\\scipy\\stats\\_continuous_distns.py:2455: RuntimeWarning: The shape parameter of the erlang distribution has been given a non-integer value 2.3241350739421547.\n",
      "  RuntimeWarning)\n",
      "C:\\ProgramData\\Anaconda3\\lib\\site-packages\\scipy\\stats\\_continuous_distns.py:2455: RuntimeWarning: The shape parameter of the erlang distribution has been given a non-integer value 2.2979837538609456.\n",
      "  RuntimeWarning)\n",
      "C:\\ProgramData\\Anaconda3\\lib\\site-packages\\scipy\\stats\\_continuous_distns.py:2455: RuntimeWarning: The shape parameter of the erlang distribution has been given a non-integer value 2.3155287897379493.\n",
      "  RuntimeWarning)\n",
      "C:\\ProgramData\\Anaconda3\\lib\\site-packages\\scipy\\stats\\_continuous_distns.py:2455: RuntimeWarning: The shape parameter of the erlang distribution has been given a non-integer value 2.3493925188560834.\n",
      "  RuntimeWarning)\n",
      "C:\\ProgramData\\Anaconda3\\lib\\site-packages\\scipy\\stats\\_continuous_distns.py:2455: RuntimeWarning: The shape parameter of the erlang distribution has been given a non-integer value 2.3385893417441332.\n",
      "  RuntimeWarning)\n",
      "C:\\ProgramData\\Anaconda3\\lib\\site-packages\\scipy\\stats\\_continuous_distns.py:2455: RuntimeWarning: The shape parameter of the erlang distribution has been given a non-integer value 2.3367195458782.\n",
      "  RuntimeWarning)\n",
      "C:\\ProgramData\\Anaconda3\\lib\\site-packages\\scipy\\stats\\_continuous_distns.py:2455: RuntimeWarning: The shape parameter of the erlang distribution has been given a non-integer value 2.325648272418997.\n",
      "  RuntimeWarning)\n",
      "C:\\ProgramData\\Anaconda3\\lib\\site-packages\\scipy\\stats\\_continuous_distns.py:2455: RuntimeWarning: The shape parameter of the erlang distribution has been given a non-integer value 2.3082760759701513.\n",
      "  RuntimeWarning)\n",
      "C:\\ProgramData\\Anaconda3\\lib\\site-packages\\scipy\\stats\\_continuous_distns.py:2455: RuntimeWarning: The shape parameter of the erlang distribution has been given a non-integer value 2.2877178545271857.\n",
      "  RuntimeWarning)\n",
      "C:\\ProgramData\\Anaconda3\\lib\\site-packages\\scipy\\stats\\_continuous_distns.py:2455: RuntimeWarning: The shape parameter of the erlang distribution has been given a non-integer value 2.322960855569411.\n",
      "  RuntimeWarning)\n",
      "C:\\ProgramData\\Anaconda3\\lib\\site-packages\\scipy\\stats\\_continuous_distns.py:2455: RuntimeWarning: The shape parameter of the erlang distribution has been given a non-integer value 2.3223737463830396.\n",
      "  RuntimeWarning)\n",
      "C:\\ProgramData\\Anaconda3\\lib\\site-packages\\scipy\\stats\\_continuous_distns.py:2455: RuntimeWarning: The shape parameter of the erlang distribution has been given a non-integer value 2.319656045859511.\n",
      "  RuntimeWarning)\n",
      "C:\\ProgramData\\Anaconda3\\lib\\site-packages\\scipy\\stats\\_continuous_distns.py:2455: RuntimeWarning: The shape parameter of the erlang distribution has been given a non-integer value 2.3211541024993823.\n",
      "  RuntimeWarning)\n",
      "C:\\ProgramData\\Anaconda3\\lib\\site-packages\\scipy\\stats\\_continuous_distns.py:2455: RuntimeWarning: The shape parameter of the erlang distribution has been given a non-integer value 2.2982078101477628.\n",
      "  RuntimeWarning)\n",
      "C:\\ProgramData\\Anaconda3\\lib\\site-packages\\scipy\\stats\\_continuous_distns.py:2455: RuntimeWarning: The shape parameter of the erlang distribution has been given a non-integer value 2.3270916119455904.\n",
      "  RuntimeWarning)\n",
      "C:\\ProgramData\\Anaconda3\\lib\\site-packages\\scipy\\stats\\_continuous_distns.py:2455: RuntimeWarning: The shape parameter of the erlang distribution has been given a non-integer value 2.339194970706105.\n",
      "  RuntimeWarning)\n",
      "C:\\ProgramData\\Anaconda3\\lib\\site-packages\\scipy\\stats\\_continuous_distns.py:2455: RuntimeWarning: The shape parameter of the erlang distribution has been given a non-integer value 2.31600579965414.\n",
      "  RuntimeWarning)\n",
      "C:\\ProgramData\\Anaconda3\\lib\\site-packages\\scipy\\stats\\_continuous_distns.py:2455: RuntimeWarning: The shape parameter of the erlang distribution has been given a non-integer value 2.3228847422800456.\n",
      "  RuntimeWarning)\n",
      "C:\\ProgramData\\Anaconda3\\lib\\site-packages\\scipy\\stats\\_continuous_distns.py:2455: RuntimeWarning: The shape parameter of the erlang distribution has been given a non-integer value 2.32245208233488.\n",
      "  RuntimeWarning)\n",
      "C:\\ProgramData\\Anaconda3\\lib\\site-packages\\scipy\\stats\\_continuous_distns.py:2455: RuntimeWarning: The shape parameter of the erlang distribution has been given a non-integer value 2.3207388070536625.\n",
      "  RuntimeWarning)\n",
      "C:\\ProgramData\\Anaconda3\\lib\\site-packages\\scipy\\stats\\_continuous_distns.py:2455: RuntimeWarning: The shape parameter of the erlang distribution has been given a non-integer value 2.322405343440474.\n",
      "  RuntimeWarning)\n",
      "C:\\ProgramData\\Anaconda3\\lib\\site-packages\\scipy\\stats\\_continuous_distns.py:2455: RuntimeWarning: The shape parameter of the erlang distribution has been given a non-integer value 2.313483871674072.\n",
      "  RuntimeWarning)\n",
      "C:\\ProgramData\\Anaconda3\\lib\\site-packages\\scipy\\stats\\_continuous_distns.py:2455: RuntimeWarning: The shape parameter of the erlang distribution has been given a non-integer value 2.323689676877711.\n",
      "  RuntimeWarning)\n",
      "C:\\ProgramData\\Anaconda3\\lib\\site-packages\\scipy\\stats\\_continuous_distns.py:2455: RuntimeWarning: The shape parameter of the erlang distribution has been given a non-integer value 2.3189484643133365.\n",
      "  RuntimeWarning)\n",
      "C:\\ProgramData\\Anaconda3\\lib\\site-packages\\scipy\\stats\\_continuous_distns.py:2455: RuntimeWarning: The shape parameter of the erlang distribution has been given a non-integer value 2.3171966553025642.\n",
      "  RuntimeWarning)\n",
      "C:\\ProgramData\\Anaconda3\\lib\\site-packages\\scipy\\stats\\_continuous_distns.py:2455: RuntimeWarning: The shape parameter of the erlang distribution has been given a non-integer value 2.316690617122984.\n",
      "  RuntimeWarning)\n",
      "C:\\ProgramData\\Anaconda3\\lib\\site-packages\\scipy\\stats\\_continuous_distns.py:2455: RuntimeWarning: The shape parameter of the erlang distribution has been given a non-integer value 2.320976661861102.\n",
      "  RuntimeWarning)\n",
      "C:\\ProgramData\\Anaconda3\\lib\\site-packages\\scipy\\stats\\_continuous_distns.py:2455: RuntimeWarning: The shape parameter of the erlang distribution has been given a non-integer value 2.3264040690472925.\n",
      "  RuntimeWarning)\n",
      "C:\\ProgramData\\Anaconda3\\lib\\site-packages\\scipy\\stats\\_continuous_distns.py:2455: RuntimeWarning: The shape parameter of the erlang distribution has been given a non-integer value 2.3186053670024283.\n",
      "  RuntimeWarning)\n",
      "C:\\ProgramData\\Anaconda3\\lib\\site-packages\\scipy\\stats\\_continuous_distns.py:2455: RuntimeWarning: The shape parameter of the erlang distribution has been given a non-integer value 2.3153306519068666.\n",
      "  RuntimeWarning)\n",
      "C:\\ProgramData\\Anaconda3\\lib\\site-packages\\scipy\\stats\\_continuous_distns.py:2455: RuntimeWarning: The shape parameter of the erlang distribution has been given a non-integer value 2.317659989533595.\n",
      "  RuntimeWarning)\n",
      "C:\\ProgramData\\Anaconda3\\lib\\site-packages\\scipy\\stats\\_continuous_distns.py:2455: RuntimeWarning: The shape parameter of the erlang distribution has been given a non-integer value 2.318626345618401.\n",
      "  RuntimeWarning)\n",
      "C:\\ProgramData\\Anaconda3\\lib\\site-packages\\scipy\\stats\\_continuous_distns.py:2455: RuntimeWarning: The shape parameter of the erlang distribution has been given a non-integer value 2.323474931081088.\n",
      "  RuntimeWarning)\n",
      "C:\\ProgramData\\Anaconda3\\lib\\site-packages\\scipy\\stats\\_continuous_distns.py:2455: RuntimeWarning: The shape parameter of the erlang distribution has been given a non-integer value 2.317366721700422.\n",
      "  RuntimeWarning)\n",
      "C:\\ProgramData\\Anaconda3\\lib\\site-packages\\scipy\\stats\\_continuous_distns.py:2455: RuntimeWarning: The shape parameter of the erlang distribution has been given a non-integer value 2.3154222943530662.\n",
      "  RuntimeWarning)\n",
      "C:\\ProgramData\\Anaconda3\\lib\\site-packages\\scipy\\stats\\_continuous_distns.py:2455: RuntimeWarning: The shape parameter of the erlang distribution has been given a non-integer value 2.3195880699840927.\n",
      "  RuntimeWarning)\n",
      "C:\\ProgramData\\Anaconda3\\lib\\site-packages\\scipy\\stats\\_continuous_distns.py:2455: RuntimeWarning: The shape parameter of the erlang distribution has been given a non-integer value 2.3184137601728945.\n",
      "  RuntimeWarning)\n"
     ]
    },
    {
     "name": "stderr",
     "output_type": "stream",
     "text": [
      "C:\\ProgramData\\Anaconda3\\lib\\site-packages\\scipy\\stats\\_continuous_distns.py:2455: RuntimeWarning: The shape parameter of the erlang distribution has been given a non-integer value 2.3185731992570244.\n",
      "  RuntimeWarning)\n",
      "C:\\ProgramData\\Anaconda3\\lib\\site-packages\\scipy\\stats\\_continuous_distns.py:2455: RuntimeWarning: The shape parameter of the erlang distribution has been given a non-integer value 2.3204777024619414.\n",
      "  RuntimeWarning)\n",
      "C:\\ProgramData\\Anaconda3\\lib\\site-packages\\scipy\\stats\\_continuous_distns.py:2455: RuntimeWarning: The shape parameter of the erlang distribution has been given a non-integer value 2.3188494424968367.\n",
      "  RuntimeWarning)\n",
      "C:\\ProgramData\\Anaconda3\\lib\\site-packages\\scipy\\stats\\_continuous_distns.py:2455: RuntimeWarning: The shape parameter of the erlang distribution has been given a non-integer value 2.3168743033755845.\n",
      "  RuntimeWarning)\n",
      "C:\\ProgramData\\Anaconda3\\lib\\site-packages\\scipy\\stats\\_continuous_distns.py:2455: RuntimeWarning: The shape parameter of the erlang distribution has been given a non-integer value 2.319576852690352.\n",
      "  RuntimeWarning)\n",
      "C:\\ProgramData\\Anaconda3\\lib\\site-packages\\scipy\\stats\\_continuous_distns.py:2455: RuntimeWarning: The shape parameter of the erlang distribution has been given a non-integer value 2.3189875034696996.\n",
      "  RuntimeWarning)\n",
      "C:\\ProgramData\\Anaconda3\\lib\\site-packages\\scipy\\stats\\_continuous_distns.py:2455: RuntimeWarning: The shape parameter of the erlang distribution has been given a non-integer value 2.3189529882264837.\n",
      "  RuntimeWarning)\n",
      "C:\\ProgramData\\Anaconda3\\lib\\site-packages\\scipy\\stats\\_continuous_distns.py:2455: RuntimeWarning: The shape parameter of the erlang distribution has been given a non-integer value 2.3194633264468125.\n",
      "  RuntimeWarning)\n",
      "C:\\ProgramData\\Anaconda3\\lib\\site-packages\\scipy\\stats\\_continuous_distns.py:2455: RuntimeWarning: The shape parameter of the erlang distribution has been given a non-integer value 2.3188198568635245.\n",
      "  RuntimeWarning)\n",
      "C:\\ProgramData\\Anaconda3\\lib\\site-packages\\scipy\\stats\\_continuous_distns.py:2455: RuntimeWarning: The shape parameter of the erlang distribution has been given a non-integer value 2.3196599325965495.\n",
      "  RuntimeWarning)\n",
      "C:\\ProgramData\\Anaconda3\\lib\\site-packages\\scipy\\stats\\_continuous_distns.py:2455: RuntimeWarning: The shape parameter of the erlang distribution has been given a non-integer value 2.3188448825919057.\n",
      "  RuntimeWarning)\n",
      "C:\\ProgramData\\Anaconda3\\lib\\site-packages\\scipy\\stats\\_continuous_distns.py:2455: RuntimeWarning: The shape parameter of the erlang distribution has been given a non-integer value 2.3181682990975907.\n",
      "  RuntimeWarning)\n",
      "C:\\ProgramData\\Anaconda3\\lib\\site-packages\\scipy\\stats\\_continuous_distns.py:2455: RuntimeWarning: The shape parameter of the erlang distribution has been given a non-integer value 2.3192247142921616.\n",
      "  RuntimeWarning)\n",
      "C:\\ProgramData\\Anaconda3\\lib\\site-packages\\scipy\\stats\\_continuous_distns.py:2455: RuntimeWarning: The shape parameter of the erlang distribution has been given a non-integer value 2.318973314271911.\n",
      "  RuntimeWarning)\n",
      "C:\\ProgramData\\Anaconda3\\lib\\site-packages\\scipy\\stats\\_continuous_distns.py:2455: RuntimeWarning: The shape parameter of the erlang distribution has been given a non-integer value 2.319208750573795.\n",
      "  RuntimeWarning)\n",
      "C:\\ProgramData\\Anaconda3\\lib\\site-packages\\scipy\\stats\\_continuous_distns.py:2455: RuntimeWarning: The shape parameter of the erlang distribution has been given a non-integer value 2.3194031974289295.\n",
      "  RuntimeWarning)\n",
      "C:\\ProgramData\\Anaconda3\\lib\\site-packages\\scipy\\stats\\_continuous_distns.py:2455: RuntimeWarning: The shape parameter of the erlang distribution has been given a non-integer value 2.3192122506999975.\n",
      "  RuntimeWarning)\n",
      "C:\\ProgramData\\Anaconda3\\lib\\site-packages\\scipy\\stats\\_continuous_distns.py:2455: RuntimeWarning: The shape parameter of the erlang distribution has been given a non-integer value 2.3190330483789325.\n",
      "  RuntimeWarning)\n",
      "C:\\ProgramData\\Anaconda3\\lib\\site-packages\\scipy\\stats\\_continuous_distns.py:2455: RuntimeWarning: The shape parameter of the erlang distribution has been given a non-integer value 2.31883307340426.\n",
      "  RuntimeWarning)\n",
      "C:\\ProgramData\\Anaconda3\\lib\\site-packages\\scipy\\stats\\_continuous_distns.py:2455: RuntimeWarning: The shape parameter of the erlang distribution has been given a non-integer value 2.3189309836262355.\n",
      "  RuntimeWarning)\n",
      "C:\\ProgramData\\Anaconda3\\lib\\site-packages\\scipy\\stats\\_continuous_distns.py:2455: RuntimeWarning: The shape parameter of the erlang distribution has been given a non-integer value 2.3192703057940696.\n",
      "  RuntimeWarning)\n",
      "C:\\ProgramData\\Anaconda3\\lib\\site-packages\\scipy\\stats\\_continuous_distns.py:2455: RuntimeWarning: The shape parameter of the erlang distribution has been given a non-integer value 2.3189512383924464.\n",
      "  RuntimeWarning)\n",
      "C:\\ProgramData\\Anaconda3\\lib\\site-packages\\scipy\\stats\\_continuous_distns.py:2455: RuntimeWarning: The shape parameter of the erlang distribution has been given a non-integer value 2.318734763024615.\n",
      "  RuntimeWarning)\n",
      "C:\\ProgramData\\Anaconda3\\lib\\site-packages\\scipy\\stats\\_continuous_distns.py:2455: RuntimeWarning: The shape parameter of the erlang distribution has been given a non-integer value 2.3184977692500253.\n",
      "  RuntimeWarning)\n",
      "C:\\ProgramData\\Anaconda3\\lib\\site-packages\\scipy\\stats\\_continuous_distns.py:2455: RuntimeWarning: The shape parameter of the erlang distribution has been given a non-integer value 2.31888171623776.\n",
      "  RuntimeWarning)\n",
      "C:\\ProgramData\\Anaconda3\\lib\\site-packages\\scipy\\stats\\_continuous_distns.py:2455: RuntimeWarning: The shape parameter of the erlang distribution has been given a non-integer value 2.3189186667791164.\n",
      "  RuntimeWarning)\n",
      "C:\\ProgramData\\Anaconda3\\lib\\site-packages\\scipy\\stats\\_continuous_distns.py:2455: RuntimeWarning: The shape parameter of the erlang distribution has been given a non-integer value 2.318839747062663.\n",
      "  RuntimeWarning)\n",
      "C:\\ProgramData\\Anaconda3\\lib\\site-packages\\scipy\\stats\\_continuous_distns.py:2455: RuntimeWarning: The shape parameter of the erlang distribution has been given a non-integer value 2.318629069531997.\n",
      "  RuntimeWarning)\n",
      "C:\\ProgramData\\Anaconda3\\lib\\site-packages\\scipy\\stats\\_continuous_distns.py:2455: RuntimeWarning: The shape parameter of the erlang distribution has been given a non-integer value 2.318681919161156.\n",
      "  RuntimeWarning)\n",
      "C:\\ProgramData\\Anaconda3\\lib\\site-packages\\scipy\\stats\\_continuous_distns.py:2455: RuntimeWarning: The shape parameter of the erlang distribution has been given a non-integer value 2.318800290087286.\n",
      "  RuntimeWarning)\n",
      "C:\\ProgramData\\Anaconda3\\lib\\site-packages\\scipy\\stats\\_continuous_distns.py:2455: RuntimeWarning: The shape parameter of the erlang distribution has been given a non-integer value 2.3190067437286817.\n",
      "  RuntimeWarning)\n",
      "C:\\ProgramData\\Anaconda3\\lib\\site-packages\\scipy\\stats\\_continuous_distns.py:2455: RuntimeWarning: The shape parameter of the erlang distribution has been given a non-integer value 2.31891232517951.\n",
      "  RuntimeWarning)\n",
      "C:\\ProgramData\\Anaconda3\\lib\\site-packages\\scipy\\stats\\_continuous_distns.py:2455: RuntimeWarning: The shape parameter of the erlang distribution has been given a non-integer value 2.318712918748491.\n",
      "  RuntimeWarning)\n",
      "C:\\ProgramData\\Anaconda3\\lib\\site-packages\\scipy\\stats\\_continuous_distns.py:2455: RuntimeWarning: The shape parameter of the erlang distribution has been given a non-integer value 2.31886722977146.\n",
      "  RuntimeWarning)\n",
      "C:\\ProgramData\\Anaconda3\\lib\\site-packages\\scipy\\stats\\_continuous_distns.py:2455: RuntimeWarning: The shape parameter of the erlang distribution has been given a non-integer value 2.3189851336675558.\n",
      "  RuntimeWarning)\n",
      "C:\\ProgramData\\Anaconda3\\lib\\site-packages\\scipy\\stats\\_continuous_distns.py:2455: RuntimeWarning: The shape parameter of the erlang distribution has been given a non-integer value 2.3189225410068204.\n",
      "  RuntimeWarning)\n",
      "C:\\ProgramData\\Anaconda3\\lib\\site-packages\\scipy\\stats\\_continuous_distns.py:2455: RuntimeWarning: The shape parameter of the erlang distribution has been given a non-integer value 2.3188143820642004.\n",
      "  RuntimeWarning)\n",
      "C:\\ProgramData\\Anaconda3\\lib\\site-packages\\scipy\\stats\\_continuous_distns.py:2455: RuntimeWarning: The shape parameter of the erlang distribution has been given a non-integer value 2.318765410506545.\n",
      "  RuntimeWarning)\n",
      "C:\\ProgramData\\Anaconda3\\lib\\site-packages\\scipy\\stats\\_continuous_distns.py:2455: RuntimeWarning: The shape parameter of the erlang distribution has been given a non-integer value 2.318935811807701.\n",
      "  RuntimeWarning)\n",
      "C:\\ProgramData\\Anaconda3\\lib\\site-packages\\scipy\\stats\\_continuous_distns.py:2455: RuntimeWarning: The shape parameter of the erlang distribution has been given a non-integer value 2.31883417051739.\n",
      "  RuntimeWarning)\n",
      "C:\\ProgramData\\Anaconda3\\lib\\site-packages\\scipy\\stats\\_continuous_distns.py:2455: RuntimeWarning: The shape parameter of the erlang distribution has been given a non-integer value 2.3188468326208134.\n",
      "  RuntimeWarning)\n",
      "C:\\ProgramData\\Anaconda3\\lib\\site-packages\\scipy\\stats\\_continuous_distns.py:2455: RuntimeWarning: The shape parameter of the erlang distribution has been given a non-integer value 2.318862130483798.\n",
      "  RuntimeWarning)\n",
      "C:\\ProgramData\\Anaconda3\\lib\\site-packages\\scipy\\stats\\_continuous_distns.py:2455: RuntimeWarning: The shape parameter of the erlang distribution has been given a non-integer value 2.318751247703439.\n",
      "  RuntimeWarning)\n",
      "C:\\ProgramData\\Anaconda3\\lib\\site-packages\\scipy\\stats\\_continuous_distns.py:2455: RuntimeWarning: The shape parameter of the erlang distribution has been given a non-integer value 2.318879717680975.\n",
      "  RuntimeWarning)\n",
      "C:\\ProgramData\\Anaconda3\\lib\\site-packages\\scipy\\stats\\_continuous_distns.py:2455: RuntimeWarning: The shape parameter of the erlang distribution has been given a non-integer value 2.3188699829685926.\n",
      "  RuntimeWarning)\n",
      "C:\\ProgramData\\Anaconda3\\lib\\site-packages\\scipy\\stats\\_continuous_distns.py:2455: RuntimeWarning: The shape parameter of the erlang distribution has been given a non-integer value 2.318847257992047.\n",
      "  RuntimeWarning)\n",
      "C:\\ProgramData\\Anaconda3\\lib\\site-packages\\scipy\\stats\\_continuous_distns.py:2455: RuntimeWarning: The shape parameter of the erlang distribution has been given a non-integer value 2.318839821746172.\n",
      "  RuntimeWarning)\n"
     ]
    }
   ],
   "source": [
    "# pensando en que fuera beta\n",
    "\n",
    "#st.beta.fit(data['loangrade'])[3]\n",
    "\n",
    "#pensando en que fuera erlang\n",
    "print('erlang parameters for the distribution')\n",
    "st.erlang.fit(data['loangrade'])\n",
    "a=st.erlang.fit(data['loangrade'])[0]\n",
    "loc=st.erlang.fit(data['loangrade'])[1]\n",
    "scale=st.erlang.fit(data['loangrade'])[2]"
   ]
  },
  {
   "cell_type": "code",
   "execution_count": 84,
   "metadata": {},
   "outputs": [
    {
     "name": "stderr",
     "output_type": "stream",
     "text": [
      "C:\\ProgramData\\Anaconda3\\lib\\site-packages\\scipy\\stats\\_continuous_distns.py:2455: RuntimeWarning: The shape parameter of the erlang distribution has been given a non-integer value array(2.31883982).\n",
      "  RuntimeWarning)\n"
     ]
    },
    {
     "data": {
      "text/plain": [
       "Text(0,0.5,'Data theorical quantiles')"
      ]
     },
     "execution_count": 84,
     "metadata": {},
     "output_type": "execute_result"
    },
    {
     "data": {
      "image/png": "[encoded data removed]",
      "text/plain": [
       "<matplotlib.figure.Figure at 0x13167870>"
      ]
     },
     "metadata": {},
     "output_type": "display_data"
    }
   ],
   "source": [
    "res = st.probplot(data['loangrade'],dist=st.erlang,sparams=(a,loc,scale), plot=plt)\n",
    "plt.grid()\n",
    "plt.xlabel('Normal theorical quantiles')\n",
    "plt.ylabel('Data theorical quantiles')"
   ]
  },
  {
   "cell_type": "code",
   "execution_count": 88,
   "metadata": {},
   "outputs": [
    {
     "data": {
      "image/png": "[encoded data removed]",
      "text/plain": [
       "<matplotlib.figure.Figure at 0x12f15270>"
      ]
     },
     "metadata": {},
     "output_type": "display_data"
    }
   ],
   "source": [
    "a=1\n",
    "b=10\n",
    "c=35\n",
    "N=1000000\n",
    "#r=st.binom.rvs(n=b,p=.7,size=N)\n",
    "r=np.round(st.erlang.rvs(a=a,loc=loc,scale=scale,size=N))\n",
    "r=[i for i in r if i<36]\n",
    "#r=np.round(st.norm.rvs(loc=np.mean(data['loangrade']),scale=np.std(data['loangrade']),size=N))\n",
    "#r=np.round(st.triang.rvs((b-a)/(c-a),a,c-a,N))\n",
    "\n",
    "plt.hist(r,100)\n",
    "plt.title('Distribution of the funded amounts by simulated loangrades')\n",
    "plt.xlabel('loangrade')\n",
    "plt.ylabel('frequency')\n",
    "plt.show()\n"
   ]
  },
  {
   "cell_type": "code",
   "execution_count": 61,
   "metadata": {},
   "outputs": [],
   "source": [
    "#simulated interest rates apliable to loans\n",
    "z=np.random.uniform(np.min(data['int_rate']),np.max(data['int_rate']),len(r))\n",
    "#simulated funded amounts of the loans\n",
    "y=np.round(np.random.uniform(np.max(data['funded_amnt']),np.min(data['funded_amnt']),len(r)))"
   ]
  },
  {
   "cell_type": "code",
   "execution_count": 62,
   "metadata": {},
   "outputs": [],
   "source": [
    "sim_loangrade=pd.DataFrame(r)\n",
    "sim_int_rate=pd.DataFrame(z)\n",
    "sim_amounts=pd.DataFrame(y)\n",
    "sim=pd.concat([sim_loangrade,sim_int_rate,sim_amounts],axis=1)\n",
    "#full table with the simulation\n",
    "sim.columns=['loangrade','int_rate','funded_amnt']"
   ]
  },
  {
   "cell_type": "code",
   "execution_count": 63,
   "metadata": {},
   "outputs": [],
   "source": [
    "#functions that according to the probability of default for every loan generates simulations of default\n",
    "f=lambda x: int(np.random.choice(2,1,p=[1-default_probability_by_loangrade[x],default_probability_by_loangrade[x]]))"
   ]
  },
  {
   "cell_type": "code",
   "execution_count": 64,
   "metadata": {},
   "outputs": [],
   "source": [
    "default_sim=list(map(lambda n:f(int(n)-1),sim['loangrade']))"
   ]
  },
  {
   "cell_type": "code",
   "execution_count": 65,
   "metadata": {},
   "outputs": [
    {
     "data": {
      "text/plain": [
       "0.11233753905989441"
      ]
     },
     "execution_count": 65,
     "metadata": {},
     "output_type": "execute_result"
    }
   ],
   "source": [
    "np.count_nonzero(default_sim)/len(sim)"
   ]
  },
  {
   "cell_type": "code",
   "execution_count": 67,
   "metadata": {},
   "outputs": [],
   "source": [
    "#simulated default loans\n",
    "x=pd.DataFrame([sim.iloc[i,] for i in range(len(default_sim)) if default_sim[i]==1])"
   ]
  },
  {
   "cell_type": "code",
   "execution_count": 79,
   "metadata": {},
   "outputs": [
    {
     "name": "stdout",
     "output_type": "stream",
     "text": [
      "the percentage of loses in money is  11.268685075385267 %\n"
     ]
    }
   ],
   "source": [
    "print('the percentage of loses in money is ',(sum(x['funded_amnt'])/sum(sim['funded_amnt'])*100),'%')"
   ]
  },
  {
   "cell_type": "code",
   "execution_count": null,
   "metadata": {},
   "outputs": [],
   "source": []
  }
 ],
 "metadata": {
  "kernelspec": {
   "display_name": "Python 3",
   "language": "python",
   "name": "python3"
  },
  "language_info": {
   "codemirror_mode": {
    "name": "ipython",
    "version": 3
   },
   "file_extension": ".py",
   "mimetype": "text/x-python",
   "name": "python",
   "nbconvert_exporter": "python",
   "pygments_lexer": "ipython3",
   "version": "3.6.4"
  }
 },
 "nbformat": 4,
 "nbformat_minor": 2
}
