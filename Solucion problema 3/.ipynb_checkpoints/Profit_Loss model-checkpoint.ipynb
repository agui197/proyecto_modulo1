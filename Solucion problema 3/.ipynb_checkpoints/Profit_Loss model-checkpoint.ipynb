{
 "cells": [
  {
   "cell_type": "markdown",
   "metadata": {},
   "source": [
    "# Problema 3\n",
    "## Model that predicts profit\n",
    "### El objetivo es saber si se presentaran perdidas"
   ]
  },
  {
   "cell_type": "code",
   "execution_count": 1,
   "metadata": {},
   "outputs": [],
   "source": [
    "import pandas as pd\n",
    "#import pandas_datareader.data as web\n",
    "import numpy as np\n",
    "import datetime\n",
    "import matplotlib.pyplot as plt\n",
    "import scipy.stats as st\n",
    "%matplotlib inline\n",
    "#pd.set_option('display.notebook_repr_html', True)\n",
    "#pd.set_option('display.max_columns', 11)\n",
    "#pd.set_option('display.max_rows', 10)\n",
    "#pd.set_option('display.width', 78)\n",
    "pd.set_option('precision', 3)"
   ]
  },
  {
   "cell_type": "code",
   "execution_count": 3,
   "metadata": {},
   "outputs": [],
   "source": [
    "data=pd.read_excel('bases de datos/dbp3.xlsx')"
   ]
  },
  {
   "cell_type": "code",
   "execution_count": 4,
   "metadata": {},
   "outputs": [],
   "source": [
    "clasified=list(map(lambda n:data.loc[data['int_rate']==n,:],np.unique(data['int_rate'])))"
   ]
  },
  {
   "cell_type": "code",
   "execution_count": 5,
   "metadata": {},
   "outputs": [],
   "source": [
    "amounts=list(map(lambda n: np.sum(n.iloc[:,4]),clasified))"
   ]
  },
  {
   "cell_type": "code",
   "execution_count": 6,
   "metadata": {},
   "outputs": [
    {
     "data": {
      "image/png": "[encoded data removed]",
      "text/plain": [
       "<matplotlib.figure.Figure at 0xae12a90>"
      ]
     },
     "metadata": {},
     "output_type": "display_data"
    }
   ],
   "source": [
    "plt.bar(range(len(amounts)),amounts)\n",
    "plt.title('Montos de prestamo segun la tasa de interes')\n",
    "plt.show()"
   ]
  },
  {
   "cell_type": "markdown",
   "metadata": {},
   "source": [
    "### Probabilidad de default dependiento la tasa de interes"
   ]
  },
  {
   "cell_type": "code",
   "execution_count": 7,
   "metadata": {},
   "outputs": [],
   "source": [
    "default_probability=list(map(lambda n:np.count_nonzero(n.iloc[:,0]<0)/len(n.iloc[:,0]),clasified))"
   ]
  },
  {
   "cell_type": "code",
   "execution_count": 8,
   "metadata": {},
   "outputs": [
    {
     "data": {
      "text/plain": [
       "[0.019197207678883072,\n",
       " 0.04390243902439024,\n",
       " 0.002881844380403458,\n",
       " 0.2631578947368421,\n",
       " 0.006711409395973154,\n",
       " 0.11904761904761904,\n",
       " 0.1206896551724138,\n",
       " 0.24429967426710097,\n",
       " 0.005050505050505051,\n",
       " 0.08333333333333333,\n",
       " 0.1967741935483871,\n",
       " 0.00980392156862745,\n",
       " 0.020833333333333332,\n",
       " 0.0,\n",
       " 1.0,\n",
       " 0.14327485380116958,\n",
       " 0.010075566750629723,\n",
       " 0.34375,\n",
       " 0.027777777777777776,\n",
       " 0.14285714285714285,\n",
       " 1.0,\n",
       " 0.022865853658536585,\n",
       " 0.05844980940279543,\n",
       " 0.023972602739726026,\n",
       " 0.30851063829787234,\n",
       " 0.032467532467532464,\n",
       " 0.8148148148148148,\n",
       " 0.07008086253369272,\n",
       " 0.024054982817869417,\n",
       " 0.0,\n",
       " 0.35353535353535354,\n",
       " 0.9230769230769231,\n",
       " 0.8163265306122449,\n",
       " 0.9230769230769231,\n",
       " 0.011235955056179775,\n",
       " 0.03208556149732621,\n",
       " 0.8863636363636364,\n",
       " 0.9411764705882353,\n",
       " 0.041666666666666664,\n",
       " 0.004975124378109453,\n",
       " 0.020066889632107024,\n",
       " 1.0,\n",
       " 0.7333333333333333,\n",
       " 0.9333333333333333,\n",
       " 0.0851063829787234,\n",
       " 0.1925133689839572,\n",
       " 0.9583333333333334,\n",
       " 0.8695652173913043,\n",
       " 0.8936170212765957,\n",
       " 1.0,\n",
       " 0.035897435897435895,\n",
       " 0.1015625,\n",
       " 1.0,\n",
       " 0.0,\n",
       " 1.0,\n",
       " 0.8311688311688312,\n",
       " 1.0,\n",
       " 0.15053763440860216,\n",
       " 0.005305039787798408,\n",
       " 0.9333333333333333,\n",
       " 0.03130148270181219,\n",
       " 0.00398406374501992,\n",
       " 1.0,\n",
       " 0.7818181818181819,\n",
       " 0.8181818181818182,\n",
       " 0.8333333333333334,\n",
       " 0.07894736842105263,\n",
       " 1.0,\n",
       " 1.0,\n",
       " 0.03515625,\n",
       " 0.00851063829787234,\n",
       " 0.039647577092511016,\n",
       " 0.9298245614035088,\n",
       " 0.75,\n",
       " 0.9090909090909091,\n",
       " 0.11,\n",
       " 0.07053941908713693,\n",
       " 1.0,\n",
       " 0.004597701149425287,\n",
       " 0.8103448275862069,\n",
       " 0.009615384615384616,\n",
       " 0.019230769230769232,\n",
       " 0.9130434782608695,\n",
       " 0.9032258064516129,\n",
       " 0.9354838709677419,\n",
       " 0.2804878048780488,\n",
       " 1.0,\n",
       " 0.031958762886597936,\n",
       " 0.84375,\n",
       " 1.0,\n",
       " 0.006024096385542169,\n",
       " 0.01838235294117647,\n",
       " 0.10697674418604651,\n",
       " 1.0,\n",
       " 0.45263157894736844,\n",
       " 1.0,\n",
       " 0.875,\n",
       " 0.03875968992248062,\n",
       " 0.9411764705882353,\n",
       " 0.9259259259259259,\n",
       " 0.015544041450777202,\n",
       " 0.016726403823178016,\n",
       " 1.0,\n",
       " 0.5887850467289719,\n",
       " 1.0,\n",
       " 0.0,\n",
       " 0.86,\n",
       " 0.014778325123152709,\n",
       " 1.0,\n",
       " 0.9642857142857143,\n",
       " 0.037037037037037035,\n",
       " 0.05263157894736842,\n",
       " 0.41818181818181815,\n",
       " 1.0,\n",
       " 0.8431372549019608,\n",
       " 0.007476635514018692,\n",
       " 0.9090909090909091,\n",
       " 0.95,\n",
       " 0.0,\n",
       " 1.0,\n",
       " 0.009259259259259259,\n",
       " 0.47540983606557374,\n",
       " 1.0,\n",
       " 0.027972027972027972,\n",
       " 0.7924528301886793,\n",
       " 1.0,\n",
       " 0.9545454545454546,\n",
       " 0.004514672686230248,\n",
       " 0.9090909090909091,\n",
       " 0.21067415730337077,\n",
       " 1.0,\n",
       " 0.21428571428571427,\n",
       " 0.0,\n",
       " 0.8,\n",
       " 0.01593625498007968,\n",
       " 0.0,\n",
       " 1.0,\n",
       " 0.024390243902439025,\n",
       " 1.0,\n",
       " 0.4473684210526316,\n",
       " 1.0,\n",
       " 0.009708737864077669,\n",
       " 0.8409090909090909,\n",
       " 0.01652892561983471,\n",
       " 0.02850877192982456,\n",
       " 0.9130434782608695,\n",
       " 0.00909090909090909,\n",
       " 0.014778325123152709,\n",
       " 1.0,\n",
       " 0.5244755244755245,\n",
       " 1.0,\n",
       " 0.031446540880503145,\n",
       " 0.021660649819494584,\n",
       " 0.8214285714285714,\n",
       " 0.8823529411764706,\n",
       " 0.0,\n",
       " 1.0,\n",
       " 0.08917197452229299,\n",
       " 0.4794520547945205,\n",
       " 0.005714285714285714,\n",
       " 0.010817307692307692,\n",
       " 0.84,\n",
       " 0.006535947712418301,\n",
       " 0.006389776357827476,\n",
       " 1.0,\n",
       " 0.8,\n",
       " 0.0,\n",
       " 1.0,\n",
       " 0.504,\n",
       " 0.07971014492753623,\n",
       " 0.0,\n",
       " 0.006578947368421052,\n",
       " 0.75,\n",
       " 0.035211267605633804,\n",
       " 0.8,\n",
       " 0.022435897435897436,\n",
       " 0.04669260700389105,\n",
       " 1.0,\n",
       " 0.0,\n",
       " 0.4336283185840708,\n",
       " 1.0,\n",
       " 0.03278688524590164,\n",
       " 0.6153846153846154,\n",
       " 0.0,\n",
       " 0.9,\n",
       " 0.036231884057971016,\n",
       " 0.0,\n",
       " 0.875,\n",
       " 0.0,\n",
       " 1.0,\n",
       " 0.3867924528301887,\n",
       " 1.0,\n",
       " 0.00847457627118644,\n",
       " 0.7804878048780488,\n",
       " 0.013333333333333334,\n",
       " 1.0,\n",
       " 0.015151515151515152,\n",
       " 0.017543859649122806,\n",
       " 0.75,\n",
       " 0.0,\n",
       " 1.0,\n",
       " 1.0,\n",
       " 0.008,\n",
       " 0.4880952380952381,\n",
       " 1.0,\n",
       " 0.005154639175257732,\n",
       " 0.6744186046511628,\n",
       " 0.0,\n",
       " 0.007633587786259542,\n",
       " 1.0,\n",
       " 0.0,\n",
       " 1.0,\n",
       " 0.024096385542168676,\n",
       " 0.9411764705882353,\n",
       " 0.35526315789473684,\n",
       " 1.0,\n",
       " 0.8181818181818182,\n",
       " 0.08139534883720931,\n",
       " 0.004545454545454545,\n",
       " 0.013888888888888888,\n",
       " 1.0,\n",
       " 0.01,\n",
       " 0.006802721088435374,\n",
       " 0.008849557522123894,\n",
       " 0.0962962962962963,\n",
       " 0.3269230769230769,\n",
       " 1.0,\n",
       " 0.75,\n",
       " 1.0,\n",
       " 0.06521739130434782,\n",
       " 0.009950248756218905,\n",
       " 0.005847953216374269,\n",
       " 0.034482758620689655,\n",
       " 0.5,\n",
       " 0.0707070707070707,\n",
       " 0.75,\n",
       " 1.0,\n",
       " 1.0,\n",
       " 0.0125,\n",
       " 0.05699481865284974,\n",
       " 0.006968641114982578,\n",
       " 0.15748031496062992,\n",
       " 1.0,\n",
       " 0.02,\n",
       " 0.0,\n",
       " 0.8,\n",
       " 0.0,\n",
       " 1.0,\n",
       " 1.0,\n",
       " 0.8,\n",
       " 0.0,\n",
       " 0.060085836909871244,\n",
       " 1.0,\n",
       " 0.04081632653061224,\n",
       " 0.06493506493506493,\n",
       " 0.0051813471502590676,\n",
       " 1.0,\n",
       " 0.012244897959183673,\n",
       " 0.3333333333333333,\n",
       " 0.21739130434782608,\n",
       " 1.0,\n",
       " 0.015384615384615385,\n",
       " 0.046511627906976744,\n",
       " 0.5714285714285714,\n",
       " 0.00911854103343465,\n",
       " 0.018518518518518517,\n",
       " 1.0,\n",
       " 0.004694835680751174,\n",
       " 0.8,\n",
       " 0.2916666666666667,\n",
       " 1.0,\n",
       " 0.75,\n",
       " 0.0,\n",
       " 0.05555555555555555,\n",
       " 0.5,\n",
       " 0.05555555555555555,\n",
       " 0.5,\n",
       " 0.022900763358778626,\n",
       " 1.0,\n",
       " 0.4117647058823529,\n",
       " 0.004901960784313725,\n",
       " 1.0,\n",
       " 0.6923076923076923,\n",
       " 0.045454545454545456,\n",
       " 1.0,\n",
       " 0.03125,\n",
       " 0.0,\n",
       " 1.0,\n",
       " 0.015789473684210527,\n",
       " 0.0,\n",
       " 0.9090909090909091,\n",
       " 0.04,\n",
       " 0.02617801047120419,\n",
       " 1.0,\n",
       " 0.25,\n",
       " 1.0,\n",
       " 0.04,\n",
       " 1.0,\n",
       " 0.07692307692307693,\n",
       " 0.8888888888888888,\n",
       " 0.045454545454545456,\n",
       " 0.16666666666666666,\n",
       " 1.0,\n",
       " 0.03125,\n",
       " 0.3333333333333333,\n",
       " 0.03333333333333333,\n",
       " 0.6666666666666666,\n",
       " 0.0,\n",
       " 0.0,\n",
       " 0.06666666666666667,\n",
       " 0.1111111111111111,\n",
       " 0.004291845493562232,\n",
       " 0.7692307692307693,\n",
       " 0.04411764705882353,\n",
       " 1.0,\n",
       " 0.01935483870967742,\n",
       " 0.047619047619047616,\n",
       " 0.0,\n",
       " 0.5714285714285714,\n",
       " 0.08333333333333333,\n",
       " 0.5,\n",
       " 0.0,\n",
       " 0.0,\n",
       " 0.0196078431372549,\n",
       " 1.0,\n",
       " 0.0,\n",
       " 0.018867924528301886,\n",
       " 0.3333333333333333,\n",
       " 1.0,\n",
       " 0.0,\n",
       " 0.03333333333333333,\n",
       " 0.007936507936507936,\n",
       " 0.023255813953488372,\n",
       " 0.0,\n",
       " 0.0,\n",
       " 0.008333333333333333,\n",
       " 0.058823529411764705,\n",
       " 0.0,\n",
       " 0.03125,\n",
       " 0.0,\n",
       " 0.0,\n",
       " 0.0,\n",
       " 0.018518518518518517,\n",
       " 0.06666666666666667,\n",
       " 0.08,\n",
       " 0.0,\n",
       " 0.0,\n",
       " 0.0,\n",
       " 0.09090909090909091,\n",
       " 0.0,\n",
       " 0.0,\n",
       " 0.0,\n",
       " 0.025974025974025976,\n",
       " 0.011235955056179775,\n",
       " 0.25,\n",
       " 0.09090909090909091,\n",
       " 0.0,\n",
       " 0.0,\n",
       " 0.0,\n",
       " 0.0,\n",
       " 0.08333333333333333,\n",
       " 0.0,\n",
       " 0.0,\n",
       " 0.0,\n",
       " 0.0,\n",
       " 0.05454545454545454,\n",
       " 0.0,\n",
       " 0.0,\n",
       " 0.14285714285714285,\n",
       " 0.0,\n",
       " 0.0,\n",
       " 0.022222222222222223,\n",
       " 0.0,\n",
       " 0.0,\n",
       " 0.0,\n",
       " 0.0,\n",
       " 0.0,\n",
       " 0.0,\n",
       " 0.0,\n",
       " 0.03225806451612903,\n",
       " 0.0,\n",
       " 0.0,\n",
       " 0.0,\n",
       " 0.0,\n",
       " 0.0,\n",
       " 0.0,\n",
       " 0.0,\n",
       " 0.0,\n",
       " 0.0,\n",
       " 0.0,\n",
       " 0.0,\n",
       " 0.0,\n",
       " 0.0,\n",
       " 0.0]"
      ]
     },
     "execution_count": 8,
     "metadata": {},
     "output_type": "execute_result"
    }
   ],
   "source": [
    "default_probability"
   ]
  },
  {
   "cell_type": "markdown",
   "metadata": {},
   "source": [
    "### Tasas de interes con 100% de probabilidad de default"
   ]
  },
  {
   "cell_type": "code",
   "execution_count": 8,
   "metadata": {},
   "outputs": [
    {
     "data": {
      "text/plain": [
       "array([0.0712, 0.0743, 0.0901, 0.0951, 0.0964, 0.097 , 0.0983, 0.1001,\n",
       "       0.1028, 0.1033, 0.1064, 0.1096, 0.1109, 0.1122, 0.1128, 0.1154,\n",
       "       0.1159, 0.1172, 0.1191, 0.1217, 0.1222, 0.1236, 0.1254, 0.1272,\n",
       "       0.128 , 0.1286, 0.1312, 0.1317, 0.1336, 0.1362, 0.1375, 0.1407,\n",
       "       0.1412, 0.1438, 0.1443, 0.1457, 0.1467, 0.147 , 0.1475, 0.1488,\n",
       "       0.1493, 0.1507, 0.1525, 0.1538, 0.1551, 0.1583, 0.1588, 0.1601,\n",
       "       0.1615, 0.162 , 0.1633, 0.1646, 0.1665, 0.1683, 0.1696, 0.1722,\n",
       "       0.1728, 0.1741, 0.1746, 0.1759, 0.1772, 0.1778, 0.1791, 0.1836,\n",
       "       0.1872, 0.1886])"
      ]
     },
     "execution_count": 8,
     "metadata": {},
     "output_type": "execute_result"
    }
   ],
   "source": [
    "np.unique(data['int_rate'])[np.array(default_probability)==1]"
   ]
  },
  {
   "cell_type": "code",
   "execution_count": 9,
   "metadata": {},
   "outputs": [
    {
     "data": {
      "text/plain": [
       "array([ 14,  20,  41,  49,  52,  54,  56,  62,  67,  68,  77,  86,  89,\n",
       "        93,  95, 102, 104, 108, 113, 119, 122, 125, 130, 136, 138, 140,\n",
       "       148, 150, 156, 164, 167, 177, 180, 189, 191, 195, 200, 201, 204,\n",
       "       209, 211, 215, 220, 226, 228, 236, 237, 242, 247, 248, 252, 256,\n",
       "       260, 266, 270, 278, 281, 284, 287, 293, 295, 297, 302, 314, 324,\n",
       "       328])"
      ]
     },
     "execution_count": 9,
     "metadata": {},
     "output_type": "execute_result"
    }
   ],
   "source": [
    "np.arange(len(amounts))[np.array(default_probability)==1]"
   ]
  },
  {
   "cell_type": "markdown",
   "metadata": {},
   "source": [
    "### Grado del prestamo que tuvo, en una tasa de interes, el 100% de default"
   ]
  },
  {
   "cell_type": "code",
   "execution_count": 10,
   "metadata": {},
   "outputs": [],
   "source": [
    "loangrades=list(map(lambda n:np.mean(clasified[n].iloc[:,3]),np.arange(len(amounts))[np.array(default_probability)==1]))"
   ]
  },
  {
   "cell_type": "code",
   "execution_count": 11,
   "metadata": {
    "scrolled": true
   },
   "outputs": [
    {
     "data": {
      "text/plain": [
       "[1.0,\n",
       " 2.0,\n",
       " 7.0,\n",
       " 7.0,\n",
       " 9.0,\n",
       " 6.0,\n",
       " 8.0,\n",
       " 7.0,\n",
       " 11.0,\n",
       " 8.0,\n",
       " 9.0,\n",
       " 10.0,\n",
       " 12.0,\n",
       " 14.0,\n",
       " 11.0,\n",
       " 15.0,\n",
       " 12.0,\n",
       " 14.0,\n",
       " 13.0,\n",
       " 17.0,\n",
       " 14.0,\n",
       " 16.0,\n",
       " 15.0,\n",
       " 14.0,\n",
       " 19.0,\n",
       " 16.0,\n",
       " 20.0,\n",
       " 17.0,\n",
       " 16.0,\n",
       " 20.0,\n",
       " 22.0,\n",
       " 23.0,\n",
       " 20.0,\n",
       " 24.0,\n",
       " 21.0,\n",
       " 23.0,\n",
       " 25.0,\n",
       " 25.0,\n",
       " 22.0,\n",
       " 24.0,\n",
       " 21.0,\n",
       " 23.0,\n",
       " 22.0,\n",
       " 24.0,\n",
       " 26.0,\n",
       " 27.0,\n",
       " 24.0,\n",
       " 26.0,\n",
       " 28.0,\n",
       " 25.0,\n",
       " 27.0,\n",
       " 29.0,\n",
       " 28.0,\n",
       " 27.0,\n",
       " 29.0,\n",
       " 33.0,\n",
       " 30.0,\n",
       " 32.0,\n",
       " 29.0,\n",
       " 31.0,\n",
       " 33.0,\n",
       " 30.0,\n",
       " 32.0,\n",
       " 35.0,\n",
       " 33.0,\n",
       " 35.0]"
      ]
     },
     "execution_count": 11,
     "metadata": {},
     "output_type": "execute_result"
    }
   ],
   "source": [
    "loangrades"
   ]
  },
  {
   "cell_type": "markdown",
   "metadata": {},
   "source": [
    "### Probabilidad de default segun el grado del prestamo"
   ]
  },
  {
   "cell_type": "code",
   "execution_count": 12,
   "metadata": {},
   "outputs": [],
   "source": [
    "clasified_by_loangrade=list(map(lambda n:data.loc[data['loangrade']==n,:],np.unique(data['loangrade'])))"
   ]
  },
  {
   "cell_type": "code",
   "execution_count": 13,
   "metadata": {},
   "outputs": [],
   "source": [
    "default_probability_by_loangrade=list(map(lambda n:np.count_nonzero(n.iloc[:,0]<0)/len(n.iloc[:,0]),clasified_by_loangrade))"
   ]
  },
  {
   "cell_type": "code",
   "execution_count": 14,
   "metadata": {
    "scrolled": true
   },
   "outputs": [
    {
     "data": {
      "text/plain": [
       "[0.03590192644483362,\n",
       " 0.06513157894736842,\n",
       " 0.10367526055951728,\n",
       " 0.09225473321858864,\n",
       " 0.09094163981382027,\n",
       " 0.09298618490967056,\n",
       " 0.10175106483672504,\n",
       " 0.08174841508174842,\n",
       " 0.09034749034749034,\n",
       " 0.0883505521909512,\n",
       " 0.11042402826855123,\n",
       " 0.09689383402874363,\n",
       " 0.13027744270205066,\n",
       " 0.14744525547445256,\n",
       " 0.139426800929512,\n",
       " 0.14150047483380818,\n",
       " 0.09158249158249158,\n",
       " 0.10287443267776097,\n",
       " 0.11491228070175438,\n",
       " 0.0984251968503937,\n",
       " 0.10520361990950226,\n",
       " 0.14538558786346398,\n",
       " 0.1317365269461078,\n",
       " 0.15579710144927536,\n",
       " 0.1342685370741483,\n",
       " 0.1377551020408163,\n",
       " 0.1396103896103896,\n",
       " 0.13135593220338984,\n",
       " 0.12322274881516587,\n",
       " 0.14935064935064934,\n",
       " 0.1347517730496454,\n",
       " 0.102803738317757,\n",
       " 0.16455696202531644,\n",
       " 0.31313131313131315,\n",
       " 0.32558139534883723]"
      ]
     },
     "execution_count": 14,
     "metadata": {},
     "output_type": "execute_result"
    }
   ],
   "source": [
    "default_probability_by_loangrade"
   ]
  },
  {
   "cell_type": "markdown",
   "metadata": {},
   "source": [
    "## Estadisticos"
   ]
  },
  {
   "cell_type": "code",
   "execution_count": 15,
   "metadata": {},
   "outputs": [
    {
     "data": {
      "text/plain": [
       "0.15128026625901467"
      ]
     },
     "execution_count": 15,
     "metadata": {},
     "output_type": "execute_result"
    }
   ],
   "source": [
    "# porcentaje de ganancia\n",
    "sum(data['profit'])/sum(data['funded_amnt'])\n"
   ]
  },
  {
   "cell_type": "code",
   "execution_count": 16,
   "metadata": {},
   "outputs": [
    {
     "data": {
      "text/plain": [
       "-17097840.30999998"
      ]
     },
     "execution_count": 16,
     "metadata": {},
     "output_type": "execute_result"
    }
   ],
   "source": [
    "#perdida en los creditos default\n",
    "sum(data.loc[data['profit']<0,:]['profit'])"
   ]
  },
  {
   "cell_type": "code",
   "execution_count": 17,
   "metadata": {},
   "outputs": [
    {
     "data": {
      "text/plain": [
       "0.10356177265781122"
      ]
     },
     "execution_count": 17,
     "metadata": {},
     "output_type": "execute_result"
    }
   ],
   "source": [
    "#porcentaje de default\n",
    "sum(data['default'])/len(data['default'])"
   ]
  },
  {
   "cell_type": "code",
   "execution_count": 18,
   "metadata": {
    "scrolled": true
   },
   "outputs": [
    {
     "data": {
      "text/plain": [
       "44998625"
      ]
     },
     "execution_count": 18,
     "metadata": {},
     "output_type": "execute_result"
    }
   ],
   "source": [
    "#monto de prestamo en los default\n",
    "sum(data.loc[data['profit']<0,:]['funded_amnt'])"
   ]
  },
  {
   "cell_type": "code",
   "execution_count": 19,
   "metadata": {},
   "outputs": [
    {
     "data": {
      "text/plain": [
       "0.039954597048808174"
      ]
     },
     "execution_count": 19,
     "metadata": {},
     "output_type": "execute_result"
    }
   ],
   "source": [
    "np.count_nonzero(-data.loc[data['profit']<0,:]['profit']==data.loc[data['profit']<0,:]['funded_amnt'])/sum(data['default'])"
   ]
  },
  {
   "cell_type": "markdown",
   "metadata": {},
   "source": [
    "## Modelo"
   ]
  },
  {
   "cell_type": "code",
   "execution_count": 55,
   "metadata": {},
   "outputs": [
    {
     "data": {
      "image/png": "[encoded data removed]",
      "text/plain": [
       "<matplotlib.figure.Figure at 0x12fb75f0>"
      ]
     },
     "metadata": {},
     "output_type": "display_data"
    }
   ],
   "source": [
    "plt.hist(data['loangrade'])\n",
    "plt.show()"
   ]
  },
  {
   "cell_type": "code",
   "execution_count": 53,
   "metadata": {},
   "outputs": [
    {
     "data": {
      "text/plain": [
       "Text(0,0.5,'Data theorical quantiles')"
      ]
     },
     "execution_count": 53,
     "metadata": {},
     "output_type": "execute_result"
    },
    {
     "data": {
      "image/png": "[encoded data removed]",
      "text/plain": [
       "<matplotlib.figure.Figure at 0x12fdd6b0>"
      ]
     },
     "metadata": {},
     "output_type": "display_data"
    }
   ],
   "source": [
    "res = st.probplot(data['loangrade'], plot=plt)\n",
    "plt.grid()\n",
    "plt.xlabel('Normal theorical quantiles')\n",
    "plt.ylabel('Data theorical quantiles')"
   ]
  },
  {
   "cell_type": "code",
   "execution_count": 52,
   "metadata": {},
   "outputs": [],
   "source": [
    "?st.probplot"
   ]
  },
  {
   "cell_type": "code",
   "execution_count": 86,
   "metadata": {},
   "outputs": [
    {
     "data": {
      "image/png": "[encoded data removed]",
      "text/plain": [
       "<matplotlib.figure.Figure at 0x15c78290>"
      ]
     },
     "metadata": {},
     "output_type": "display_data"
    }
   ],
   "source": [
    "a=1\n",
    "b=10\n",
    "c=35\n",
    "#r=st.binom.rvs(n=b,p=.7,size=10000)\n",
    "r=np.round(st.erlang.rvs(a=1,loc=1,scale=np.std(data['loangrade']),size=100000))\n",
    "#r=np.round(st.norm.rvs(loc=np.mean(data['loangrade']),scale=np.std(data['loangrade']),size=100000))\n",
    "#r=np.round(st.triang.rvs((b-a)/(c-a),a,c-a,100000))\n",
    "\n",
    "plt.hist(r,100)\n",
    "plt.show()\n"
   ]
  },
  {
   "cell_type": "code",
   "execution_count": 82,
   "metadata": {},
   "outputs": [
    {
     "data": {
      "text/plain": [
       "1.0"
      ]
     },
     "execution_count": 82,
     "metadata": {},
     "output_type": "execute_result"
    }
   ],
   "source": [
    "np.min(r)"
   ]
  },
  {
   "cell_type": "code",
   "execution_count": null,
   "metadata": {},
   "outputs": [],
   "source": []
  }
 ],
 "metadata": {
  "kernelspec": {
   "display_name": "Python 3",
   "language": "python",
   "name": "python3"
  },
  "language_info": {
   "codemirror_mode": {
    "name": "ipython",
    "version": 3
   },
   "file_extension": ".py",
   "mimetype": "text/x-python",
   "name": "python",
   "nbconvert_exporter": "python",
   "pygments_lexer": "ipython3",
   "version": "3.6.4"
  }
 },
 "nbformat": 4,
 "nbformat_minor": 2
}
