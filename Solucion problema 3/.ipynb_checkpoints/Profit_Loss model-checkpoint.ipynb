{
 "cells": [
  {
   "cell_type": "markdown",
   "metadata": {},
   "source": [
    "# Problema 3\n",
    "## Model that predicts profit\n",
    "### El objetivo es saber si se presentaran perdidas"
   ]
  },
  {
   "cell_type": "code",
   "execution_count": 1,
   "metadata": {},
   "outputs": [],
   "source": [
    "import pandas as pd\n",
    "#import pandas_datareader.data as web\n",
    "import numpy as np\n",
    "import datetime\n",
    "import matplotlib.pyplot as plt\n",
    "import scipy.stats as st\n",
    "%matplotlib inline\n",
    "#pd.set_option('display.notebook_repr_html', True)\n",
    "#pd.set_option('display.max_columns', 11)\n",
    "#pd.set_option('display.max_rows', 10)\n",
    "#pd.set_option('display.width', 78)\n",
    "pd.set_option('precision', 3)"
   ]
  },
  {
   "cell_type": "code",
   "execution_count": 2,
   "metadata": {},
   "outputs": [],
   "source": [
    "data=pd.read_excel('bases de datos/dbp3.xlsx')"
   ]
  },
  {
   "cell_type": "code",
   "execution_count": 3,
   "metadata": {},
   "outputs": [],
   "source": [
    "clasified=list(map(lambda n:data.loc[data['int_rate']==n,:],np.unique(data['int_rate'])))"
   ]
  },
  {
   "cell_type": "code",
   "execution_count": 4,
   "metadata": {},
   "outputs": [],
   "source": [
    "amounts=list(map(lambda n: np.sum(n.iloc[:,4]),clasified))"
   ]
  },
  {
   "cell_type": "code",
   "execution_count": 154,
   "metadata": {},
   "outputs": [
    {
     "data": {
      "image/png": "[encoded data removed]",
      "text/plain": [
       "<matplotlib.figure.Figure at 0x2bb3c490>"
      ]
     },
     "metadata": {},
     "output_type": "display_data"
    }
   ],
   "source": [
    "plt.bar(range(len(amounts)),amounts)\n",
    "plt.title('Montos de prestamo segun la tasa de interes')\n",
    "plt.ylabel('funded_amnt')\n",
    "plt.xlabel('int_rate')\n",
    "plt.show()"
   ]
  },
  {
   "cell_type": "markdown",
   "metadata": {},
   "source": [
    "### Probabilidad de default dependiento la tasa de interes"
   ]
  },
  {
   "cell_type": "code",
   "execution_count": 6,
   "metadata": {},
   "outputs": [],
   "source": [
    "default_probability=list(map(lambda n:np.count_nonzero(n.iloc[:,0]<0)/len(n.iloc[:,0]),clasified))"
   ]
  },
  {
   "cell_type": "code",
   "execution_count": 145,
   "metadata": {},
   "outputs": [],
   "source": [
    "labels=list(map(lambda n: str(n),np.unique(data['int_rate'])))"
   ]
  },
  {
   "cell_type": "code",
   "execution_count": 153,
   "metadata": {},
   "outputs": [
    {
     "data": {
      "image/png": "[encoded data removed]",
      "text/plain": [
       "<matplotlib.figure.Figure at 0x2bbbdf30>"
      ]
     },
     "metadata": {},
     "output_type": "display_data"
    }
   ],
   "source": [
    "plt.bar(range(len(np.unique(data['int_rate']))),default_probability)\n",
    "plt.title('percentage of default by interest rates')\n",
    "plt.ylabel('%default')\n",
    "plt.xlabel('int_rate')\n",
    "plt.show()"
   ]
  },
  {
   "cell_type": "markdown",
   "metadata": {},
   "source": [
    "\n",
    "### Tasas de interes con 100% de probabilidad de default"
   ]
  },
  {
   "cell_type": "code",
   "execution_count": 108,
   "metadata": {},
   "outputs": [],
   "source": [
    "intrates=pd.DataFrame(np.unique(data['int_rate'])[np.array(default_probability)==1])"
   ]
  },
  {
   "cell_type": "code",
   "execution_count": 105,
   "metadata": {},
   "outputs": [],
   "source": [
    "t=np.arange(len(amounts))[np.array(default_probability)==1]"
   ]
  },
  {
   "cell_type": "markdown",
   "metadata": {},
   "source": [
    "### Grado del prestamo que tuvo, en una tasa de interes, el 100% de default"
   ]
  },
  {
   "cell_type": "code",
   "execution_count": 107,
   "metadata": {},
   "outputs": [],
   "source": [
    "loangrades=pd.DataFrame(list(map(lambda n:np.mean(clasified[n].iloc[:,3]),np.arange(len(amounts))[np.array(default_probability)==1])))"
   ]
  },
  {
   "cell_type": "code",
   "execution_count": 115,
   "metadata": {
    "scrolled": true
   },
   "outputs": [
    {
     "data": {
      "text/html": [
       "<div>\n",
       "<style scoped>\n",
       "    .dataframe tbody tr th:only-of-type {\n",
       "        vertical-align: middle;\n",
       "    }\n",
       "\n",
       "    .dataframe tbody tr th {\n",
       "        vertical-align: top;\n",
       "    }\n",
       "\n",
       "    .dataframe thead th {\n",
       "        text-align: right;\n",
       "    }\n",
       "</style>\n",
       "<table border=\"1\" class=\"dataframe\">\n",
       "  <thead>\n",
       "    <tr style=\"text-align: right;\">\n",
       "      <th></th>\n",
       "      <th>int_rate</th>\n",
       "      <th>loangrades</th>\n",
       "    </tr>\n",
       "    <tr>\n",
       "      <th>type of loan that has a 100% default and its int_rate</th>\n",
       "      <th></th>\n",
       "      <th></th>\n",
       "    </tr>\n",
       "  </thead>\n",
       "  <tbody>\n",
       "    <tr>\n",
       "      <th>0</th>\n",
       "      <td>0.071</td>\n",
       "      <td>1.0</td>\n",
       "    </tr>\n",
       "    <tr>\n",
       "      <th>1</th>\n",
       "      <td>0.074</td>\n",
       "      <td>2.0</td>\n",
       "    </tr>\n",
       "    <tr>\n",
       "      <th>2</th>\n",
       "      <td>0.090</td>\n",
       "      <td>7.0</td>\n",
       "    </tr>\n",
       "    <tr>\n",
       "      <th>3</th>\n",
       "      <td>0.095</td>\n",
       "      <td>7.0</td>\n",
       "    </tr>\n",
       "    <tr>\n",
       "      <th>4</th>\n",
       "      <td>0.096</td>\n",
       "      <td>9.0</td>\n",
       "    </tr>\n",
       "    <tr>\n",
       "      <th>5</th>\n",
       "      <td>0.097</td>\n",
       "      <td>6.0</td>\n",
       "    </tr>\n",
       "    <tr>\n",
       "      <th>6</th>\n",
       "      <td>0.098</td>\n",
       "      <td>8.0</td>\n",
       "    </tr>\n",
       "    <tr>\n",
       "      <th>7</th>\n",
       "      <td>0.100</td>\n",
       "      <td>7.0</td>\n",
       "    </tr>\n",
       "    <tr>\n",
       "      <th>8</th>\n",
       "      <td>0.103</td>\n",
       "      <td>11.0</td>\n",
       "    </tr>\n",
       "    <tr>\n",
       "      <th>9</th>\n",
       "      <td>0.103</td>\n",
       "      <td>8.0</td>\n",
       "    </tr>\n",
       "    <tr>\n",
       "      <th>10</th>\n",
       "      <td>0.106</td>\n",
       "      <td>9.0</td>\n",
       "    </tr>\n",
       "    <tr>\n",
       "      <th>11</th>\n",
       "      <td>0.110</td>\n",
       "      <td>10.0</td>\n",
       "    </tr>\n",
       "    <tr>\n",
       "      <th>12</th>\n",
       "      <td>0.111</td>\n",
       "      <td>12.0</td>\n",
       "    </tr>\n",
       "    <tr>\n",
       "      <th>13</th>\n",
       "      <td>0.112</td>\n",
       "      <td>14.0</td>\n",
       "    </tr>\n",
       "    <tr>\n",
       "      <th>14</th>\n",
       "      <td>0.113</td>\n",
       "      <td>11.0</td>\n",
       "    </tr>\n",
       "    <tr>\n",
       "      <th>15</th>\n",
       "      <td>0.115</td>\n",
       "      <td>15.0</td>\n",
       "    </tr>\n",
       "    <tr>\n",
       "      <th>16</th>\n",
       "      <td>0.116</td>\n",
       "      <td>12.0</td>\n",
       "    </tr>\n",
       "    <tr>\n",
       "      <th>17</th>\n",
       "      <td>0.117</td>\n",
       "      <td>14.0</td>\n",
       "    </tr>\n",
       "    <tr>\n",
       "      <th>18</th>\n",
       "      <td>0.119</td>\n",
       "      <td>13.0</td>\n",
       "    </tr>\n",
       "    <tr>\n",
       "      <th>19</th>\n",
       "      <td>0.122</td>\n",
       "      <td>17.0</td>\n",
       "    </tr>\n",
       "    <tr>\n",
       "      <th>20</th>\n",
       "      <td>0.122</td>\n",
       "      <td>14.0</td>\n",
       "    </tr>\n",
       "    <tr>\n",
       "      <th>21</th>\n",
       "      <td>0.124</td>\n",
       "      <td>16.0</td>\n",
       "    </tr>\n",
       "    <tr>\n",
       "      <th>22</th>\n",
       "      <td>0.125</td>\n",
       "      <td>15.0</td>\n",
       "    </tr>\n",
       "    <tr>\n",
       "      <th>23</th>\n",
       "      <td>0.127</td>\n",
       "      <td>14.0</td>\n",
       "    </tr>\n",
       "    <tr>\n",
       "      <th>24</th>\n",
       "      <td>0.128</td>\n",
       "      <td>19.0</td>\n",
       "    </tr>\n",
       "    <tr>\n",
       "      <th>25</th>\n",
       "      <td>0.129</td>\n",
       "      <td>16.0</td>\n",
       "    </tr>\n",
       "    <tr>\n",
       "      <th>26</th>\n",
       "      <td>0.131</td>\n",
       "      <td>20.0</td>\n",
       "    </tr>\n",
       "    <tr>\n",
       "      <th>27</th>\n",
       "      <td>0.132</td>\n",
       "      <td>17.0</td>\n",
       "    </tr>\n",
       "    <tr>\n",
       "      <th>28</th>\n",
       "      <td>0.134</td>\n",
       "      <td>16.0</td>\n",
       "    </tr>\n",
       "    <tr>\n",
       "      <th>29</th>\n",
       "      <td>0.136</td>\n",
       "      <td>20.0</td>\n",
       "    </tr>\n",
       "    <tr>\n",
       "      <th>...</th>\n",
       "      <td>...</td>\n",
       "      <td>...</td>\n",
       "    </tr>\n",
       "    <tr>\n",
       "      <th>36</th>\n",
       "      <td>0.147</td>\n",
       "      <td>25.0</td>\n",
       "    </tr>\n",
       "    <tr>\n",
       "      <th>37</th>\n",
       "      <td>0.147</td>\n",
       "      <td>25.0</td>\n",
       "    </tr>\n",
       "    <tr>\n",
       "      <th>38</th>\n",
       "      <td>0.147</td>\n",
       "      <td>22.0</td>\n",
       "    </tr>\n",
       "    <tr>\n",
       "      <th>39</th>\n",
       "      <td>0.149</td>\n",
       "      <td>24.0</td>\n",
       "    </tr>\n",
       "    <tr>\n",
       "      <th>40</th>\n",
       "      <td>0.149</td>\n",
       "      <td>21.0</td>\n",
       "    </tr>\n",
       "    <tr>\n",
       "      <th>41</th>\n",
       "      <td>0.151</td>\n",
       "      <td>23.0</td>\n",
       "    </tr>\n",
       "    <tr>\n",
       "      <th>42</th>\n",
       "      <td>0.152</td>\n",
       "      <td>22.0</td>\n",
       "    </tr>\n",
       "    <tr>\n",
       "      <th>43</th>\n",
       "      <td>0.154</td>\n",
       "      <td>24.0</td>\n",
       "    </tr>\n",
       "    <tr>\n",
       "      <th>44</th>\n",
       "      <td>0.155</td>\n",
       "      <td>26.0</td>\n",
       "    </tr>\n",
       "    <tr>\n",
       "      <th>45</th>\n",
       "      <td>0.158</td>\n",
       "      <td>27.0</td>\n",
       "    </tr>\n",
       "    <tr>\n",
       "      <th>46</th>\n",
       "      <td>0.159</td>\n",
       "      <td>24.0</td>\n",
       "    </tr>\n",
       "    <tr>\n",
       "      <th>47</th>\n",
       "      <td>0.160</td>\n",
       "      <td>26.0</td>\n",
       "    </tr>\n",
       "    <tr>\n",
       "      <th>48</th>\n",
       "      <td>0.162</td>\n",
       "      <td>28.0</td>\n",
       "    </tr>\n",
       "    <tr>\n",
       "      <th>49</th>\n",
       "      <td>0.162</td>\n",
       "      <td>25.0</td>\n",
       "    </tr>\n",
       "    <tr>\n",
       "      <th>50</th>\n",
       "      <td>0.163</td>\n",
       "      <td>27.0</td>\n",
       "    </tr>\n",
       "    <tr>\n",
       "      <th>51</th>\n",
       "      <td>0.165</td>\n",
       "      <td>29.0</td>\n",
       "    </tr>\n",
       "    <tr>\n",
       "      <th>52</th>\n",
       "      <td>0.167</td>\n",
       "      <td>28.0</td>\n",
       "    </tr>\n",
       "    <tr>\n",
       "      <th>53</th>\n",
       "      <td>0.168</td>\n",
       "      <td>27.0</td>\n",
       "    </tr>\n",
       "    <tr>\n",
       "      <th>54</th>\n",
       "      <td>0.170</td>\n",
       "      <td>29.0</td>\n",
       "    </tr>\n",
       "    <tr>\n",
       "      <th>55</th>\n",
       "      <td>0.172</td>\n",
       "      <td>33.0</td>\n",
       "    </tr>\n",
       "    <tr>\n",
       "      <th>56</th>\n",
       "      <td>0.173</td>\n",
       "      <td>30.0</td>\n",
       "    </tr>\n",
       "    <tr>\n",
       "      <th>57</th>\n",
       "      <td>0.174</td>\n",
       "      <td>32.0</td>\n",
       "    </tr>\n",
       "    <tr>\n",
       "      <th>58</th>\n",
       "      <td>0.175</td>\n",
       "      <td>29.0</td>\n",
       "    </tr>\n",
       "    <tr>\n",
       "      <th>59</th>\n",
       "      <td>0.176</td>\n",
       "      <td>31.0</td>\n",
       "    </tr>\n",
       "    <tr>\n",
       "      <th>60</th>\n",
       "      <td>0.177</td>\n",
       "      <td>33.0</td>\n",
       "    </tr>\n",
       "    <tr>\n",
       "      <th>61</th>\n",
       "      <td>0.178</td>\n",
       "      <td>30.0</td>\n",
       "    </tr>\n",
       "    <tr>\n",
       "      <th>62</th>\n",
       "      <td>0.179</td>\n",
       "      <td>32.0</td>\n",
       "    </tr>\n",
       "    <tr>\n",
       "      <th>63</th>\n",
       "      <td>0.184</td>\n",
       "      <td>35.0</td>\n",
       "    </tr>\n",
       "    <tr>\n",
       "      <th>64</th>\n",
       "      <td>0.187</td>\n",
       "      <td>33.0</td>\n",
       "    </tr>\n",
       "    <tr>\n",
       "      <th>65</th>\n",
       "      <td>0.189</td>\n",
       "      <td>35.0</td>\n",
       "    </tr>\n",
       "  </tbody>\n",
       "</table>\n",
       "<p>66 rows × 2 columns</p>\n",
       "</div>"
      ],
      "text/plain": [
       "                                                    int_rate  loangrades\n",
       "type of loan that has a 100% default and its in...                      \n",
       "0                                                      0.071         1.0\n",
       "1                                                      0.074         2.0\n",
       "2                                                      0.090         7.0\n",
       "3                                                      0.095         7.0\n",
       "4                                                      0.096         9.0\n",
       "5                                                      0.097         6.0\n",
       "6                                                      0.098         8.0\n",
       "7                                                      0.100         7.0\n",
       "8                                                      0.103        11.0\n",
       "9                                                      0.103         8.0\n",
       "10                                                     0.106         9.0\n",
       "11                                                     0.110        10.0\n",
       "12                                                     0.111        12.0\n",
       "13                                                     0.112        14.0\n",
       "14                                                     0.113        11.0\n",
       "15                                                     0.115        15.0\n",
       "16                                                     0.116        12.0\n",
       "17                                                     0.117        14.0\n",
       "18                                                     0.119        13.0\n",
       "19                                                     0.122        17.0\n",
       "20                                                     0.122        14.0\n",
       "21                                                     0.124        16.0\n",
       "22                                                     0.125        15.0\n",
       "23                                                     0.127        14.0\n",
       "24                                                     0.128        19.0\n",
       "25                                                     0.129        16.0\n",
       "26                                                     0.131        20.0\n",
       "27                                                     0.132        17.0\n",
       "28                                                     0.134        16.0\n",
       "29                                                     0.136        20.0\n",
       "...                                                      ...         ...\n",
       "36                                                     0.147        25.0\n",
       "37                                                     0.147        25.0\n",
       "38                                                     0.147        22.0\n",
       "39                                                     0.149        24.0\n",
       "40                                                     0.149        21.0\n",
       "41                                                     0.151        23.0\n",
       "42                                                     0.152        22.0\n",
       "43                                                     0.154        24.0\n",
       "44                                                     0.155        26.0\n",
       "45                                                     0.158        27.0\n",
       "46                                                     0.159        24.0\n",
       "47                                                     0.160        26.0\n",
       "48                                                     0.162        28.0\n",
       "49                                                     0.162        25.0\n",
       "50                                                     0.163        27.0\n",
       "51                                                     0.165        29.0\n",
       "52                                                     0.167        28.0\n",
       "53                                                     0.168        27.0\n",
       "54                                                     0.170        29.0\n",
       "55                                                     0.172        33.0\n",
       "56                                                     0.173        30.0\n",
       "57                                                     0.174        32.0\n",
       "58                                                     0.175        29.0\n",
       "59                                                     0.176        31.0\n",
       "60                                                     0.177        33.0\n",
       "61                                                     0.178        30.0\n",
       "62                                                     0.179        32.0\n",
       "63                                                     0.184        35.0\n",
       "64                                                     0.187        33.0\n",
       "65                                                     0.189        35.0\n",
       "\n",
       "[66 rows x 2 columns]"
      ]
     },
     "execution_count": 115,
     "metadata": {},
     "output_type": "execute_result"
    }
   ],
   "source": [
    "df=pd.concat([intrates,loangrades],axis=1)\n",
    "df.columns=['int_rate','loangrades']\n",
    "df.index.name='type of loan that has a 100% default and its int_rate'\n",
    "df"
   ]
  },
  {
   "cell_type": "markdown",
   "metadata": {},
   "source": [
    "### Probabilidad de default segun el grado del prestamo"
   ]
  },
  {
   "cell_type": "code",
   "execution_count": 12,
   "metadata": {},
   "outputs": [],
   "source": [
    "clasified_by_loangrade=list(map(lambda n:data.loc[data['loangrade']==n,:],np.unique(data['loangrade'])))"
   ]
  },
  {
   "cell_type": "code",
   "execution_count": 13,
   "metadata": {},
   "outputs": [],
   "source": [
    "default_probability_by_loangrade=list(map(lambda n:np.count_nonzero(n.iloc[:,0]<0)/len(n.iloc[:,0]),clasified_by_loangrade))"
   ]
  },
  {
   "cell_type": "code",
   "execution_count": 117,
   "metadata": {
    "scrolled": true
   },
   "outputs": [
    {
     "data": {
      "image/png": "[encoded data removed]",
      "text/plain": [
       "<matplotlib.figure.Figure at 0x27f6e910>"
      ]
     },
     "metadata": {},
     "output_type": "display_data"
    }
   ],
   "source": [
    "plt.bar(range(35),default_probability_by_loangrade)\n",
    "plt.title('percentage of default by loangrade')\n",
    "plt.xlabel('loangrade')\n",
    "plt.ylabel('%default')\n",
    "plt.show()"
   ]
  },
  {
   "cell_type": "markdown",
   "metadata": {},
   "source": [
    "## Estadisticos"
   ]
  },
  {
   "cell_type": "code",
   "execution_count": 95,
   "metadata": {},
   "outputs": [
    {
     "name": "stdout",
     "output_type": "stream",
     "text": [
      "the percentage of profit is  15.128026625901466 %\n"
     ]
    }
   ],
   "source": [
    "# porcentaje de ganancia\n",
    "print('the percentage of profit is ',(sum(data['profit'])/sum(data['funded_amnt']))*100,'%')\n"
   ]
  },
  {
   "cell_type": "code",
   "execution_count": 96,
   "metadata": {},
   "outputs": [
    {
     "name": "stdout",
     "output_type": "stream",
     "text": [
      "the quantity of loss in money is $ -17097840.30999998\n"
     ]
    }
   ],
   "source": [
    "#perdida en los creditos default\n",
    "print('the quantity of loss in money is $',sum(data.loc[data['profit']<0,:]['profit']))"
   ]
  },
  {
   "cell_type": "code",
   "execution_count": 97,
   "metadata": {},
   "outputs": [
    {
     "name": "stdout",
     "output_type": "stream",
     "text": [
      "the percentage of default loans in the historic is  10.356177265781122 %\n"
     ]
    }
   ],
   "source": [
    "#porcentaje de default\n",
    "print('the percentage of default loans in the historic is ',(sum(data['default'])/len(data['default']))*100,'%')"
   ]
  },
  {
   "cell_type": "code",
   "execution_count": 98,
   "metadata": {
    "scrolled": true
   },
   "outputs": [
    {
     "name": "stdout",
     "output_type": "stream",
     "text": [
      "the funded amount in the default loans was $ 44998625\n"
     ]
    }
   ],
   "source": [
    "#monto de prestamo en los default\n",
    "print('the funded amount in the default loans was $',sum(data.loc[data['profit']<0,:]['funded_amnt']))"
   ]
  },
  {
   "cell_type": "code",
   "execution_count": 99,
   "metadata": {},
   "outputs": [],
   "source": [
    "#np.count_nonzero(-data.loc[data['profit']<0,:]['profit']==data.loc[data['profit']<0,:]['funded_amnt'])/sum(data['default'])"
   ]
  },
  {
   "cell_type": "markdown",
   "metadata": {},
   "source": [
    "# Modelo"
   ]
  },
  {
   "cell_type": "markdown",
   "metadata": {},
   "source": [
    "## Encontrar con que distribucion estan los creditos otorgados"
   ]
  },
  {
   "cell_type": "code",
   "execution_count": 101,
   "metadata": {},
   "outputs": [
    {
     "data": {
      "image/png": "[encoded data removed]",
      "text/plain": [
       "<matplotlib.figure.Figure at 0x13d22490>"
      ]
     },
     "metadata": {},
     "output_type": "display_data"
    }
   ],
   "source": [
    "plt.hist(data['loangrade'],50)\n",
    "plt.title('Distribution of the autorized loans by loangrades')\n",
    "plt.xlabel('loangrade')\n",
    "plt.ylabel('frequency')\n",
    "plt.show()"
   ]
  },
  {
   "cell_type": "code",
   "execution_count": 82,
   "metadata": {},
   "outputs": [
    {
     "name": "stdout",
     "output_type": "stream",
     "text": [
      "erlang parameters for the distribution\n"
     ]
    },
    {
     "name": "stderr",
     "output_type": "stream",
     "text": [
      "C:\\ProgramData\\Anaconda3\\lib\\site-packages\\scipy\\stats\\_continuous_distns.py:2455: RuntimeWarning: The shape parameter of the erlang distribution has been given a non-integer value 6.300000000000001.\n",
      "  RuntimeWarning)\n",
      "C:\\ProgramData\\Anaconda3\\lib\\site-packages\\scipy\\stats\\_continuous_distns.py:2455: RuntimeWarning: The shape parameter of the erlang distribution has been given a non-integer value 6.200000000000001.\n",
      "  RuntimeWarning)\n",
      "C:\\ProgramData\\Anaconda3\\lib\\site-packages\\scipy\\stats\\_continuous_distns.py:2455: RuntimeWarning: The shape parameter of the erlang distribution has been given a non-integer value 5.833333333333334.\n",
      "  RuntimeWarning)\n",
      "C:\\ProgramData\\Anaconda3\\lib\\site-packages\\scipy\\stats\\_continuous_distns.py:2455: RuntimeWarning: The shape parameter of the erlang distribution has been given a non-integer value 6.183333333333334.\n",
      "  RuntimeWarning)\n",
      "C:\\ProgramData\\Anaconda3\\lib\\site-packages\\scipy\\stats\\_continuous_distns.py:2455: RuntimeWarning: The shape parameter of the erlang distribution has been given a non-integer value 5.922222222222221.\n",
      "  RuntimeWarning)\n",
      "C:\\ProgramData\\Anaconda3\\lib\\site-packages\\scipy\\stats\\_continuous_distns.py:2455: RuntimeWarning: The shape parameter of the erlang distribution has been given a non-integer value 6.0703703703703695.\n",
      "  RuntimeWarning)\n",
      "C:\\ProgramData\\Anaconda3\\lib\\site-packages\\scipy\\stats\\_continuous_distns.py:2455: RuntimeWarning: The shape parameter of the erlang distribution has been given a non-integer value 6.017592592592592.\n",
      "  RuntimeWarning)\n",
      "C:\\ProgramData\\Anaconda3\\lib\\site-packages\\scipy\\stats\\_continuous_distns.py:2455: RuntimeWarning: The shape parameter of the erlang distribution has been given a non-integer value 6.21172839506173.\n",
      "  RuntimeWarning)\n",
      "C:\\ProgramData\\Anaconda3\\lib\\site-packages\\scipy\\stats\\_continuous_distns.py:2455: RuntimeWarning: The shape parameter of the erlang distribution has been given a non-integer value 6.139351851851853.\n",
      "  RuntimeWarning)\n",
      "C:\\ProgramData\\Anaconda3\\lib\\site-packages\\scipy\\stats\\_continuous_distns.py:2455: RuntimeWarning: The shape parameter of the erlang distribution has been given a non-integer value 6.197530864197532.\n",
      "  RuntimeWarning)\n",
      "C:\\ProgramData\\Anaconda3\\lib\\site-packages\\scipy\\stats\\_continuous_distns.py:2455: RuntimeWarning: The shape parameter of the erlang distribution has been given a non-integer value 6.287500000000001.\n",
      "  RuntimeWarning)\n",
      "C:\\ProgramData\\Anaconda3\\lib\\site-packages\\scipy\\stats\\_continuous_distns.py:2455: RuntimeWarning: The shape parameter of the erlang distribution has been given a non-integer value 6.101234567901235.\n",
      "  RuntimeWarning)\n",
      "C:\\ProgramData\\Anaconda3\\lib\\site-packages\\scipy\\stats\\_continuous_distns.py:2455: RuntimeWarning: The shape parameter of the erlang distribution has been given a non-integer value 6.119804526748974.\n",
      "  RuntimeWarning)\n",
      "C:\\ProgramData\\Anaconda3\\lib\\site-packages\\scipy\\stats\\_continuous_distns.py:2455: RuntimeWarning: The shape parameter of the erlang distribution has been given a non-integer value 6.110030864197533.\n",
      "  RuntimeWarning)\n",
      "C:\\ProgramData\\Anaconda3\\lib\\site-packages\\scipy\\stats\\_continuous_distns.py:2455: RuntimeWarning: The shape parameter of the erlang distribution has been given a non-integer value 6.332510288065848.\n",
      "  RuntimeWarning)\n",
      "C:\\ProgramData\\Anaconda3\\lib\\site-packages\\scipy\\stats\\_continuous_distns.py:2455: RuntimeWarning: The shape parameter of the erlang distribution has been given a non-integer value 6.385459533607687.\n",
      "  RuntimeWarning)\n",
      "C:\\ProgramData\\Anaconda3\\lib\\site-packages\\scipy\\stats\\_continuous_distns.py:2455: RuntimeWarning: The shape parameter of the erlang distribution has been given a non-integer value 6.172290809327848.\n",
      "  RuntimeWarning)\n",
      "C:\\ProgramData\\Anaconda3\\lib\\site-packages\\scipy\\stats\\_continuous_distns.py:2455: RuntimeWarning: The shape parameter of the erlang distribution has been given a non-integer value 6.122387974394151.\n",
      "  RuntimeWarning)\n",
      "C:\\ProgramData\\Anaconda3\\lib\\site-packages\\scipy\\stats\\_continuous_distns.py:2455: RuntimeWarning: The shape parameter of the erlang distribution has been given a non-integer value 6.039831961591226.\n",
      "  RuntimeWarning)\n",
      "C:\\ProgramData\\Anaconda3\\lib\\site-packages\\scipy\\stats\\_continuous_distns.py:2455: RuntimeWarning: The shape parameter of the erlang distribution has been given a non-integer value 5.88225880201189.\n",
      "  RuntimeWarning)\n",
      "C:\\ProgramData\\Anaconda3\\lib\\site-packages\\scipy\\stats\\_continuous_distns.py:2455: RuntimeWarning: The shape parameter of the erlang distribution has been given a non-integer value 5.657133058984911.\n",
      "  RuntimeWarning)\n",
      "C:\\ProgramData\\Anaconda3\\lib\\site-packages\\scipy\\stats\\_continuous_distns.py:2455: RuntimeWarning: The shape parameter of the erlang distribution has been given a non-integer value 5.849123609205918.\n",
      "  RuntimeWarning)\n",
      "C:\\ProgramData\\Anaconda3\\lib\\site-packages\\scipy\\stats\\_continuous_distns.py:2455: RuntimeWarning: The shape parameter of the erlang distribution has been given a non-integer value 5.6875400091449535.\n",
      "  RuntimeWarning)\n",
      "C:\\ProgramData\\Anaconda3\\lib\\site-packages\\scipy\\stats\\_continuous_distns.py:2455: RuntimeWarning: The shape parameter of the erlang distribution has been given a non-integer value 5.62972298430118.\n",
      "  RuntimeWarning)\n",
      "C:\\ProgramData\\Anaconda3\\lib\\site-packages\\scipy\\stats\\_continuous_distns.py:2455: RuntimeWarning: The shape parameter of the erlang distribution has been given a non-integer value 5.426515902047457.\n",
      "  RuntimeWarning)\n",
      "C:\\ProgramData\\Anaconda3\\lib\\site-packages\\scipy\\stats\\_continuous_distns.py:2455: RuntimeWarning: The shape parameter of the erlang distribution has been given a non-integer value 5.119857872275574.\n",
      "  RuntimeWarning)\n",
      "C:\\ProgramData\\Anaconda3\\lib\\site-packages\\scipy\\stats\\_continuous_distns.py:2455: RuntimeWarning: The shape parameter of the erlang distribution has been given a non-integer value 5.075821775135916.\n",
      "  RuntimeWarning)\n",
      "C:\\ProgramData\\Anaconda3\\lib\\site-packages\\scipy\\stats\\_continuous_distns.py:2455: RuntimeWarning: The shape parameter of the erlang distribution has been given a non-integer value 4.9590901200697814.\n",
      "  RuntimeWarning)\n",
      "C:\\ProgramData\\Anaconda3\\lib\\site-packages\\scipy\\stats\\_continuous_distns.py:2455: RuntimeWarning: The shape parameter of the erlang distribution has been given a non-integer value 4.623773687954081.\n",
      "  RuntimeWarning)\n",
      "C:\\ProgramData\\Anaconda3\\lib\\site-packages\\scipy\\stats\\_continuous_distns.py:2455: RuntimeWarning: The shape parameter of the erlang distribution has been given a non-integer value 4.192095547765428.\n",
      "  RuntimeWarning)\n",
      "C:\\ProgramData\\Anaconda3\\lib\\site-packages\\scipy\\stats\\_continuous_distns.py:2455: RuntimeWarning: The shape parameter of the erlang distribution has been given a non-integer value 4.2146629635274735.\n",
      "  RuntimeWarning)\n",
      "C:\\ProgramData\\Anaconda3\\lib\\site-packages\\scipy\\stats\\_continuous_distns.py:2455: RuntimeWarning: The shape parameter of the erlang distribution has been given a non-integer value 3.567163593889081.\n",
      "  RuntimeWarning)\n",
      "C:\\ProgramData\\Anaconda3\\lib\\site-packages\\scipy\\stats\\_continuous_distns.py:2455: RuntimeWarning: The shape parameter of the erlang distribution has been given a non-integer value 4.040692256211587.\n",
      "  RuntimeWarning)\n",
      "C:\\ProgramData\\Anaconda3\\lib\\site-packages\\scipy\\stats\\_continuous_distns.py:2455: RuntimeWarning: The shape parameter of the erlang distribution has been given a non-integer value 4.084184933040559.\n",
      "  RuntimeWarning)\n",
      "C:\\ProgramData\\Anaconda3\\lib\\site-packages\\scipy\\stats\\_continuous_distns.py:2455: RuntimeWarning: The shape parameter of the erlang distribution has been given a non-integer value 5.032872518617632.\n",
      "  RuntimeWarning)\n",
      "C:\\ProgramData\\Anaconda3\\lib\\site-packages\\scipy\\stats\\_continuous_distns.py:2455: RuntimeWarning: The shape parameter of the erlang distribution has been given a non-integer value 3.9335908250712186.\n",
      "  RuntimeWarning)\n",
      "C:\\ProgramData\\Anaconda3\\lib\\site-packages\\scipy\\stats\\_continuous_distns.py:2455: RuntimeWarning: The shape parameter of the erlang distribution has been given a non-integer value 4.2356040829451445.\n",
      "  RuntimeWarning)\n",
      "C:\\ProgramData\\Anaconda3\\lib\\site-packages\\scipy\\stats\\_continuous_distns.py:2455: RuntimeWarning: The shape parameter of the erlang distribution has been given a non-integer value 3.545146206083867.\n",
      "  RuntimeWarning)\n",
      "C:\\ProgramData\\Anaconda3\\lib\\site-packages\\scipy\\stats\\_continuous_distns.py:2455: RuntimeWarning: The shape parameter of the erlang distribution has been given a non-integer value 3.8148030765514207.\n",
      "  RuntimeWarning)\n",
      "C:\\ProgramData\\Anaconda3\\lib\\site-packages\\scipy\\stats\\_continuous_distns.py:2455: RuntimeWarning: The shape parameter of the erlang distribution has been given a non-integer value 3.9051470566712974.\n",
      "  RuntimeWarning)\n",
      "C:\\ProgramData\\Anaconda3\\lib\\site-packages\\scipy\\stats\\_continuous_distns.py:2455: RuntimeWarning: The shape parameter of the erlang distribution has been given a non-integer value 3.815628118486666.\n",
      "  RuntimeWarning)\n",
      "C:\\ProgramData\\Anaconda3\\lib\\site-packages\\scipy\\stats\\_continuous_distns.py:2455: RuntimeWarning: The shape parameter of the erlang distribution has been given a non-integer value 3.473743930461059.\n",
      "  RuntimeWarning)\n",
      "C:\\ProgramData\\Anaconda3\\lib\\site-packages\\scipy\\stats\\_continuous_distns.py:2455: RuntimeWarning: The shape parameter of the erlang distribution has been given a non-integer value 4.045139044824123.\n",
      "  RuntimeWarning)\n",
      "C:\\ProgramData\\Anaconda3\\lib\\site-packages\\scipy\\stats\\_continuous_distns.py:2455: RuntimeWarning: The shape parameter of the erlang distribution has been given a non-integer value 3.8501226681702554.\n",
      "  RuntimeWarning)\n",
      "C:\\ProgramData\\Anaconda3\\lib\\site-packages\\scipy\\stats\\_continuous_distns.py:2455: RuntimeWarning: The shape parameter of the erlang distribution has been given a non-integer value 3.992456811102609.\n",
      "  RuntimeWarning)\n",
      "C:\\ProgramData\\Anaconda3\\lib\\site-packages\\scipy\\stats\\_continuous_distns.py:2455: RuntimeWarning: The shape parameter of the erlang distribution has been given a non-integer value 3.7269993536822312.\n",
      "  RuntimeWarning)\n",
      "C:\\ProgramData\\Anaconda3\\lib\\site-packages\\scipy\\stats\\_continuous_distns.py:2455: RuntimeWarning: The shape parameter of the erlang distribution has been given a non-integer value 3.567929508111286.\n",
      "  RuntimeWarning)\n",
      "C:\\ProgramData\\Anaconda3\\lib\\site-packages\\scipy\\stats\\_continuous_distns.py:2455: RuntimeWarning: The shape parameter of the erlang distribution has been given a non-integer value 3.49666338540953.\n",
      "  RuntimeWarning)\n",
      "C:\\ProgramData\\Anaconda3\\lib\\site-packages\\scipy\\stats\\_continuous_distns.py:2455: RuntimeWarning: The shape parameter of the erlang distribution has been given a non-integer value 3.403358006501399.\n",
      "  RuntimeWarning)\n",
      "C:\\ProgramData\\Anaconda3\\lib\\site-packages\\scipy\\stats\\_continuous_distns.py:2455: RuntimeWarning: The shape parameter of the erlang distribution has been given a non-integer value 3.163005814861477.\n",
      "  RuntimeWarning)\n",
      "C:\\ProgramData\\Anaconda3\\lib\\site-packages\\scipy\\stats\\_continuous_distns.py:2455: RuntimeWarning: The shape parameter of the erlang distribution has been given a non-integer value 2.836694663048883.\n",
      "  RuntimeWarning)\n",
      "C:\\ProgramData\\Anaconda3\\lib\\site-packages\\scipy\\stats\\_continuous_distns.py:2455: RuntimeWarning: The shape parameter of the erlang distribution has been given a non-integer value 3.415041132420129.\n",
      "  RuntimeWarning)\n",
      "C:\\ProgramData\\Anaconda3\\lib\\site-packages\\scipy\\stats\\_continuous_distns.py:2455: RuntimeWarning: The shape parameter of the erlang distribution has been given a non-integer value 3.420882695379494.\n",
      "  RuntimeWarning)\n",
      "C:\\ProgramData\\Anaconda3\\lib\\site-packages\\scipy\\stats\\_continuous_distns.py:2455: RuntimeWarning: The shape parameter of the erlang distribution has been given a non-integer value 3.2673209181857317.\n",
      "  RuntimeWarning)\n",
      "C:\\ProgramData\\Anaconda3\\lib\\site-packages\\scipy\\stats\\_continuous_distns.py:2455: RuntimeWarning: The shape parameter of the erlang distribution has been given a non-integer value 3.1526496845738325.\n",
      "  RuntimeWarning)\n",
      "C:\\ProgramData\\Anaconda3\\lib\\site-packages\\scipy\\stats\\_continuous_distns.py:2455: RuntimeWarning: The shape parameter of the erlang distribution has been given a non-integer value 2.99564906886694.\n",
      "  RuntimeWarning)\n",
      "C:\\ProgramData\\Anaconda3\\lib\\site-packages\\scipy\\stats\\_continuous_distns.py:2455: RuntimeWarning: The shape parameter of the erlang distribution has been given a non-integer value 2.7095088492447665.\n",
      "  RuntimeWarning)\n",
      "C:\\ProgramData\\Anaconda3\\lib\\site-packages\\scipy\\stats\\_continuous_distns.py:2455: RuntimeWarning: The shape parameter of the erlang distribution has been given a non-integer value 3.2890015981203904.\n",
      "  RuntimeWarning)\n",
      "C:\\ProgramData\\Anaconda3\\lib\\site-packages\\scipy\\stats\\_continuous_distns.py:2455: RuntimeWarning: The shape parameter of the erlang distribution has been given a non-integer value 2.9529399243619125.\n",
      "  RuntimeWarning)\n",
      "C:\\ProgramData\\Anaconda3\\lib\\site-packages\\scipy\\stats\\_continuous_distns.py:2455: RuntimeWarning: The shape parameter of the erlang distribution has been given a non-integer value 2.721889320332804.\n",
      "  RuntimeWarning)\n",
      "C:\\ProgramData\\Anaconda3\\lib\\site-packages\\scipy\\stats\\_continuous_distns.py:2455: RuntimeWarning: The shape parameter of the erlang distribution has been given a non-integer value 2.8910728093804297.\n",
      "  RuntimeWarning)\n",
      "C:\\ProgramData\\Anaconda3\\lib\\site-packages\\scipy\\stats\\_continuous_distns.py:2455: RuntimeWarning: The shape parameter of the erlang distribution has been given a non-integer value 2.702948754977779.\n",
      "  RuntimeWarning)\n",
      "C:\\ProgramData\\Anaconda3\\lib\\site-packages\\scipy\\stats\\_continuous_distns.py:2455: RuntimeWarning: The shape parameter of the erlang distribution has been given a non-integer value 2.604106270285797.\n",
      "  RuntimeWarning)\n",
      "C:\\ProgramData\\Anaconda3\\lib\\site-packages\\scipy\\stats\\_continuous_distns.py:2455: RuntimeWarning: The shape parameter of the erlang distribution has been given a non-integer value 3.1177777661617423.\n",
      "  RuntimeWarning)\n",
      "C:\\ProgramData\\Anaconda3\\lib\\site-packages\\scipy\\stats\\_continuous_distns.py:2455: RuntimeWarning: The shape parameter of the erlang distribution has been given a non-integer value 2.9788779310691167.\n",
      "  RuntimeWarning)\n",
      "C:\\ProgramData\\Anaconda3\\lib\\site-packages\\scipy\\stats\\_continuous_distns.py:2455: RuntimeWarning: The shape parameter of the erlang distribution has been given a non-integer value 3.038879080045613.\n",
      "  RuntimeWarning)\n",
      "C:\\ProgramData\\Anaconda3\\lib\\site-packages\\scipy\\stats\\_continuous_distns.py:2455: RuntimeWarning: The shape parameter of the erlang distribution has been given a non-integer value 3.0173942911246883.\n",
      "  RuntimeWarning)\n",
      "C:\\ProgramData\\Anaconda3\\lib\\site-packages\\scipy\\stats\\_continuous_distns.py:2455: RuntimeWarning: The shape parameter of the erlang distribution has been given a non-integer value 2.807118921554414.\n",
      "  RuntimeWarning)\n",
      "C:\\ProgramData\\Anaconda3\\lib\\site-packages\\scipy\\stats\\_continuous_distns.py:2455: RuntimeWarning: The shape parameter of the erlang distribution has been given a non-integer value 2.65178949925075.\n",
      "  RuntimeWarning)\n",
      "C:\\ProgramData\\Anaconda3\\lib\\site-packages\\scipy\\stats\\_continuous_distns.py:2455: RuntimeWarning: The shape parameter of the erlang distribution has been given a non-integer value 2.727959802101461.\n",
      "  RuntimeWarning)\n",
      "C:\\ProgramData\\Anaconda3\\lib\\site-packages\\scipy\\stats\\_continuous_distns.py:2455: RuntimeWarning: The shape parameter of the erlang distribution has been given a non-integer value 2.496487116030406.\n",
      "  RuntimeWarning)\n",
      "C:\\ProgramData\\Anaconda3\\lib\\site-packages\\scipy\\stats\\_continuous_distns.py:2455: RuntimeWarning: The shape parameter of the erlang distribution has been given a non-integer value 2.8871674973511174.\n",
      "  RuntimeWarning)\n",
      "C:\\ProgramData\\Anaconda3\\lib\\site-packages\\scipy\\stats\\_continuous_distns.py:2455: RuntimeWarning: The shape parameter of the erlang distribution has been given a non-integer value 2.8920600685534037.\n",
      "  RuntimeWarning)\n",
      "C:\\ProgramData\\Anaconda3\\lib\\site-packages\\scipy\\stats\\_continuous_distns.py:2455: RuntimeWarning: The shape parameter of the erlang distribution has been given a non-integer value 2.851035001940418.\n",
      "  RuntimeWarning)\n",
      "C:\\ProgramData\\Anaconda3\\lib\\site-packages\\scipy\\stats\\_continuous_distns.py:2455: RuntimeWarning: The shape parameter of the erlang distribution has been given a non-integer value 2.7022551896477607.\n",
      "  RuntimeWarning)\n"
     ]
    },
    {
     "name": "stderr",
     "output_type": "stream",
     "text": [
      "C:\\ProgramData\\Anaconda3\\lib\\site-packages\\scipy\\stats\\_continuous_distns.py:2455: RuntimeWarning: The shape parameter of the erlang distribution has been given a non-integer value 2.582885629874835.\n",
      "  RuntimeWarning)\n",
      "C:\\ProgramData\\Anaconda3\\lib\\site-packages\\scipy\\stats\\_continuous_distns.py:2455: RuntimeWarning: The shape parameter of the erlang distribution has been given a non-integer value 2.430744696136694.\n",
      "  RuntimeWarning)\n",
      "C:\\ProgramData\\Anaconda3\\lib\\site-packages\\scipy\\stats\\_continuous_distns.py:2455: RuntimeWarning: The shape parameter of the erlang distribution has been given a non-integer value 2.3388245880830514.\n",
      "  RuntimeWarning)\n",
      "C:\\ProgramData\\Anaconda3\\lib\\site-packages\\scipy\\stats\\_continuous_distns.py:2455: RuntimeWarning: The shape parameter of the erlang distribution has been given a non-integer value 2.245317332665903.\n",
      "  RuntimeWarning)\n",
      "C:\\ProgramData\\Anaconda3\\lib\\site-packages\\scipy\\stats\\_continuous_distns.py:2455: RuntimeWarning: The shape parameter of the erlang distribution has been given a non-integer value 2.588020725402296.\n",
      "  RuntimeWarning)\n",
      "C:\\ProgramData\\Anaconda3\\lib\\site-packages\\scipy\\stats\\_continuous_distns.py:2455: RuntimeWarning: The shape parameter of the erlang distribution has been given a non-integer value 2.2532705071639443.\n",
      "  RuntimeWarning)\n",
      "C:\\ProgramData\\Anaconda3\\lib\\site-packages\\scipy\\stats\\_continuous_distns.py:2455: RuntimeWarning: The shape parameter of the erlang distribution has been given a non-integer value 2.054011011120542.\n",
      "  RuntimeWarning)\n",
      "C:\\ProgramData\\Anaconda3\\lib\\site-packages\\scipy\\stats\\_continuous_distns.py:2455: RuntimeWarning: The shape parameter of the erlang distribution has been given a non-integer value 2.093872468853497.\n",
      "  RuntimeWarning)\n",
      "C:\\ProgramData\\Anaconda3\\lib\\site-packages\\scipy\\stats\\_continuous_distns.py:2455: RuntimeWarning: The shape parameter of the erlang distribution has been given a non-integer value 2.4644836612650964.\n",
      "  RuntimeWarning)\n",
      "C:\\ProgramData\\Anaconda3\\lib\\site-packages\\scipy\\stats\\_continuous_distns.py:2455: RuntimeWarning: The shape parameter of the erlang distribution has been given a non-integer value 2.426841321627438.\n",
      "  RuntimeWarning)\n",
      "C:\\ProgramData\\Anaconda3\\lib\\site-packages\\scipy\\stats\\_continuous_distns.py:2455: RuntimeWarning: The shape parameter of the erlang distribution has been given a non-integer value 2.360828771469148.\n",
      "  RuntimeWarning)\n",
      "C:\\ProgramData\\Anaconda3\\lib\\site-packages\\scipy\\stats\\_continuous_distns.py:2455: RuntimeWarning: The shape parameter of the erlang distribution has been given a non-integer value 2.288310597128765.\n",
      "  RuntimeWarning)\n",
      "C:\\ProgramData\\Anaconda3\\lib\\site-packages\\scipy\\stats\\_continuous_distns.py:2455: RuntimeWarning: The shape parameter of the erlang distribution has been given a non-integer value 2.3951361713847117.\n",
      "  RuntimeWarning)\n",
      "C:\\ProgramData\\Anaconda3\\lib\\site-packages\\scipy\\stats\\_continuous_distns.py:2455: RuntimeWarning: The shape parameter of the erlang distribution has been given a non-integer value 2.5603618955820266.\n",
      "  RuntimeWarning)\n",
      "C:\\ProgramData\\Anaconda3\\lib\\site-packages\\scipy\\stats\\_continuous_distns.py:2455: RuntimeWarning: The shape parameter of the erlang distribution has been given a non-integer value 2.330043354268465.\n",
      "  RuntimeWarning)\n",
      "C:\\ProgramData\\Anaconda3\\lib\\site-packages\\scipy\\stats\\_continuous_distns.py:2455: RuntimeWarning: The shape parameter of the erlang distribution has been given a non-integer value 2.432280019809701.\n",
      "  RuntimeWarning)\n",
      "C:\\ProgramData\\Anaconda3\\lib\\site-packages\\scipy\\stats\\_continuous_distns.py:2455: RuntimeWarning: The shape parameter of the erlang distribution has been given a non-integer value 2.3071560357101557.\n",
      "  RuntimeWarning)\n",
      "C:\\ProgramData\\Anaconda3\\lib\\site-packages\\scipy\\stats\\_continuous_distns.py:2455: RuntimeWarning: The shape parameter of the erlang distribution has been given a non-integer value 2.425151754876361.\n",
      "  RuntimeWarning)\n",
      "C:\\ProgramData\\Anaconda3\\lib\\site-packages\\scipy\\stats\\_continuous_distns.py:2455: RuntimeWarning: The shape parameter of the erlang distribution has been given a non-integer value 2.3965139145849728.\n",
      "  RuntimeWarning)\n",
      "C:\\ProgramData\\Anaconda3\\lib\\site-packages\\scipy\\stats\\_continuous_distns.py:2455: RuntimeWarning: The shape parameter of the erlang distribution has been given a non-integer value 2.397202786185103.\n",
      "  RuntimeWarning)\n",
      "C:\\ProgramData\\Anaconda3\\lib\\site-packages\\scipy\\stats\\_continuous_distns.py:2455: RuntimeWarning: The shape parameter of the erlang distribution has been given a non-integer value 2.3359852437435853.\n",
      "  RuntimeWarning)\n",
      "C:\\ProgramData\\Anaconda3\\lib\\site-packages\\scipy\\stats\\_continuous_distns.py:2455: RuntimeWarning: The shape parameter of the erlang distribution has been given a non-integer value 2.4421831689349007.\n",
      "  RuntimeWarning)\n",
      "C:\\ProgramData\\Anaconda3\\lib\\site-packages\\scipy\\stats\\_continuous_distns.py:2455: RuntimeWarning: The shape parameter of the erlang distribution has been given a non-integer value 2.358429044366032.\n",
      "  RuntimeWarning)\n",
      "C:\\ProgramData\\Anaconda3\\lib\\site-packages\\scipy\\stats\\_continuous_distns.py:2455: RuntimeWarning: The shape parameter of the erlang distribution has been given a non-integer value 2.4625580892471053.\n",
      "  RuntimeWarning)\n",
      "C:\\ProgramData\\Anaconda3\\lib\\site-packages\\scipy\\stats\\_continuous_distns.py:2455: RuntimeWarning: The shape parameter of the erlang distribution has been given a non-integer value 2.3676284551194655.\n",
      "  RuntimeWarning)\n",
      "C:\\ProgramData\\Anaconda3\\lib\\site-packages\\scipy\\stats\\_continuous_distns.py:2455: RuntimeWarning: The shape parameter of the erlang distribution has been given a non-integer value 2.306657021512166.\n",
      "  RuntimeWarning)\n",
      "C:\\ProgramData\\Anaconda3\\lib\\site-packages\\scipy\\stats\\_continuous_distns.py:2455: RuntimeWarning: The shape parameter of the erlang distribution has been given a non-integer value 2.355896464178458.\n",
      "  RuntimeWarning)\n",
      "C:\\ProgramData\\Anaconda3\\lib\\site-packages\\scipy\\stats\\_continuous_distns.py:2455: RuntimeWarning: The shape parameter of the erlang distribution has been given a non-integer value 2.440494782143185.\n",
      "  RuntimeWarning)\n",
      "C:\\ProgramData\\Anaconda3\\lib\\site-packages\\scipy\\stats\\_continuous_distns.py:2455: RuntimeWarning: The shape parameter of the erlang distribution has been given a non-integer value 2.3401164616699206.\n",
      "  RuntimeWarning)\n",
      "C:\\ProgramData\\Anaconda3\\lib\\site-packages\\scipy\\stats\\_continuous_distns.py:2455: RuntimeWarning: The shape parameter of the erlang distribution has been given a non-integer value 2.3611820195695215.\n",
      "  RuntimeWarning)\n",
      "C:\\ProgramData\\Anaconda3\\lib\\site-packages\\scipy\\stats\\_continuous_distns.py:2455: RuntimeWarning: The shape parameter of the erlang distribution has been given a non-integer value 2.357958801794549.\n",
      "  RuntimeWarning)\n",
      "C:\\ProgramData\\Anaconda3\\lib\\site-packages\\scipy\\stats\\_continuous_distns.py:2455: RuntimeWarning: The shape parameter of the erlang distribution has been given a non-integer value 2.376437714104572.\n",
      "  RuntimeWarning)\n",
      "C:\\ProgramData\\Anaconda3\\lib\\site-packages\\scipy\\stats\\_continuous_distns.py:2455: RuntimeWarning: The shape parameter of the erlang distribution has been given a non-integer value 2.3867083390676296.\n",
      "  RuntimeWarning)\n",
      "C:\\ProgramData\\Anaconda3\\lib\\site-packages\\scipy\\stats\\_continuous_distns.py:2455: RuntimeWarning: The shape parameter of the erlang distribution has been given a non-integer value 2.321288010710907.\n",
      "  RuntimeWarning)\n",
      "C:\\ProgramData\\Anaconda3\\lib\\site-packages\\scipy\\stats\\_continuous_distns.py:2455: RuntimeWarning: The shape parameter of the erlang distribution has been given a non-integer value 2.365822034586746.\n",
      "  RuntimeWarning)\n",
      "C:\\ProgramData\\Anaconda3\\lib\\site-packages\\scipy\\stats\\_continuous_distns.py:2455: RuntimeWarning: The shape parameter of the erlang distribution has been given a non-integer value 2.3478498200319615.\n",
      "  RuntimeWarning)\n",
      "C:\\ProgramData\\Anaconda3\\lib\\site-packages\\scipy\\stats\\_continuous_distns.py:2455: RuntimeWarning: The shape parameter of the erlang distribution has been given a non-integer value 2.3411837202631816.\n",
      "  RuntimeWarning)\n",
      "C:\\ProgramData\\Anaconda3\\lib\\site-packages\\scipy\\stats\\_continuous_distns.py:2455: RuntimeWarning: The shape parameter of the erlang distribution has been given a non-integer value 2.4054517017712795.\n",
      "  RuntimeWarning)\n",
      "C:\\ProgramData\\Anaconda3\\lib\\site-packages\\scipy\\stats\\_continuous_distns.py:2455: RuntimeWarning: The shape parameter of the erlang distribution has been given a non-integer value 2.342328933476.\n",
      "  RuntimeWarning)\n",
      "C:\\ProgramData\\Anaconda3\\lib\\site-packages\\scipy\\stats\\_continuous_distns.py:2455: RuntimeWarning: The shape parameter of the erlang distribution has been given a non-integer value 2.3452556104882762.\n",
      "  RuntimeWarning)\n",
      "C:\\ProgramData\\Anaconda3\\lib\\site-packages\\scipy\\stats\\_continuous_distns.py:2455: RuntimeWarning: The shape parameter of the erlang distribution has been given a non-integer value 2.3606804285621283.\n",
      "  RuntimeWarning)\n",
      "C:\\ProgramData\\Anaconda3\\lib\\site-packages\\scipy\\stats\\_continuous_distns.py:2455: RuntimeWarning: The shape parameter of the erlang distribution has been given a non-integer value 2.3241350739421547.\n",
      "  RuntimeWarning)\n",
      "C:\\ProgramData\\Anaconda3\\lib\\site-packages\\scipy\\stats\\_continuous_distns.py:2455: RuntimeWarning: The shape parameter of the erlang distribution has been given a non-integer value 2.2979837538609456.\n",
      "  RuntimeWarning)\n",
      "C:\\ProgramData\\Anaconda3\\lib\\site-packages\\scipy\\stats\\_continuous_distns.py:2455: RuntimeWarning: The shape parameter of the erlang distribution has been given a non-integer value 2.3155287897379493.\n",
      "  RuntimeWarning)\n",
      "C:\\ProgramData\\Anaconda3\\lib\\site-packages\\scipy\\stats\\_continuous_distns.py:2455: RuntimeWarning: The shape parameter of the erlang distribution has been given a non-integer value 2.3493925188560834.\n",
      "  RuntimeWarning)\n",
      "C:\\ProgramData\\Anaconda3\\lib\\site-packages\\scipy\\stats\\_continuous_distns.py:2455: RuntimeWarning: The shape parameter of the erlang distribution has been given a non-integer value 2.3385893417441332.\n",
      "  RuntimeWarning)\n",
      "C:\\ProgramData\\Anaconda3\\lib\\site-packages\\scipy\\stats\\_continuous_distns.py:2455: RuntimeWarning: The shape parameter of the erlang distribution has been given a non-integer value 2.3367195458782.\n",
      "  RuntimeWarning)\n",
      "C:\\ProgramData\\Anaconda3\\lib\\site-packages\\scipy\\stats\\_continuous_distns.py:2455: RuntimeWarning: The shape parameter of the erlang distribution has been given a non-integer value 2.325648272418997.\n",
      "  RuntimeWarning)\n",
      "C:\\ProgramData\\Anaconda3\\lib\\site-packages\\scipy\\stats\\_continuous_distns.py:2455: RuntimeWarning: The shape parameter of the erlang distribution has been given a non-integer value 2.3082760759701513.\n",
      "  RuntimeWarning)\n",
      "C:\\ProgramData\\Anaconda3\\lib\\site-packages\\scipy\\stats\\_continuous_distns.py:2455: RuntimeWarning: The shape parameter of the erlang distribution has been given a non-integer value 2.2877178545271857.\n",
      "  RuntimeWarning)\n",
      "C:\\ProgramData\\Anaconda3\\lib\\site-packages\\scipy\\stats\\_continuous_distns.py:2455: RuntimeWarning: The shape parameter of the erlang distribution has been given a non-integer value 2.322960855569411.\n",
      "  RuntimeWarning)\n",
      "C:\\ProgramData\\Anaconda3\\lib\\site-packages\\scipy\\stats\\_continuous_distns.py:2455: RuntimeWarning: The shape parameter of the erlang distribution has been given a non-integer value 2.3223737463830396.\n",
      "  RuntimeWarning)\n",
      "C:\\ProgramData\\Anaconda3\\lib\\site-packages\\scipy\\stats\\_continuous_distns.py:2455: RuntimeWarning: The shape parameter of the erlang distribution has been given a non-integer value 2.319656045859511.\n",
      "  RuntimeWarning)\n",
      "C:\\ProgramData\\Anaconda3\\lib\\site-packages\\scipy\\stats\\_continuous_distns.py:2455: RuntimeWarning: The shape parameter of the erlang distribution has been given a non-integer value 2.3211541024993823.\n",
      "  RuntimeWarning)\n",
      "C:\\ProgramData\\Anaconda3\\lib\\site-packages\\scipy\\stats\\_continuous_distns.py:2455: RuntimeWarning: The shape parameter of the erlang distribution has been given a non-integer value 2.2982078101477628.\n",
      "  RuntimeWarning)\n",
      "C:\\ProgramData\\Anaconda3\\lib\\site-packages\\scipy\\stats\\_continuous_distns.py:2455: RuntimeWarning: The shape parameter of the erlang distribution has been given a non-integer value 2.3270916119455904.\n",
      "  RuntimeWarning)\n",
      "C:\\ProgramData\\Anaconda3\\lib\\site-packages\\scipy\\stats\\_continuous_distns.py:2455: RuntimeWarning: The shape parameter of the erlang distribution has been given a non-integer value 2.339194970706105.\n",
      "  RuntimeWarning)\n",
      "C:\\ProgramData\\Anaconda3\\lib\\site-packages\\scipy\\stats\\_continuous_distns.py:2455: RuntimeWarning: The shape parameter of the erlang distribution has been given a non-integer value 2.31600579965414.\n",
      "  RuntimeWarning)\n",
      "C:\\ProgramData\\Anaconda3\\lib\\site-packages\\scipy\\stats\\_continuous_distns.py:2455: RuntimeWarning: The shape parameter of the erlang distribution has been given a non-integer value 2.3228847422800456.\n",
      "  RuntimeWarning)\n",
      "C:\\ProgramData\\Anaconda3\\lib\\site-packages\\scipy\\stats\\_continuous_distns.py:2455: RuntimeWarning: The shape parameter of the erlang distribution has been given a non-integer value 2.32245208233488.\n",
      "  RuntimeWarning)\n",
      "C:\\ProgramData\\Anaconda3\\lib\\site-packages\\scipy\\stats\\_continuous_distns.py:2455: RuntimeWarning: The shape parameter of the erlang distribution has been given a non-integer value 2.3207388070536625.\n",
      "  RuntimeWarning)\n",
      "C:\\ProgramData\\Anaconda3\\lib\\site-packages\\scipy\\stats\\_continuous_distns.py:2455: RuntimeWarning: The shape parameter of the erlang distribution has been given a non-integer value 2.322405343440474.\n",
      "  RuntimeWarning)\n",
      "C:\\ProgramData\\Anaconda3\\lib\\site-packages\\scipy\\stats\\_continuous_distns.py:2455: RuntimeWarning: The shape parameter of the erlang distribution has been given a non-integer value 2.313483871674072.\n",
      "  RuntimeWarning)\n",
      "C:\\ProgramData\\Anaconda3\\lib\\site-packages\\scipy\\stats\\_continuous_distns.py:2455: RuntimeWarning: The shape parameter of the erlang distribution has been given a non-integer value 2.323689676877711.\n",
      "  RuntimeWarning)\n",
      "C:\\ProgramData\\Anaconda3\\lib\\site-packages\\scipy\\stats\\_continuous_distns.py:2455: RuntimeWarning: The shape parameter of the erlang distribution has been given a non-integer value 2.3189484643133365.\n",
      "  RuntimeWarning)\n",
      "C:\\ProgramData\\Anaconda3\\lib\\site-packages\\scipy\\stats\\_continuous_distns.py:2455: RuntimeWarning: The shape parameter of the erlang distribution has been given a non-integer value 2.3171966553025642.\n",
      "  RuntimeWarning)\n",
      "C:\\ProgramData\\Anaconda3\\lib\\site-packages\\scipy\\stats\\_continuous_distns.py:2455: RuntimeWarning: The shape parameter of the erlang distribution has been given a non-integer value 2.316690617122984.\n",
      "  RuntimeWarning)\n",
      "C:\\ProgramData\\Anaconda3\\lib\\site-packages\\scipy\\stats\\_continuous_distns.py:2455: RuntimeWarning: The shape parameter of the erlang distribution has been given a non-integer value 2.320976661861102.\n",
      "  RuntimeWarning)\n",
      "C:\\ProgramData\\Anaconda3\\lib\\site-packages\\scipy\\stats\\_continuous_distns.py:2455: RuntimeWarning: The shape parameter of the erlang distribution has been given a non-integer value 2.3264040690472925.\n",
      "  RuntimeWarning)\n",
      "C:\\ProgramData\\Anaconda3\\lib\\site-packages\\scipy\\stats\\_continuous_distns.py:2455: RuntimeWarning: The shape parameter of the erlang distribution has been given a non-integer value 2.3186053670024283.\n",
      "  RuntimeWarning)\n",
      "C:\\ProgramData\\Anaconda3\\lib\\site-packages\\scipy\\stats\\_continuous_distns.py:2455: RuntimeWarning: The shape parameter of the erlang distribution has been given a non-integer value 2.3153306519068666.\n",
      "  RuntimeWarning)\n",
      "C:\\ProgramData\\Anaconda3\\lib\\site-packages\\scipy\\stats\\_continuous_distns.py:2455: RuntimeWarning: The shape parameter of the erlang distribution has been given a non-integer value 2.317659989533595.\n",
      "  RuntimeWarning)\n",
      "C:\\ProgramData\\Anaconda3\\lib\\site-packages\\scipy\\stats\\_continuous_distns.py:2455: RuntimeWarning: The shape parameter of the erlang distribution has been given a non-integer value 2.318626345618401.\n",
      "  RuntimeWarning)\n",
      "C:\\ProgramData\\Anaconda3\\lib\\site-packages\\scipy\\stats\\_continuous_distns.py:2455: RuntimeWarning: The shape parameter of the erlang distribution has been given a non-integer value 2.323474931081088.\n",
      "  RuntimeWarning)\n",
      "C:\\ProgramData\\Anaconda3\\lib\\site-packages\\scipy\\stats\\_continuous_distns.py:2455: RuntimeWarning: The shape parameter of the erlang distribution has been given a non-integer value 2.317366721700422.\n",
      "  RuntimeWarning)\n",
      "C:\\ProgramData\\Anaconda3\\lib\\site-packages\\scipy\\stats\\_continuous_distns.py:2455: RuntimeWarning: The shape parameter of the erlang distribution has been given a non-integer value 2.3154222943530662.\n",
      "  RuntimeWarning)\n",
      "C:\\ProgramData\\Anaconda3\\lib\\site-packages\\scipy\\stats\\_continuous_distns.py:2455: RuntimeWarning: The shape parameter of the erlang distribution has been given a non-integer value 2.3195880699840927.\n",
      "  RuntimeWarning)\n",
      "C:\\ProgramData\\Anaconda3\\lib\\site-packages\\scipy\\stats\\_continuous_distns.py:2455: RuntimeWarning: The shape parameter of the erlang distribution has been given a non-integer value 2.3184137601728945.\n",
      "  RuntimeWarning)\n"
     ]
    },
    {
     "name": "stderr",
     "output_type": "stream",
     "text": [
      "C:\\ProgramData\\Anaconda3\\lib\\site-packages\\scipy\\stats\\_continuous_distns.py:2455: RuntimeWarning: The shape parameter of the erlang distribution has been given a non-integer value 2.3185731992570244.\n",
      "  RuntimeWarning)\n",
      "C:\\ProgramData\\Anaconda3\\lib\\site-packages\\scipy\\stats\\_continuous_distns.py:2455: RuntimeWarning: The shape parameter of the erlang distribution has been given a non-integer value 2.3204777024619414.\n",
      "  RuntimeWarning)\n",
      "C:\\ProgramData\\Anaconda3\\lib\\site-packages\\scipy\\stats\\_continuous_distns.py:2455: RuntimeWarning: The shape parameter of the erlang distribution has been given a non-integer value 2.3188494424968367.\n",
      "  RuntimeWarning)\n",
      "C:\\ProgramData\\Anaconda3\\lib\\site-packages\\scipy\\stats\\_continuous_distns.py:2455: RuntimeWarning: The shape parameter of the erlang distribution has been given a non-integer value 2.3168743033755845.\n",
      "  RuntimeWarning)\n",
      "C:\\ProgramData\\Anaconda3\\lib\\site-packages\\scipy\\stats\\_continuous_distns.py:2455: RuntimeWarning: The shape parameter of the erlang distribution has been given a non-integer value 2.319576852690352.\n",
      "  RuntimeWarning)\n",
      "C:\\ProgramData\\Anaconda3\\lib\\site-packages\\scipy\\stats\\_continuous_distns.py:2455: RuntimeWarning: The shape parameter of the erlang distribution has been given a non-integer value 2.3189875034696996.\n",
      "  RuntimeWarning)\n",
      "C:\\ProgramData\\Anaconda3\\lib\\site-packages\\scipy\\stats\\_continuous_distns.py:2455: RuntimeWarning: The shape parameter of the erlang distribution has been given a non-integer value 2.3189529882264837.\n",
      "  RuntimeWarning)\n",
      "C:\\ProgramData\\Anaconda3\\lib\\site-packages\\scipy\\stats\\_continuous_distns.py:2455: RuntimeWarning: The shape parameter of the erlang distribution has been given a non-integer value 2.3194633264468125.\n",
      "  RuntimeWarning)\n",
      "C:\\ProgramData\\Anaconda3\\lib\\site-packages\\scipy\\stats\\_continuous_distns.py:2455: RuntimeWarning: The shape parameter of the erlang distribution has been given a non-integer value 2.3188198568635245.\n",
      "  RuntimeWarning)\n",
      "C:\\ProgramData\\Anaconda3\\lib\\site-packages\\scipy\\stats\\_continuous_distns.py:2455: RuntimeWarning: The shape parameter of the erlang distribution has been given a non-integer value 2.3196599325965495.\n",
      "  RuntimeWarning)\n",
      "C:\\ProgramData\\Anaconda3\\lib\\site-packages\\scipy\\stats\\_continuous_distns.py:2455: RuntimeWarning: The shape parameter of the erlang distribution has been given a non-integer value 2.3188448825919057.\n",
      "  RuntimeWarning)\n",
      "C:\\ProgramData\\Anaconda3\\lib\\site-packages\\scipy\\stats\\_continuous_distns.py:2455: RuntimeWarning: The shape parameter of the erlang distribution has been given a non-integer value 2.3181682990975907.\n",
      "  RuntimeWarning)\n",
      "C:\\ProgramData\\Anaconda3\\lib\\site-packages\\scipy\\stats\\_continuous_distns.py:2455: RuntimeWarning: The shape parameter of the erlang distribution has been given a non-integer value 2.3192247142921616.\n",
      "  RuntimeWarning)\n",
      "C:\\ProgramData\\Anaconda3\\lib\\site-packages\\scipy\\stats\\_continuous_distns.py:2455: RuntimeWarning: The shape parameter of the erlang distribution has been given a non-integer value 2.318973314271911.\n",
      "  RuntimeWarning)\n",
      "C:\\ProgramData\\Anaconda3\\lib\\site-packages\\scipy\\stats\\_continuous_distns.py:2455: RuntimeWarning: The shape parameter of the erlang distribution has been given a non-integer value 2.319208750573795.\n",
      "  RuntimeWarning)\n",
      "C:\\ProgramData\\Anaconda3\\lib\\site-packages\\scipy\\stats\\_continuous_distns.py:2455: RuntimeWarning: The shape parameter of the erlang distribution has been given a non-integer value 2.3194031974289295.\n",
      "  RuntimeWarning)\n",
      "C:\\ProgramData\\Anaconda3\\lib\\site-packages\\scipy\\stats\\_continuous_distns.py:2455: RuntimeWarning: The shape parameter of the erlang distribution has been given a non-integer value 2.3192122506999975.\n",
      "  RuntimeWarning)\n",
      "C:\\ProgramData\\Anaconda3\\lib\\site-packages\\scipy\\stats\\_continuous_distns.py:2455: RuntimeWarning: The shape parameter of the erlang distribution has been given a non-integer value 2.3190330483789325.\n",
      "  RuntimeWarning)\n",
      "C:\\ProgramData\\Anaconda3\\lib\\site-packages\\scipy\\stats\\_continuous_distns.py:2455: RuntimeWarning: The shape parameter of the erlang distribution has been given a non-integer value 2.31883307340426.\n",
      "  RuntimeWarning)\n",
      "C:\\ProgramData\\Anaconda3\\lib\\site-packages\\scipy\\stats\\_continuous_distns.py:2455: RuntimeWarning: The shape parameter of the erlang distribution has been given a non-integer value 2.3189309836262355.\n",
      "  RuntimeWarning)\n",
      "C:\\ProgramData\\Anaconda3\\lib\\site-packages\\scipy\\stats\\_continuous_distns.py:2455: RuntimeWarning: The shape parameter of the erlang distribution has been given a non-integer value 2.3192703057940696.\n",
      "  RuntimeWarning)\n",
      "C:\\ProgramData\\Anaconda3\\lib\\site-packages\\scipy\\stats\\_continuous_distns.py:2455: RuntimeWarning: The shape parameter of the erlang distribution has been given a non-integer value 2.3189512383924464.\n",
      "  RuntimeWarning)\n",
      "C:\\ProgramData\\Anaconda3\\lib\\site-packages\\scipy\\stats\\_continuous_distns.py:2455: RuntimeWarning: The shape parameter of the erlang distribution has been given a non-integer value 2.318734763024615.\n",
      "  RuntimeWarning)\n",
      "C:\\ProgramData\\Anaconda3\\lib\\site-packages\\scipy\\stats\\_continuous_distns.py:2455: RuntimeWarning: The shape parameter of the erlang distribution has been given a non-integer value 2.3184977692500253.\n",
      "  RuntimeWarning)\n",
      "C:\\ProgramData\\Anaconda3\\lib\\site-packages\\scipy\\stats\\_continuous_distns.py:2455: RuntimeWarning: The shape parameter of the erlang distribution has been given a non-integer value 2.31888171623776.\n",
      "  RuntimeWarning)\n",
      "C:\\ProgramData\\Anaconda3\\lib\\site-packages\\scipy\\stats\\_continuous_distns.py:2455: RuntimeWarning: The shape parameter of the erlang distribution has been given a non-integer value 2.3189186667791164.\n",
      "  RuntimeWarning)\n",
      "C:\\ProgramData\\Anaconda3\\lib\\site-packages\\scipy\\stats\\_continuous_distns.py:2455: RuntimeWarning: The shape parameter of the erlang distribution has been given a non-integer value 2.318839747062663.\n",
      "  RuntimeWarning)\n",
      "C:\\ProgramData\\Anaconda3\\lib\\site-packages\\scipy\\stats\\_continuous_distns.py:2455: RuntimeWarning: The shape parameter of the erlang distribution has been given a non-integer value 2.318629069531997.\n",
      "  RuntimeWarning)\n",
      "C:\\ProgramData\\Anaconda3\\lib\\site-packages\\scipy\\stats\\_continuous_distns.py:2455: RuntimeWarning: The shape parameter of the erlang distribution has been given a non-integer value 2.318681919161156.\n",
      "  RuntimeWarning)\n",
      "C:\\ProgramData\\Anaconda3\\lib\\site-packages\\scipy\\stats\\_continuous_distns.py:2455: RuntimeWarning: The shape parameter of the erlang distribution has been given a non-integer value 2.318800290087286.\n",
      "  RuntimeWarning)\n",
      "C:\\ProgramData\\Anaconda3\\lib\\site-packages\\scipy\\stats\\_continuous_distns.py:2455: RuntimeWarning: The shape parameter of the erlang distribution has been given a non-integer value 2.3190067437286817.\n",
      "  RuntimeWarning)\n",
      "C:\\ProgramData\\Anaconda3\\lib\\site-packages\\scipy\\stats\\_continuous_distns.py:2455: RuntimeWarning: The shape parameter of the erlang distribution has been given a non-integer value 2.31891232517951.\n",
      "  RuntimeWarning)\n",
      "C:\\ProgramData\\Anaconda3\\lib\\site-packages\\scipy\\stats\\_continuous_distns.py:2455: RuntimeWarning: The shape parameter of the erlang distribution has been given a non-integer value 2.318712918748491.\n",
      "  RuntimeWarning)\n",
      "C:\\ProgramData\\Anaconda3\\lib\\site-packages\\scipy\\stats\\_continuous_distns.py:2455: RuntimeWarning: The shape parameter of the erlang distribution has been given a non-integer value 2.31886722977146.\n",
      "  RuntimeWarning)\n",
      "C:\\ProgramData\\Anaconda3\\lib\\site-packages\\scipy\\stats\\_continuous_distns.py:2455: RuntimeWarning: The shape parameter of the erlang distribution has been given a non-integer value 2.3189851336675558.\n",
      "  RuntimeWarning)\n",
      "C:\\ProgramData\\Anaconda3\\lib\\site-packages\\scipy\\stats\\_continuous_distns.py:2455: RuntimeWarning: The shape parameter of the erlang distribution has been given a non-integer value 2.3189225410068204.\n",
      "  RuntimeWarning)\n",
      "C:\\ProgramData\\Anaconda3\\lib\\site-packages\\scipy\\stats\\_continuous_distns.py:2455: RuntimeWarning: The shape parameter of the erlang distribution has been given a non-integer value 2.3188143820642004.\n",
      "  RuntimeWarning)\n",
      "C:\\ProgramData\\Anaconda3\\lib\\site-packages\\scipy\\stats\\_continuous_distns.py:2455: RuntimeWarning: The shape parameter of the erlang distribution has been given a non-integer value 2.318765410506545.\n",
      "  RuntimeWarning)\n",
      "C:\\ProgramData\\Anaconda3\\lib\\site-packages\\scipy\\stats\\_continuous_distns.py:2455: RuntimeWarning: The shape parameter of the erlang distribution has been given a non-integer value 2.318935811807701.\n",
      "  RuntimeWarning)\n",
      "C:\\ProgramData\\Anaconda3\\lib\\site-packages\\scipy\\stats\\_continuous_distns.py:2455: RuntimeWarning: The shape parameter of the erlang distribution has been given a non-integer value 2.31883417051739.\n",
      "  RuntimeWarning)\n",
      "C:\\ProgramData\\Anaconda3\\lib\\site-packages\\scipy\\stats\\_continuous_distns.py:2455: RuntimeWarning: The shape parameter of the erlang distribution has been given a non-integer value 2.3188468326208134.\n",
      "  RuntimeWarning)\n",
      "C:\\ProgramData\\Anaconda3\\lib\\site-packages\\scipy\\stats\\_continuous_distns.py:2455: RuntimeWarning: The shape parameter of the erlang distribution has been given a non-integer value 2.318862130483798.\n",
      "  RuntimeWarning)\n",
      "C:\\ProgramData\\Anaconda3\\lib\\site-packages\\scipy\\stats\\_continuous_distns.py:2455: RuntimeWarning: The shape parameter of the erlang distribution has been given a non-integer value 2.318751247703439.\n",
      "  RuntimeWarning)\n",
      "C:\\ProgramData\\Anaconda3\\lib\\site-packages\\scipy\\stats\\_continuous_distns.py:2455: RuntimeWarning: The shape parameter of the erlang distribution has been given a non-integer value 2.318879717680975.\n",
      "  RuntimeWarning)\n",
      "C:\\ProgramData\\Anaconda3\\lib\\site-packages\\scipy\\stats\\_continuous_distns.py:2455: RuntimeWarning: The shape parameter of the erlang distribution has been given a non-integer value 2.3188699829685926.\n",
      "  RuntimeWarning)\n",
      "C:\\ProgramData\\Anaconda3\\lib\\site-packages\\scipy\\stats\\_continuous_distns.py:2455: RuntimeWarning: The shape parameter of the erlang distribution has been given a non-integer value 2.318847257992047.\n",
      "  RuntimeWarning)\n",
      "C:\\ProgramData\\Anaconda3\\lib\\site-packages\\scipy\\stats\\_continuous_distns.py:2455: RuntimeWarning: The shape parameter of the erlang distribution has been given a non-integer value 2.318839821746172.\n",
      "  RuntimeWarning)\n"
     ]
    }
   ],
   "source": [
    "# pensando en que fuera beta\n",
    "\n",
    "#st.beta.fit(data['loangrade'])[3]\n",
    "\n",
    "#pensando en que fuera erlang\n",
    "print('erlang parameters for the distribution')\n",
    "st.erlang.fit(data['loangrade'])\n",
    "a=st.erlang.fit(data['loangrade'])[0]\n",
    "loc=st.erlang.fit(data['loangrade'])[1]\n",
    "scale=st.erlang.fit(data['loangrade'])[2]"
   ]
  },
  {
   "cell_type": "code",
   "execution_count": 84,
   "metadata": {},
   "outputs": [
    {
     "name": "stderr",
     "output_type": "stream",
     "text": [
      "C:\\ProgramData\\Anaconda3\\lib\\site-packages\\scipy\\stats\\_continuous_distns.py:2455: RuntimeWarning: The shape parameter of the erlang distribution has been given a non-integer value array(2.31883982).\n",
      "  RuntimeWarning)\n"
     ]
    },
    {
     "data": {
      "text/plain": [
       "Text(0,0.5,'Data theorical quantiles')"
      ]
     },
     "execution_count": 84,
     "metadata": {},
     "output_type": "execute_result"
    },
    {
     "data": {
      "image/png": "[encoded data removed]",
      "text/plain": [
       "<matplotlib.figure.Figure at 0x13167870>"
      ]
     },
     "metadata": {},
     "output_type": "display_data"
    }
   ],
   "source": [
    "res = st.probplot(data['loangrade'],dist=st.erlang,sparams=(a,loc,scale), plot=plt)\n",
    "plt.grid()\n",
    "plt.xlabel('Normal theorical quantiles')\n",
    "plt.ylabel('Data theorical quantiles')"
   ]
  },
  {
   "cell_type": "code",
   "execution_count": 102,
   "metadata": {},
   "outputs": [
    {
     "data": {
      "image/png": "[encoded data removed]",
      "text/plain": [
       "<matplotlib.figure.Figure at 0x12e53e90>"
      ]
     },
     "metadata": {},
     "output_type": "display_data"
    }
   ],
   "source": [
    "a=1\n",
    "b=10\n",
    "c=35\n",
    "N=1000000\n",
    "#r=st.binom.rvs(n=b,p=.7,size=N)\n",
    "r=np.round(st.erlang.rvs(a=a,loc=loc,scale=scale,size=N))\n",
    "r=[i for i in r if i<36]\n",
    "#r=np.round(st.norm.rvs(loc=np.mean(data['loangrade']),scale=np.std(data['loangrade']),size=N))\n",
    "#r=np.round(st.triang.rvs((b-a)/(c-a),a,c-a,N))\n",
    "\n",
    "plt.hist(r,100)\n",
    "plt.title('Distribution of the simulated autorized loans by loangrades')\n",
    "plt.xlabel('loangrade')\n",
    "plt.ylabel('frequency')\n",
    "plt.show()\n"
   ]
  },
  {
   "cell_type": "code",
   "execution_count": 61,
   "metadata": {},
   "outputs": [],
   "source": [
    "#simulated interest rates apliable to loans\n",
    "z=np.random.uniform(np.min(data['int_rate']),np.max(data['int_rate']),len(r))\n",
    "#simulated funded amounts of the loans\n",
    "y=np.round(np.random.uniform(np.max(data['funded_amnt']),np.min(data['funded_amnt']),len(r)))"
   ]
  },
  {
   "cell_type": "code",
   "execution_count": 62,
   "metadata": {},
   "outputs": [],
   "source": [
    "sim_loangrade=pd.DataFrame(r)\n",
    "sim_int_rate=pd.DataFrame(z)\n",
    "sim_amounts=pd.DataFrame(y)\n",
    "sim=pd.concat([sim_loangrade,sim_int_rate,sim_amounts],axis=1)\n",
    "#full table with the simulation\n",
    "sim.columns=['loangrade','int_rate','funded_amnt']"
   ]
  },
  {
   "cell_type": "code",
   "execution_count": 63,
   "metadata": {},
   "outputs": [],
   "source": [
    "#functions that according to the probability of default for every loan generates simulations of default\n",
    "f=lambda x: int(np.random.choice(2,1,p=[1-default_probability_by_loangrade[x],default_probability_by_loangrade[x]]))"
   ]
  },
  {
   "cell_type": "code",
   "execution_count": 64,
   "metadata": {},
   "outputs": [],
   "source": [
    "default_sim=list(map(lambda n:f(int(n)-1),sim['loangrade']))"
   ]
  },
  {
   "cell_type": "code",
   "execution_count": 100,
   "metadata": {},
   "outputs": [
    {
     "name": "stdout",
     "output_type": "stream",
     "text": [
      "the percentage of default loans is  11.233753905989442 %\n"
     ]
    }
   ],
   "source": [
    "print('the percentage of default loans is ',(np.count_nonzero(default_sim)/len(sim))*100,'%')"
   ]
  },
  {
   "cell_type": "code",
   "execution_count": 67,
   "metadata": {},
   "outputs": [],
   "source": [
    "#simulated default loans\n",
    "x=pd.DataFrame([sim.iloc[i,] for i in range(len(default_sim)) if default_sim[i]==1])"
   ]
  },
  {
   "cell_type": "code",
   "execution_count": 79,
   "metadata": {},
   "outputs": [
    {
     "name": "stdout",
     "output_type": "stream",
     "text": [
      "the percentage of loses in money is  11.268685075385267 %\n"
     ]
    }
   ],
   "source": [
    "print('the percentage of loses in money is ',(sum(x['funded_amnt'])/sum(sim['funded_amnt'])*100),'%')"
   ]
  }
 ],
 "metadata": {
  "kernelspec": {
   "display_name": "Python 3",
   "language": "python",
   "name": "python3"
  },
  "language_info": {
   "codemirror_mode": {
    "name": "ipython",
    "version": 3
   },
   "file_extension": ".py",
   "mimetype": "text/x-python",
   "name": "python",
   "nbconvert_exporter": "python",
   "pygments_lexer": "ipython3",
   "version": "3.6.4"
  }
 },
 "nbformat": 4,
 "nbformat_minor": 2
}
